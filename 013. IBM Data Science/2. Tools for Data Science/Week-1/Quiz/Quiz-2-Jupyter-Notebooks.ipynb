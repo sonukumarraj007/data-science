{
 "cells": [
  {
   "cell_type": "markdown",
   "metadata": {},
   "source": [
    "#### 1. What can you write in Jupyter Notebooks? Select all that apply:"
   ]
  },
  {
   "cell_type": "markdown",
   "metadata": {},
   "source": [
    "##### Ans: \n",
    "<ul>\n",
    "    <li>Code to be executed in one of the kernels (e.g. Python, R or Scala)</li>\n",
    "    <li>Stylized text in a format called \"Markdown\". </li>\n",
    "    <li>HTML code -- HTML can be written and rendered via Markdown cells.</li>\n",
    "</ul>"
   ]
  },
  {
   "cell_type": "markdown",
   "metadata": {},
   "source": [
    "#### 2. What were Jupyter notebooks called before the name was changed to “Jupyter”? "
   ]
  },
  {
   "cell_type": "markdown",
   "metadata": {},
   "source": [
    "##### Ans: IPython notebooks"
   ]
  },
  {
   "cell_type": "markdown",
   "metadata": {},
   "source": [
    "#### 3. True or False? If you wrote \"# Hi there\" in Markdown, this would be the equivalent of writing <h1>Hi there</h1> in HTML. (If you're not sure, now is a good time to search for a Markdown guide!)"
   ]
  },
  {
   "cell_type": "markdown",
   "metadata": {},
   "source": [
    "##### Ans: True"
   ]
  },
  {
   "cell_type": "markdown",
   "metadata": {},
   "source": [
    "#### 4. Which of the following options are TRUE? Select all that apply."
   ]
  },
  {
   "cell_type": "markdown",
   "metadata": {},
   "source": [
    "##### Ans: \n",
    "<ul>\n",
    "    <li>You can download and save Jupyter Notebooks as .ipynb files.</li>\n",
    "    <li>You can change kernels within a Jupyter Notebook (e.g., to R or Python or Scala).</li>\n",
    "    <li>You can connect to databases from within Jupyter Notebooks.</li>\n",
    "</ul>"
   ]
  },
  {
   "cell_type": "markdown",
   "metadata": {},
   "source": [
    "#### 5. True or False? Although you can change the kernel of the Jupyter Notebook between different programming languages (e.g., Python, R, Scala), you cannot use multiple kernels within the same Jupyter notebook (e.g., running Python, R and Scala within the same notebook)."
   ]
  },
  {
   "cell_type": "markdown",
   "metadata": {},
   "source": [
    "##### Ans: True"
   ]
  }
 ],
 "metadata": {
  "kernelspec": {
   "display_name": "Python 3",
   "language": "python",
   "name": "python3"
  },
  "language_info": {
   "codemirror_mode": {
    "name": "ipython",
    "version": 3
   },
   "file_extension": ".py",
   "mimetype": "text/x-python",
   "name": "python",
   "nbconvert_exporter": "python",
   "pygments_lexer": "ipython3",
   "version": "3.6.4"
  }
 },
 "nbformat": 4,
 "nbformat_minor": 2
}
