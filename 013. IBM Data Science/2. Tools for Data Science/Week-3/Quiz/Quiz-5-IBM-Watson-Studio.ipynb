{
 "cells": [
  {
   "cell_type": "markdown",
   "metadata": {},
   "source": [
    "#### 1. What is the key difference between Cognitive Class Labs and IBM Watson Studio (Data Science Experience)?"
   ]
  },
  {
   "cell_type": "markdown",
   "metadata": {},
   "source": [
    "##### Ans: IBM Watson Studio is an enterprise-ready environment with scalability in mind, whereas Cognitive Class Labs is primarily a learning environment."
   ]
  },
  {
   "cell_type": "markdown",
   "metadata": {},
   "source": [
    "#### 2. True or False? The only way to add notebooks to your project on IBM Watson Studio is to either create an empty notebook, or upload a notebook from your computer."
   ]
  },
  {
   "cell_type": "markdown",
   "metadata": {},
   "source": [
    "##### Ans: False"
   ]
  },
  {
   "cell_type": "markdown",
   "metadata": {},
   "source": [
    "#### 3. Which of the follow options are correct? Select all that apply:"
   ]
  },
  {
   "cell_type": "markdown",
   "metadata": {},
   "source": [
    "##### Ans: \n",
    "<ul>\n",
    "    <li>You can add collaborators to projects</li>\n",
    "    <li>Collaborators on a project can add comments to notebooks.</li>\n",
    "    <li>You can use Python 3, R or Scala with Jupyter Notebooks on Watson Studio</li>\n",
    "</ul>"
   ]
  },
  {
   "cell_type": "markdown",
   "metadata": {},
   "source": [
    "#### 4. In the upper right-hand corner of a Jupyter Notebook is the kernel interpreter (e.g., Python 3). Next to it is a circle. What does it mean if the circle is a full, black circle and what should you do?"
   ]
  },
  {
   "cell_type": "markdown",
   "metadata": {},
   "source": [
    "##### Ans: A black circle means that the kernel is not ready to execute more code. You can either wait, interrupt, or try to restart the kernel."
   ]
  },
  {
   "cell_type": "markdown",
   "metadata": {},
   "source": [
    "#### 5. True or False? RStudio is available on IBM Watson Studio"
   ]
  },
  {
   "cell_type": "markdown",
   "metadata": {},
   "source": [
    "##### Ans: True"
   ]
  }
 ],
 "metadata": {
  "kernelspec": {
   "display_name": "Python 3",
   "language": "python",
   "name": "python3"
  },
  "language_info": {
   "codemirror_mode": {
    "name": "ipython",
    "version": 3
   },
   "file_extension": ".py",
   "mimetype": "text/x-python",
   "name": "python",
   "nbconvert_exporter": "python",
   "pygments_lexer": "ipython3",
   "version": "3.6.4"
  }
 },
 "nbformat": 4,
 "nbformat_minor": 2
}
