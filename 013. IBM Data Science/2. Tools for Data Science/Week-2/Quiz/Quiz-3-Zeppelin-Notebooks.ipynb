{
 "cells": [
  {
   "cell_type": "markdown",
   "metadata": {},
   "source": [
    "#### 1. Apache Zeppelin lets you:"
   ]
  },
  {
   "cell_type": "markdown",
   "metadata": {},
   "source": [
    "##### Ans: \n",
    "<ul>\n",
    "    <li>Document your code.</li>\n",
    "    <li>Display your output.</li>\n",
    "    <li>Show your visualizations within the Zeppelin notebook.</li>\n",
    "    <li>Switch between multiple languages.</li>\n",
    "    <li>All of the above</li>\n",
    "</ul>"
   ]
  },
  {
   "cell_type": "markdown",
   "metadata": {},
   "source": [
    "#### 2. Which IS NOT an interpreter supported by Zeppelin?"
   ]
  },
  {
   "cell_type": "markdown",
   "metadata": {},
   "source": [
    "##### Ans: Matlab"
   ]
  },
  {
   "cell_type": "markdown",
   "metadata": {},
   "source": [
    "#### 3. Major benefits to using Zeppelin over Jupyter notebooks include:"
   ]
  },
  {
   "cell_type": "markdown",
   "metadata": {},
   "source": [
    "##### Ans: \n",
    "<ul>\n",
    "    <li>Some visualizations are automatically generated in Zeppelin, thus minimizing code required</li>\n",
    "    <li>You can use multiple languages in the same notebook in Zeppelin, but not in Jupyter</li>\n",
    "    <li>Both of the above</li>\n",
    "</ul>"
   ]
  },
  {
   "cell_type": "markdown",
   "metadata": {},
   "source": [
    "#### 4. True or False? You cannot customize the width of your cells in a Zeppelin notebook."
   ]
  },
  {
   "cell_type": "markdown",
   "metadata": {},
   "source": [
    "##### Ans: False"
   ]
  },
  {
   "cell_type": "markdown",
   "metadata": {},
   "source": [
    "#### 5. True or False? You can use multiple programming languages within the same Zeppelin notebook, and they can even operate on the same data."
   ]
  },
  {
   "cell_type": "markdown",
   "metadata": {},
   "source": [
    "##### Ans: True"
   ]
  }
 ],
 "metadata": {
  "kernelspec": {
   "display_name": "Python 3",
   "language": "python",
   "name": "python3"
  },
  "language_info": {
   "codemirror_mode": {
    "name": "ipython",
    "version": 3
   },
   "file_extension": ".py",
   "mimetype": "text/x-python",
   "name": "python",
   "nbconvert_exporter": "python",
   "pygments_lexer": "ipython3",
   "version": "3.6.4"
  }
 },
 "nbformat": 4,
 "nbformat_minor": 2
}
