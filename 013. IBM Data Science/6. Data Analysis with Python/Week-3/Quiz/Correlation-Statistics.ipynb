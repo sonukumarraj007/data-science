{
 "cells": [
  {
   "cell_type": "markdown",
   "metadata": {},
   "source": [
    "#### 1. Select the scatter plot with the correlation coefficient of -1"
   ]
  },
  {
   "cell_type": "markdown",
   "metadata": {},
   "source": [
    "##### Ans: <img src=\"https://d3c33hcgiwev3.cloudfront.net/imageAssetProxy.v1/KU6oDznjEeidXxL-BXBIhA_c53c131579b2994bb907f775a33aec18_Screen-Shot-2018-04-06-at-4.51.49-PM.png?expiry=1539302400000&amp;hmac=nNQqQcxB9I1uo1z3OXk-zYBuFYynntq1rgIxdWFP54Q\" alt=\"\">"
   ]
  },
  {
   "cell_type": "markdown",
   "metadata": {},
   "source": [
    "#### 2. Consider the following scatter plots a,b and c. What plot would have the highest correlation coefficient (this one is harder than it seems)\n",
    "<img src=\"https://d3c33hcgiwev3.cloudfront.net/imageAssetProxy.v1/A7kdbTnkEeiUEwpDBScAAA_f4555bfc2772dc4a173fcf275795d0e1_Screen-Shot-2018-04-06-at-5.45.21-PM.png?expiry=1539302400000&amp;hmac=8Nes87tipD1duWt_haxFbdqWOY3chYkoauUyGgCg8Gs\" alt=\"\">"
   ]
  },
  {
   "cell_type": "markdown",
   "metadata": {},
   "source": [
    "##### Ans: they all have the same value"
   ]
  }
 ],
 "metadata": {
  "kernelspec": {
   "display_name": "Python 3",
   "language": "python",
   "name": "python3"
  },
  "language_info": {
   "codemirror_mode": {
    "name": "ipython",
    "version": 3
   },
   "file_extension": ".py",
   "mimetype": "text/x-python",
   "name": "python",
   "nbconvert_exporter": "python",
   "pygments_lexer": "ipython3",
   "version": "3.6.4"
  }
 },
 "nbformat": 4,
 "nbformat_minor": 2
}
