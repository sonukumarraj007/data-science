{
 "cells": [
  {
   "cell_type": "markdown",
   "metadata": {},
   "source": [
    "#### 1.Consider the dataframe df , how many different groups would there be if you applied the groupby method to the column 'A'\n",
    "<img src=\"https://d3c33hcgiwev3.cloudfront.net/imageAssetProxy.v1/fpm1RjnVEeiUEwpDBScAAA_e85476a605f6a21596cfdb779136efe2_Screen-Shot-2018-04-06-at-4.03.42-PM.png?expiry=1539216000000&amp;hmac=nKcE9j9EhigBElRFB58yZ17l7cMltrvkTycBfsegF_Y\" alt=\"\">"
   ]
  },
  {
   "cell_type": "markdown",
   "metadata": {},
   "source": [
    "##### Ans: 3"
   ]
  },
  {
   "cell_type": "markdown",
   "metadata": {},
   "source": [
    "#### 2. Select the appropriate description of a pivot table"
   ]
  },
  {
   "cell_type": "markdown",
   "metadata": {},
   "source": [
    "##### Ans: A pivot table has one variable displayed along the columns and the other variable displayed along the rows. "
   ]
  }
 ],
 "metadata": {
  "kernelspec": {
   "display_name": "Python 3",
   "language": "python",
   "name": "python3"
  },
  "language_info": {
   "codemirror_mode": {
    "name": "ipython",
    "version": 3
   },
   "file_extension": ".py",
   "mimetype": "text/x-python",
   "name": "python",
   "nbconvert_exporter": "python",
   "pygments_lexer": "ipython3",
   "version": "3.6.4"
  }
 },
 "nbformat": 4,
 "nbformat_minor": 2
}
