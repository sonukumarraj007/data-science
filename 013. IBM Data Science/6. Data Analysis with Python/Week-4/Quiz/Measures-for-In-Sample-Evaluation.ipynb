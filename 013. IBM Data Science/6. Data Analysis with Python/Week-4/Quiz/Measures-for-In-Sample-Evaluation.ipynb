{
 "cells": [
  {
   "cell_type": "markdown",
   "metadata": {},
   "source": [
    "#### 1. Given the following values, what is the minimum value of R^2:"
   ]
  },
  {
   "cell_type": "markdown",
   "metadata": {},
   "source": [
    "##### Ans: 0"
   ]
  },
  {
   "cell_type": "markdown",
   "metadata": {},
   "source": [
    "#### 2. select the correct function to calculate the mean squared error between yhat and y"
   ]
  },
  {
   "cell_type": "raw",
   "metadata": {},
   "source": [
    "##### Ans: \n",
    "form  sklearn.metrixs import mean_squared_error\n",
    "mean_squared_error(y,yhat)"
   ]
  }
 ],
 "metadata": {
  "kernelspec": {
   "display_name": "Python 3",
   "language": "python",
   "name": "python3"
  },
  "language_info": {
   "codemirror_mode": {
    "name": "ipython",
    "version": 3
   },
   "file_extension": ".py",
   "mimetype": "text/x-python",
   "name": "python",
   "nbconvert_exporter": "python",
   "pygments_lexer": "ipython3",
   "version": "3.6.4"
  }
 },
 "nbformat": 4,
 "nbformat_minor": 2
}
