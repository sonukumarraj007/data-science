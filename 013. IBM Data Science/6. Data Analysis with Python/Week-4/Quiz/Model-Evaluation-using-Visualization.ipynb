{
 "cells": [
  {
   "cell_type": "markdown",
   "metadata": {},
   "source": [
    "#### 1. Consider the following Residual Plot, is our linear model correct :\n",
    "<img src=\"https://d3c33hcgiwev3.cloudfront.net/imageAssetProxy.v1/Ul4kvjnnEeiM9Q4Js9CcVg_ced175ed7d43ea88b0ae95751bd3c150_Screen-Shot-2018-04-06-at-6.07.40-PM.png?expiry=1545868800000&amp;hmac=I41mCiRpWmjgvyWvfTrrn0KgO9wlaGRnG-n6XF7U-uU\" alt=\"\">"
   ]
  },
  {
   "cell_type": "markdown",
   "metadata": {},
   "source": [
    "##### Ans: no"
   ]
  },
  {
   "cell_type": "markdown",
   "metadata": {},
   "source": [
    "#### 2. Select the distribution plot the demonstrates the best-predicted values compared to actual values "
   ]
  },
  {
   "cell_type": "markdown",
   "metadata": {},
   "source": [
    "##### Ans: <img src=\"https://d3c33hcgiwev3.cloudfront.net/imageAssetProxy.v1/6xOyoznpEeiUEwpDBScAAA_ad38a8ef6a029b9ca2c24ccbf547a10a_Screen-Shot-2018-04-06-at-6.29.26-PM.png?expiry=1545868800000&amp;hmac=OES0QsOjYVAm5QLBGTXjxBsFSTN9-iOVV-ZrEKoWlmU\" alt=\"\">"
   ]
  },
  {
   "cell_type": "code",
   "execution_count": null,
   "metadata": {},
   "outputs": [],
   "source": []
  }
 ],
 "metadata": {
  "kernelspec": {
   "display_name": "Python 3",
   "language": "python",
   "name": "python3"
  },
  "language_info": {
   "codemirror_mode": {
    "name": "ipython",
    "version": 3
   },
   "file_extension": ".py",
   "mimetype": "text/x-python",
   "name": "python",
   "nbconvert_exporter": "python",
   "pygments_lexer": "ipython3",
   "version": "3.6.4"
  }
 },
 "nbformat": 4,
 "nbformat_minor": 2
}
