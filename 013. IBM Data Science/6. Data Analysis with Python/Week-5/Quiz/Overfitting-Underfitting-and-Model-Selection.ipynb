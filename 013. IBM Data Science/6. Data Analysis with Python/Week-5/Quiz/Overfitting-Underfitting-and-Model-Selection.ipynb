{
 "cells": [
  {
   "cell_type": "markdown",
   "metadata": {},
   "source": [
    "#### 1. In the following plot, the vertical axis shows the mean square error and the horizontal axis represents the order of the polynomial. The red line represents the training error the blue line is the test error. Should you select the 16 order polynomial.\n",
    "<img src=\"https://d3c33hcgiwev3.cloudfront.net/imageAssetProxy.v1/zvkBIjdwEeiTdwrluHC9aA_d911f48cdca511df5e35160377e51941_Screen-Shot-2018-04-03-at-2.56.50-PM.png?expiry=1545868800000&amp;hmac=27xzk6f9dfF_F9AItPEBhSvwvNv98uhM7UOkDJkG4sI\" alt=\"\">"
   ]
  },
  {
   "cell_type": "markdown",
   "metadata": {},
   "source": [
    "##### Ans: no"
   ]
  },
  {
   "cell_type": "markdown",
   "metadata": {},
   "source": [
    "#### 2. what model would have the lowest training error \n",
    "<img src=\"https://d3c33hcgiwev3.cloudfront.net/imageAssetProxy.v1/P-hq2zrDEeiUEwpDBScAAA_f641d37e16d856555e58f334031ba94f_Screen-Shot-2018-04-07-at-8.15.17-PM.png?expiry=1545868800000&amp;hmac=mMxdNi9w1yby2sRPEKQoJLIxq8AIWGkvD0AZumZQgmI\" alt=\"\">"
   ]
  },
  {
   "cell_type": "markdown",
   "metadata": {},
   "source": [
    "##### Ans: b"
   ]
  }
 ],
 "metadata": {
  "kernelspec": {
   "display_name": "Python 3",
   "language": "python",
   "name": "python3"
  },
  "language_info": {
   "codemirror_mode": {
    "name": "ipython",
    "version": 3
   },
   "file_extension": ".py",
   "mimetype": "text/x-python",
   "name": "python",
   "nbconvert_exporter": "python",
   "pygments_lexer": "ipython3",
   "version": "3.7.6"
  }
 },
 "nbformat": 4,
 "nbformat_minor": 2
}
