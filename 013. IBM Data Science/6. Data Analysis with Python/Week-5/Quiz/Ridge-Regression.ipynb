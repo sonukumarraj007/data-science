{
 "cells": [
  {
   "cell_type": "markdown",
   "metadata": {},
   "source": [
    "#### 1. select the model with the optimum value of alpha:\n",
    "<img src=\"https://d3c33hcgiwev3.cloudfront.net/imageAssetProxy.v1/7CyJYzrFEeiUEwpDBScAAA_e4af9f072781943b913b2ad4aa0ab12a_Screen-Shot-2018-04-07-at-8.44.32-PM.png?expiry=1545868800000&amp;hmac=wcLE0fOosp4LC8V4VryI1FyzwOjw9626OxUcmT5dctE\" alt=\"\">"
   ]
  },
  {
   "cell_type": "markdown",
   "metadata": {},
   "source": [
    "##### Ans: b"
   ]
  },
  {
   "cell_type": "markdown",
   "metadata": {},
   "source": [
    "#### 2. the following models were all trained on the same data, select the model with the lowest value for alpha:\n",
    "<img src=\"https://d3c33hcgiwev3.cloudfront.net/imageAssetProxy.v1/KlDHuTrHEeidXxL-BXBIhA_be0c7b719b34c05cd0ada4e839c480d6_Screen-Shot-2018-04-07-at-8.44.32-PM.png?expiry=1545868800000&amp;hmac=KLONkxf3mjwz9Fh5u-o5eInEKyqoA996XZVNCYjBzio\" alt=\"\">"
   ]
  },
  {
   "cell_type": "markdown",
   "metadata": {},
   "source": [
    "##### Ans: a"
   ]
  },
  {
   "cell_type": "code",
   "execution_count": null,
   "metadata": {},
   "outputs": [],
   "source": []
  }
 ],
 "metadata": {
  "kernelspec": {
   "display_name": "Python 3",
   "language": "python",
   "name": "python3"
  },
  "language_info": {
   "codemirror_mode": {
    "name": "ipython",
    "version": 3
   },
   "file_extension": ".py",
   "mimetype": "text/x-python",
   "name": "python",
   "nbconvert_exporter": "python",
   "pygments_lexer": "ipython3",
   "version": "3.7.6"
  }
 },
 "nbformat": 4,
 "nbformat_minor": 2
}
