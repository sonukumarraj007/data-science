{
 "cells": [
  {
   "cell_type": "markdown",
   "metadata": {},
   "source": [
    "<table style=\"float:left; border:none\">\n",
    "   <tr style=\"border:none\">\n",
    "       <td style=\"border:none\">\n",
    "           <a href=\"https://bokeh.org/\">     \n",
    "           <img \n",
    "               src=\"assets/bokeh-transparent.png\" \n",
    "               style=\"width:50px\"\n",
    "           >\n",
    "           </a>    \n",
    "       </td>\n",
    "       <td style=\"border:none\">\n",
    "           <h1>Bokeh Tutorial</h1>\n",
    "       </td>\n",
    "   </tr>\n",
    "</table>\n",
    "\n",
    "<div style=\"float:right;\"><h2>06. Linking and Interactions</h2></div>"
   ]
  },
  {
   "cell_type": "code",
   "execution_count": 1,
   "metadata": {},
   "outputs": [
    {
     "data": {
      "text/html": [
       "\n",
       "    <div class=\"bk-root\">\n",
       "        <a href=\"https://bokeh.org\" target=\"_blank\" class=\"bk-logo bk-logo-small bk-logo-notebook\"></a>\n",
       "        <span id=\"1001\">Loading BokehJS ...</span>\n",
       "    </div>"
      ]
     },
     "metadata": {},
     "output_type": "display_data"
    },
    {
     "data": {
      "application/javascript": [
       "\n",
       "(function(root) {\n",
       "  function now() {\n",
       "    return new Date();\n",
       "  }\n",
       "\n",
       "  var force = true;\n",
       "\n",
       "  if (typeof root._bokeh_onload_callbacks === \"undefined\" || force === true) {\n",
       "    root._bokeh_onload_callbacks = [];\n",
       "    root._bokeh_is_loading = undefined;\n",
       "  }\n",
       "\n",
       "  var JS_MIME_TYPE = 'application/javascript';\n",
       "  var HTML_MIME_TYPE = 'text/html';\n",
       "  var EXEC_MIME_TYPE = 'application/vnd.bokehjs_exec.v0+json';\n",
       "  var CLASS_NAME = 'output_bokeh rendered_html';\n",
       "\n",
       "  /**\n",
       "   * Render data to the DOM node\n",
       "   */\n",
       "  function render(props, node) {\n",
       "    var script = document.createElement(\"script\");\n",
       "    node.appendChild(script);\n",
       "  }\n",
       "\n",
       "  /**\n",
       "   * Handle when an output is cleared or removed\n",
       "   */\n",
       "  function handleClearOutput(event, handle) {\n",
       "    var cell = handle.cell;\n",
       "\n",
       "    var id = cell.output_area._bokeh_element_id;\n",
       "    var server_id = cell.output_area._bokeh_server_id;\n",
       "    // Clean up Bokeh references\n",
       "    if (id != null && id in Bokeh.index) {\n",
       "      Bokeh.index[id].model.document.clear();\n",
       "      delete Bokeh.index[id];\n",
       "    }\n",
       "\n",
       "    if (server_id !== undefined) {\n",
       "      // Clean up Bokeh references\n",
       "      var cmd = \"from bokeh.io.state import curstate; print(curstate().uuid_to_server['\" + server_id + \"'].get_sessions()[0].document.roots[0]._id)\";\n",
       "      cell.notebook.kernel.execute(cmd, {\n",
       "        iopub: {\n",
       "          output: function(msg) {\n",
       "            var id = msg.content.text.trim();\n",
       "            if (id in Bokeh.index) {\n",
       "              Bokeh.index[id].model.document.clear();\n",
       "              delete Bokeh.index[id];\n",
       "            }\n",
       "          }\n",
       "        }\n",
       "      });\n",
       "      // Destroy server and session\n",
       "      var cmd = \"import bokeh.io.notebook as ion; ion.destroy_server('\" + server_id + \"')\";\n",
       "      cell.notebook.kernel.execute(cmd);\n",
       "    }\n",
       "  }\n",
       "\n",
       "  /**\n",
       "   * Handle when a new output is added\n",
       "   */\n",
       "  function handleAddOutput(event, handle) {\n",
       "    var output_area = handle.output_area;\n",
       "    var output = handle.output;\n",
       "\n",
       "    // limit handleAddOutput to display_data with EXEC_MIME_TYPE content only\n",
       "    if ((output.output_type != \"display_data\") || (!output.data.hasOwnProperty(EXEC_MIME_TYPE))) {\n",
       "      return\n",
       "    }\n",
       "\n",
       "    var toinsert = output_area.element.find(\".\" + CLASS_NAME.split(' ')[0]);\n",
       "\n",
       "    if (output.metadata[EXEC_MIME_TYPE][\"id\"] !== undefined) {\n",
       "      toinsert[toinsert.length - 1].firstChild.textContent = output.data[JS_MIME_TYPE];\n",
       "      // store reference to embed id on output_area\n",
       "      output_area._bokeh_element_id = output.metadata[EXEC_MIME_TYPE][\"id\"];\n",
       "    }\n",
       "    if (output.metadata[EXEC_MIME_TYPE][\"server_id\"] !== undefined) {\n",
       "      var bk_div = document.createElement(\"div\");\n",
       "      bk_div.innerHTML = output.data[HTML_MIME_TYPE];\n",
       "      var script_attrs = bk_div.children[0].attributes;\n",
       "      for (var i = 0; i < script_attrs.length; i++) {\n",
       "        toinsert[toinsert.length - 1].firstChild.setAttribute(script_attrs[i].name, script_attrs[i].value);\n",
       "      }\n",
       "      // store reference to server id on output_area\n",
       "      output_area._bokeh_server_id = output.metadata[EXEC_MIME_TYPE][\"server_id\"];\n",
       "    }\n",
       "  }\n",
       "\n",
       "  function register_renderer(events, OutputArea) {\n",
       "\n",
       "    function append_mime(data, metadata, element) {\n",
       "      // create a DOM node to render to\n",
       "      var toinsert = this.create_output_subarea(\n",
       "        metadata,\n",
       "        CLASS_NAME,\n",
       "        EXEC_MIME_TYPE\n",
       "      );\n",
       "      this.keyboard_manager.register_events(toinsert);\n",
       "      // Render to node\n",
       "      var props = {data: data, metadata: metadata[EXEC_MIME_TYPE]};\n",
       "      render(props, toinsert[toinsert.length - 1]);\n",
       "      element.append(toinsert);\n",
       "      return toinsert\n",
       "    }\n",
       "\n",
       "    /* Handle when an output is cleared or removed */\n",
       "    events.on('clear_output.CodeCell', handleClearOutput);\n",
       "    events.on('delete.Cell', handleClearOutput);\n",
       "\n",
       "    /* Handle when a new output is added */\n",
       "    events.on('output_added.OutputArea', handleAddOutput);\n",
       "\n",
       "    /**\n",
       "     * Register the mime type and append_mime function with output_area\n",
       "     */\n",
       "    OutputArea.prototype.register_mime_type(EXEC_MIME_TYPE, append_mime, {\n",
       "      /* Is output safe? */\n",
       "      safe: true,\n",
       "      /* Index of renderer in `output_area.display_order` */\n",
       "      index: 0\n",
       "    });\n",
       "  }\n",
       "\n",
       "  // register the mime type if in Jupyter Notebook environment and previously unregistered\n",
       "  if (root.Jupyter !== undefined) {\n",
       "    var events = require('base/js/events');\n",
       "    var OutputArea = require('notebook/js/outputarea').OutputArea;\n",
       "\n",
       "    if (OutputArea.prototype.mime_types().indexOf(EXEC_MIME_TYPE) == -1) {\n",
       "      register_renderer(events, OutputArea);\n",
       "    }\n",
       "  }\n",
       "\n",
       "  \n",
       "  if (typeof (root._bokeh_timeout) === \"undefined\" || force === true) {\n",
       "    root._bokeh_timeout = Date.now() + 5000;\n",
       "    root._bokeh_failed_load = false;\n",
       "  }\n",
       "\n",
       "  var NB_LOAD_WARNING = {'data': {'text/html':\n",
       "     \"<div style='background-color: #fdd'>\\n\"+\n",
       "     \"<p>\\n\"+\n",
       "     \"BokehJS does not appear to have successfully loaded. If loading BokehJS from CDN, this \\n\"+\n",
       "     \"may be due to a slow or bad network connection. Possible fixes:\\n\"+\n",
       "     \"</p>\\n\"+\n",
       "     \"<ul>\\n\"+\n",
       "     \"<li>re-rerun `output_notebook()` to attempt to load from CDN again, or</li>\\n\"+\n",
       "     \"<li>use INLINE resources instead, as so:</li>\\n\"+\n",
       "     \"</ul>\\n\"+\n",
       "     \"<code>\\n\"+\n",
       "     \"from bokeh.resources import INLINE\\n\"+\n",
       "     \"output_notebook(resources=INLINE)\\n\"+\n",
       "     \"</code>\\n\"+\n",
       "     \"</div>\"}};\n",
       "\n",
       "  function display_loaded() {\n",
       "    var el = document.getElementById(\"1001\");\n",
       "    if (el != null) {\n",
       "      el.textContent = \"BokehJS is loading...\";\n",
       "    }\n",
       "    if (root.Bokeh !== undefined) {\n",
       "      if (el != null) {\n",
       "        el.textContent = \"BokehJS \" + root.Bokeh.version + \" successfully loaded.\";\n",
       "      }\n",
       "    } else if (Date.now() < root._bokeh_timeout) {\n",
       "      setTimeout(display_loaded, 100)\n",
       "    }\n",
       "  }\n",
       "\n",
       "\n",
       "  function run_callbacks() {\n",
       "    try {\n",
       "      root._bokeh_onload_callbacks.forEach(function(callback) {\n",
       "        if (callback != null)\n",
       "          callback();\n",
       "      });\n",
       "    } finally {\n",
       "      delete root._bokeh_onload_callbacks\n",
       "    }\n",
       "    console.debug(\"Bokeh: all callbacks have finished\");\n",
       "  }\n",
       "\n",
       "  function load_libs(css_urls, js_urls, callback) {\n",
       "    if (css_urls == null) css_urls = [];\n",
       "    if (js_urls == null) js_urls = [];\n",
       "\n",
       "    root._bokeh_onload_callbacks.push(callback);\n",
       "    if (root._bokeh_is_loading > 0) {\n",
       "      console.debug(\"Bokeh: BokehJS is being loaded, scheduling callback at\", now());\n",
       "      return null;\n",
       "    }\n",
       "    if (js_urls == null || js_urls.length === 0) {\n",
       "      run_callbacks();\n",
       "      return null;\n",
       "    }\n",
       "    console.debug(\"Bokeh: BokehJS not loaded, scheduling load and callback at\", now());\n",
       "    root._bokeh_is_loading = css_urls.length + js_urls.length;\n",
       "\n",
       "    function on_load() {\n",
       "      root._bokeh_is_loading--;\n",
       "      if (root._bokeh_is_loading === 0) {\n",
       "        console.debug(\"Bokeh: all BokehJS libraries/stylesheets loaded\");\n",
       "        run_callbacks()\n",
       "      }\n",
       "    }\n",
       "\n",
       "    function on_error() {\n",
       "      console.error(\"failed to load \" + url);\n",
       "    }\n",
       "\n",
       "    for (var i = 0; i < css_urls.length; i++) {\n",
       "      var url = css_urls[i];\n",
       "      const element = document.createElement(\"link\");\n",
       "      element.onload = on_load;\n",
       "      element.onerror = on_error;\n",
       "      element.rel = \"stylesheet\";\n",
       "      element.type = \"text/css\";\n",
       "      element.href = url;\n",
       "      console.debug(\"Bokeh: injecting link tag for BokehJS stylesheet: \", url);\n",
       "      document.body.appendChild(element);\n",
       "    }\n",
       "\n",
       "    for (var i = 0; i < js_urls.length; i++) {\n",
       "      var url = js_urls[i];\n",
       "      var element = document.createElement('script');\n",
       "      element.onload = on_load;\n",
       "      element.onerror = on_error;\n",
       "      element.async = false;\n",
       "      element.src = url;\n",
       "      console.debug(\"Bokeh: injecting script tag for BokehJS library: \", url);\n",
       "      document.head.appendChild(element);\n",
       "    }\n",
       "  };var element = document.getElementById(\"1001\");\n",
       "  if (element == null) {\n",
       "    console.error(\"Bokeh: ERROR: autoload.js configured with elementid '1001' but no matching script tag was found. \")\n",
       "    return false;\n",
       "  }\n",
       "\n",
       "  function inject_raw_css(css) {\n",
       "    const element = document.createElement(\"style\");\n",
       "    element.appendChild(document.createTextNode(css));\n",
       "    document.body.appendChild(element);\n",
       "  }\n",
       "\n",
       "  \n",
       "  var js_urls = [\"https://cdn.pydata.org/bokeh/release/bokeh-1.4.0.min.js\", \"https://cdn.pydata.org/bokeh/release/bokeh-widgets-1.4.0.min.js\", \"https://cdn.pydata.org/bokeh/release/bokeh-tables-1.4.0.min.js\", \"https://cdn.pydata.org/bokeh/release/bokeh-gl-1.4.0.min.js\"];\n",
       "  var css_urls = [];\n",
       "  \n",
       "\n",
       "  var inline_js = [\n",
       "    function(Bokeh) {\n",
       "      Bokeh.set_log_level(\"info\");\n",
       "    },\n",
       "    function(Bokeh) {\n",
       "    \n",
       "    \n",
       "    }\n",
       "  ];\n",
       "\n",
       "  function run_inline_js() {\n",
       "    \n",
       "    if (root.Bokeh !== undefined || force === true) {\n",
       "      \n",
       "    for (var i = 0; i < inline_js.length; i++) {\n",
       "      inline_js[i].call(root, root.Bokeh);\n",
       "    }\n",
       "    if (force === true) {\n",
       "        display_loaded();\n",
       "      }} else if (Date.now() < root._bokeh_timeout) {\n",
       "      setTimeout(run_inline_js, 100);\n",
       "    } else if (!root._bokeh_failed_load) {\n",
       "      console.log(\"Bokeh: BokehJS failed to load within specified timeout.\");\n",
       "      root._bokeh_failed_load = true;\n",
       "    } else if (force !== true) {\n",
       "      var cell = $(document.getElementById(\"1001\")).parents('.cell').data().cell;\n",
       "      cell.output_area.append_execute_result(NB_LOAD_WARNING)\n",
       "    }\n",
       "\n",
       "  }\n",
       "\n",
       "  if (root._bokeh_is_loading === 0) {\n",
       "    console.debug(\"Bokeh: BokehJS loaded, going straight to plotting\");\n",
       "    run_inline_js();\n",
       "  } else {\n",
       "    load_libs(css_urls, js_urls, function() {\n",
       "      console.debug(\"Bokeh: BokehJS plotting callback run at\", now());\n",
       "      run_inline_js();\n",
       "    });\n",
       "  }\n",
       "}(window));"
      ],
      "application/vnd.bokehjs_load.v0+json": "\n(function(root) {\n  function now() {\n    return new Date();\n  }\n\n  var force = true;\n\n  if (typeof root._bokeh_onload_callbacks === \"undefined\" || force === true) {\n    root._bokeh_onload_callbacks = [];\n    root._bokeh_is_loading = undefined;\n  }\n\n  \n\n  \n  if (typeof (root._bokeh_timeout) === \"undefined\" || force === true) {\n    root._bokeh_timeout = Date.now() + 5000;\n    root._bokeh_failed_load = false;\n  }\n\n  var NB_LOAD_WARNING = {'data': {'text/html':\n     \"<div style='background-color: #fdd'>\\n\"+\n     \"<p>\\n\"+\n     \"BokehJS does not appear to have successfully loaded. If loading BokehJS from CDN, this \\n\"+\n     \"may be due to a slow or bad network connection. Possible fixes:\\n\"+\n     \"</p>\\n\"+\n     \"<ul>\\n\"+\n     \"<li>re-rerun `output_notebook()` to attempt to load from CDN again, or</li>\\n\"+\n     \"<li>use INLINE resources instead, as so:</li>\\n\"+\n     \"</ul>\\n\"+\n     \"<code>\\n\"+\n     \"from bokeh.resources import INLINE\\n\"+\n     \"output_notebook(resources=INLINE)\\n\"+\n     \"</code>\\n\"+\n     \"</div>\"}};\n\n  function display_loaded() {\n    var el = document.getElementById(\"1001\");\n    if (el != null) {\n      el.textContent = \"BokehJS is loading...\";\n    }\n    if (root.Bokeh !== undefined) {\n      if (el != null) {\n        el.textContent = \"BokehJS \" + root.Bokeh.version + \" successfully loaded.\";\n      }\n    } else if (Date.now() < root._bokeh_timeout) {\n      setTimeout(display_loaded, 100)\n    }\n  }\n\n\n  function run_callbacks() {\n    try {\n      root._bokeh_onload_callbacks.forEach(function(callback) {\n        if (callback != null)\n          callback();\n      });\n    } finally {\n      delete root._bokeh_onload_callbacks\n    }\n    console.debug(\"Bokeh: all callbacks have finished\");\n  }\n\n  function load_libs(css_urls, js_urls, callback) {\n    if (css_urls == null) css_urls = [];\n    if (js_urls == null) js_urls = [];\n\n    root._bokeh_onload_callbacks.push(callback);\n    if (root._bokeh_is_loading > 0) {\n      console.debug(\"Bokeh: BokehJS is being loaded, scheduling callback at\", now());\n      return null;\n    }\n    if (js_urls == null || js_urls.length === 0) {\n      run_callbacks();\n      return null;\n    }\n    console.debug(\"Bokeh: BokehJS not loaded, scheduling load and callback at\", now());\n    root._bokeh_is_loading = css_urls.length + js_urls.length;\n\n    function on_load() {\n      root._bokeh_is_loading--;\n      if (root._bokeh_is_loading === 0) {\n        console.debug(\"Bokeh: all BokehJS libraries/stylesheets loaded\");\n        run_callbacks()\n      }\n    }\n\n    function on_error() {\n      console.error(\"failed to load \" + url);\n    }\n\n    for (var i = 0; i < css_urls.length; i++) {\n      var url = css_urls[i];\n      const element = document.createElement(\"link\");\n      element.onload = on_load;\n      element.onerror = on_error;\n      element.rel = \"stylesheet\";\n      element.type = \"text/css\";\n      element.href = url;\n      console.debug(\"Bokeh: injecting link tag for BokehJS stylesheet: \", url);\n      document.body.appendChild(element);\n    }\n\n    for (var i = 0; i < js_urls.length; i++) {\n      var url = js_urls[i];\n      var element = document.createElement('script');\n      element.onload = on_load;\n      element.onerror = on_error;\n      element.async = false;\n      element.src = url;\n      console.debug(\"Bokeh: injecting script tag for BokehJS library: \", url);\n      document.head.appendChild(element);\n    }\n  };var element = document.getElementById(\"1001\");\n  if (element == null) {\n    console.error(\"Bokeh: ERROR: autoload.js configured with elementid '1001' but no matching script tag was found. \")\n    return false;\n  }\n\n  function inject_raw_css(css) {\n    const element = document.createElement(\"style\");\n    element.appendChild(document.createTextNode(css));\n    document.body.appendChild(element);\n  }\n\n  \n  var js_urls = [\"https://cdn.pydata.org/bokeh/release/bokeh-1.4.0.min.js\", \"https://cdn.pydata.org/bokeh/release/bokeh-widgets-1.4.0.min.js\", \"https://cdn.pydata.org/bokeh/release/bokeh-tables-1.4.0.min.js\", \"https://cdn.pydata.org/bokeh/release/bokeh-gl-1.4.0.min.js\"];\n  var css_urls = [];\n  \n\n  var inline_js = [\n    function(Bokeh) {\n      Bokeh.set_log_level(\"info\");\n    },\n    function(Bokeh) {\n    \n    \n    }\n  ];\n\n  function run_inline_js() {\n    \n    if (root.Bokeh !== undefined || force === true) {\n      \n    for (var i = 0; i < inline_js.length; i++) {\n      inline_js[i].call(root, root.Bokeh);\n    }\n    if (force === true) {\n        display_loaded();\n      }} else if (Date.now() < root._bokeh_timeout) {\n      setTimeout(run_inline_js, 100);\n    } else if (!root._bokeh_failed_load) {\n      console.log(\"Bokeh: BokehJS failed to load within specified timeout.\");\n      root._bokeh_failed_load = true;\n    } else if (force !== true) {\n      var cell = $(document.getElementById(\"1001\")).parents('.cell').data().cell;\n      cell.output_area.append_execute_result(NB_LOAD_WARNING)\n    }\n\n  }\n\n  if (root._bokeh_is_loading === 0) {\n    console.debug(\"Bokeh: BokehJS loaded, going straight to plotting\");\n    run_inline_js();\n  } else {\n    load_libs(css_urls, js_urls, function() {\n      console.debug(\"Bokeh: BokehJS plotting callback run at\", now());\n      run_inline_js();\n    });\n  }\n}(window));"
     },
     "metadata": {},
     "output_type": "display_data"
    }
   ],
   "source": [
    "from bokeh.io import output_notebook, show\n",
    "from bokeh.plotting import figure\n",
    "output_notebook()"
   ]
  },
  {
   "cell_type": "markdown",
   "metadata": {},
   "source": [
    "Now that we know from the previous chapter how multiple plots can be placed together in a layout, we can start to look at how different plots can be linked together, or how plots can be linked to widgets. "
   ]
  },
  {
   "cell_type": "markdown",
   "metadata": {},
   "source": [
    "# Linked Interactions\n",
    "\n",
    "It is possible to link various interactions between different Bokeh plots. For instance, the ranges of two (or more) plots can be linked, so that when one of the plots is panned (or zoomed, or otherwise has its range changed) the other plots will update in unison. It is also possible to link selections between two plots, so that when items are selected on one plot, the corresponding items on the second plot also become selected. "
   ]
  },
  {
   "cell_type": "markdown",
   "metadata": {},
   "source": [
    "## Linked panning\n",
    "\n",
    "Linked panning (when multiple plots have ranges that stay in sync) is simple to spell with Bokeh. You simply share the appropriate range objects between two (or more) plots. The example below shows how to accomplish this by linking the ranges of three plots in various ways:"
   ]
  },
  {
   "cell_type": "code",
   "execution_count": 2,
   "metadata": {},
   "outputs": [
    {
     "data": {
      "text/html": [
       "\n",
       "\n",
       "\n",
       "\n",
       "\n",
       "\n",
       "  <div class=\"bk-root\" id=\"04f4fbab-6587-4065-86b7-bc12b1864f90\" data-root-id=\"1116\"></div>\n"
      ]
     },
     "metadata": {},
     "output_type": "display_data"
    },
    {
     "data": {
      "application/javascript": [
       "(function(root) {\n",
       "  function embed_document(root) {\n",
       "    \n",
       "  var docs_json = {\"340cabd4-7f79-49f7-aedc-194f1a2cf3b2\":{\"roots\":{\"references\":[{\"attributes\":{\"children\":[{\"id\":\"1115\",\"type\":\"ToolbarBox\"},{\"id\":\"1113\",\"type\":\"GridBox\"}]},\"id\":\"1116\",\"type\":\"Column\"},{\"attributes\":{\"text\":\"\"},\"id\":\"1095\",\"type\":\"Title\"},{\"attributes\":{},\"id\":\"1076\",\"type\":\"PanTool\"},{\"attributes\":{\"dimension\":1,\"ticker\":{\"id\":\"1017\",\"type\":\"BasicTicker\"}},\"id\":\"1020\",\"type\":\"Grid\"},{\"attributes\":{\"active_drag\":\"auto\",\"active_inspect\":\"auto\",\"active_multi\":null,\"active_scroll\":\"auto\",\"active_tap\":\"auto\",\"tools\":[{\"id\":\"1076\",\"type\":\"PanTool\"},{\"id\":\"1077\",\"type\":\"WheelZoomTool\"}]},\"id\":\"1078\",\"type\":\"Toolbar\"},{\"attributes\":{\"callback\":null,\"data\":{\"x\":[0,1,2,3,4,5,6,7,8,9,10],\"y\":[0,1,2,3,4,5,6,7,8,9,10]},\"selected\":{\"id\":\"1093\",\"type\":\"Selection\"},\"selection_policy\":{\"id\":\"1092\",\"type\":\"UnionRenderers\"}},\"id\":\"1026\",\"type\":\"ColumnDataSource\"},{\"attributes\":{},\"id\":\"1077\",\"type\":\"WheelZoomTool\"},{\"attributes\":{},\"id\":\"1017\",\"type\":\"BasicTicker\"},{\"attributes\":{\"fill_alpha\":{\"value\":0.1},\"fill_color\":{\"value\":\"#1f77b4\"},\"line_alpha\":{\"value\":0.1},\"line_color\":{\"value\":\"#1f77b4\"},\"size\":{\"units\":\"screen\",\"value\":10},\"x\":{\"field\":\"x\"},\"y\":{\"field\":\"y\"}},\"id\":\"1055\",\"type\":\"Triangle\"},{\"attributes\":{},\"id\":\"1021\",\"type\":\"PanTool\"},{\"attributes\":{},\"id\":\"1099\",\"type\":\"BasicTickFormatter\"},{\"attributes\":{\"callback\":null,\"data\":{\"x\":[0,1,2,3,4,5,6,7,8,9,10],\"y\":[10,9,8,7,6,5,4,3,2,1,0]},\"selected\":{\"id\":\"1102\",\"type\":\"Selection\"},\"selection_policy\":{\"id\":\"1101\",\"type\":\"UnionRenderers\"}},\"id\":\"1053\",\"type\":\"ColumnDataSource\"},{\"attributes\":{},\"id\":\"1034\",\"type\":\"LinearScale\"},{\"attributes\":{},\"id\":\"1102\",\"type\":\"Selection\"},{\"attributes\":{\"callback\":null,\"data\":{\"x\":[0,1,2,3,4,5,6,7,8,9,10],\"y\":[5,4,3,2,1,0,1,2,3,4,5]},\"selected\":{\"id\":\"1111\",\"type\":\"Selection\"},\"selection_policy\":{\"id\":\"1110\",\"type\":\"UnionRenderers\"}},\"id\":\"1081\",\"type\":\"ColumnDataSource\"},{\"attributes\":{},\"id\":\"1110\",\"type\":\"UnionRenderers\"},{\"attributes\":{\"source\":{\"id\":\"1026\",\"type\":\"ColumnDataSource\"}},\"id\":\"1030\",\"type\":\"CDSView\"},{\"attributes\":{\"fill_color\":{\"value\":\"firebrick\"},\"line_color\":{\"value\":\"firebrick\"},\"size\":{\"units\":\"screen\",\"value\":10},\"x\":{\"field\":\"x\"},\"y\":{\"field\":\"y\"}},\"id\":\"1054\",\"type\":\"Triangle\"},{\"attributes\":{\"fill_color\":{\"value\":\"olive\"},\"line_color\":{\"value\":\"olive\"},\"size\":{\"units\":\"screen\",\"value\":10},\"x\":{\"field\":\"x\"},\"y\":{\"field\":\"y\"}},\"id\":\"1082\",\"type\":\"Square\"},{\"attributes\":{\"tools\":[{\"id\":\"1021\",\"type\":\"PanTool\"},{\"id\":\"1022\",\"type\":\"WheelZoomTool\"},{\"id\":\"1048\",\"type\":\"PanTool\"},{\"id\":\"1049\",\"type\":\"WheelZoomTool\"},{\"id\":\"1076\",\"type\":\"PanTool\"},{\"id\":\"1077\",\"type\":\"WheelZoomTool\"}]},\"id\":\"1114\",\"type\":\"ProxyToolbar\"},{\"attributes\":{\"text\":\"\"},\"id\":\"1104\",\"type\":\"Title\"},{\"attributes\":{\"fill_color\":{\"value\":\"navy\"},\"line_color\":{\"value\":\"navy\"},\"size\":{\"units\":\"screen\",\"value\":10},\"x\":{\"field\":\"x\"},\"y\":{\"field\":\"y\"}},\"id\":\"1027\",\"type\":\"Circle\"},{\"attributes\":{\"source\":{\"id\":\"1053\",\"type\":\"ColumnDataSource\"}},\"id\":\"1057\",\"type\":\"CDSView\"},{\"attributes\":{\"below\":[{\"id\":\"1011\",\"type\":\"LinearAxis\"}],\"center\":[{\"id\":\"1015\",\"type\":\"Grid\"},{\"id\":\"1020\",\"type\":\"Grid\"}],\"left\":[{\"id\":\"1016\",\"type\":\"LinearAxis\"}],\"plot_height\":250,\"plot_width\":250,\"renderers\":[{\"id\":\"1029\",\"type\":\"GlyphRenderer\"}],\"title\":{\"id\":\"1086\",\"type\":\"Title\"},\"toolbar\":{\"id\":\"1023\",\"type\":\"Toolbar\"},\"toolbar_location\":null,\"x_range\":{\"id\":\"1003\",\"type\":\"DataRange1d\"},\"x_scale\":{\"id\":\"1007\",\"type\":\"LinearScale\"},\"y_range\":{\"id\":\"1005\",\"type\":\"DataRange1d\"},\"y_scale\":{\"id\":\"1009\",\"type\":\"LinearScale\"}},\"id\":\"1002\",\"subtype\":\"Figure\",\"type\":\"Plot\"},{\"attributes\":{\"formatter\":{\"id\":\"1099\",\"type\":\"BasicTickFormatter\"},\"ticker\":{\"id\":\"1039\",\"type\":\"BasicTicker\"}},\"id\":\"1038\",\"type\":\"LinearAxis\"},{\"attributes\":{\"callback\":null},\"id\":\"1060\",\"type\":\"DataRange1d\"},{\"attributes\":{},\"id\":\"1036\",\"type\":\"LinearScale\"},{\"attributes\":{\"fill_alpha\":{\"value\":0.1},\"fill_color\":{\"value\":\"#1f77b4\"},\"line_alpha\":{\"value\":0.1},\"line_color\":{\"value\":\"#1f77b4\"},\"size\":{\"units\":\"screen\",\"value\":10},\"x\":{\"field\":\"x\"},\"y\":{\"field\":\"y\"}},\"id\":\"1083\",\"type\":\"Square\"},{\"attributes\":{\"data_source\":{\"id\":\"1081\",\"type\":\"ColumnDataSource\"},\"glyph\":{\"id\":\"1082\",\"type\":\"Square\"},\"hover_glyph\":null,\"muted_glyph\":null,\"nonselection_glyph\":{\"id\":\"1083\",\"type\":\"Square\"},\"selection_glyph\":null,\"view\":{\"id\":\"1085\",\"type\":\"CDSView\"}},\"id\":\"1084\",\"type\":\"GlyphRenderer\"},{\"attributes\":{\"callback\":null},\"id\":\"1005\",\"type\":\"DataRange1d\"},{\"attributes\":{},\"id\":\"1062\",\"type\":\"LinearScale\"},{\"attributes\":{},\"id\":\"1108\",\"type\":\"BasicTickFormatter\"},{\"attributes\":{\"below\":[{\"id\":\"1038\",\"type\":\"LinearAxis\"}],\"center\":[{\"id\":\"1042\",\"type\":\"Grid\"},{\"id\":\"1047\",\"type\":\"Grid\"}],\"left\":[{\"id\":\"1043\",\"type\":\"LinearAxis\"}],\"plot_height\":250,\"plot_width\":250,\"renderers\":[{\"id\":\"1056\",\"type\":\"GlyphRenderer\"}],\"title\":{\"id\":\"1095\",\"type\":\"Title\"},\"toolbar\":{\"id\":\"1050\",\"type\":\"Toolbar\"},\"toolbar_location\":null,\"x_range\":{\"id\":\"1003\",\"type\":\"DataRange1d\"},\"x_scale\":{\"id\":\"1034\",\"type\":\"LinearScale\"},\"y_range\":{\"id\":\"1005\",\"type\":\"DataRange1d\"},\"y_scale\":{\"id\":\"1036\",\"type\":\"LinearScale\"}},\"id\":\"1031\",\"subtype\":\"Figure\",\"type\":\"Plot\"},{\"attributes\":{\"source\":{\"id\":\"1081\",\"type\":\"ColumnDataSource\"}},\"id\":\"1085\",\"type\":\"CDSView\"},{\"attributes\":{},\"id\":\"1111\",\"type\":\"Selection\"},{\"attributes\":{\"callback\":null},\"id\":\"1003\",\"type\":\"DataRange1d\"},{\"attributes\":{},\"id\":\"1106\",\"type\":\"BasicTickFormatter\"},{\"attributes\":{},\"id\":\"1007\",\"type\":\"LinearScale\"},{\"attributes\":{},\"id\":\"1097\",\"type\":\"BasicTickFormatter\"},{\"attributes\":{\"toolbar\":{\"id\":\"1114\",\"type\":\"ProxyToolbar\"},\"toolbar_location\":\"above\"},\"id\":\"1115\",\"type\":\"ToolbarBox\"},{\"attributes\":{},\"id\":\"1044\",\"type\":\"BasicTicker\"},{\"attributes\":{},\"id\":\"1049\",\"type\":\"WheelZoomTool\"},{\"attributes\":{\"text\":\"\"},\"id\":\"1086\",\"type\":\"Title\"},{\"attributes\":{\"data_source\":{\"id\":\"1053\",\"type\":\"ColumnDataSource\"},\"glyph\":{\"id\":\"1054\",\"type\":\"Triangle\"},\"hover_glyph\":null,\"muted_glyph\":null,\"nonselection_glyph\":{\"id\":\"1055\",\"type\":\"Triangle\"},\"selection_glyph\":null,\"view\":{\"id\":\"1057\",\"type\":\"CDSView\"}},\"id\":\"1056\",\"type\":\"GlyphRenderer\"},{\"attributes\":{},\"id\":\"1064\",\"type\":\"LinearScale\"},{\"attributes\":{},\"id\":\"1039\",\"type\":\"BasicTicker\"},{\"attributes\":{\"ticker\":{\"id\":\"1039\",\"type\":\"BasicTicker\"}},\"id\":\"1042\",\"type\":\"Grid\"},{\"attributes\":{\"formatter\":{\"id\":\"1108\",\"type\":\"BasicTickFormatter\"},\"ticker\":{\"id\":\"1067\",\"type\":\"BasicTicker\"}},\"id\":\"1066\",\"type\":\"LinearAxis\"},{\"attributes\":{},\"id\":\"1088\",\"type\":\"BasicTickFormatter\"},{\"attributes\":{},\"id\":\"1009\",\"type\":\"LinearScale\"},{\"attributes\":{},\"id\":\"1012\",\"type\":\"BasicTicker\"},{\"attributes\":{},\"id\":\"1072\",\"type\":\"BasicTicker\"},{\"attributes\":{},\"id\":\"1092\",\"type\":\"UnionRenderers\"},{\"attributes\":{\"dimension\":1,\"ticker\":{\"id\":\"1044\",\"type\":\"BasicTicker\"}},\"id\":\"1047\",\"type\":\"Grid\"},{\"attributes\":{\"fill_alpha\":{\"value\":0.1},\"fill_color\":{\"value\":\"#1f77b4\"},\"line_alpha\":{\"value\":0.1},\"line_color\":{\"value\":\"#1f77b4\"},\"size\":{\"units\":\"screen\",\"value\":10},\"x\":{\"field\":\"x\"},\"y\":{\"field\":\"y\"}},\"id\":\"1028\",\"type\":\"Circle\"},{\"attributes\":{},\"id\":\"1067\",\"type\":\"BasicTicker\"},{\"attributes\":{\"data_source\":{\"id\":\"1026\",\"type\":\"ColumnDataSource\"},\"glyph\":{\"id\":\"1027\",\"type\":\"Circle\"},\"hover_glyph\":null,\"muted_glyph\":null,\"nonselection_glyph\":{\"id\":\"1028\",\"type\":\"Circle\"},\"selection_glyph\":null,\"view\":{\"id\":\"1030\",\"type\":\"CDSView\"}},\"id\":\"1029\",\"type\":\"GlyphRenderer\"},{\"attributes\":{\"formatter\":{\"id\":\"1097\",\"type\":\"BasicTickFormatter\"},\"ticker\":{\"id\":\"1044\",\"type\":\"BasicTicker\"}},\"id\":\"1043\",\"type\":\"LinearAxis\"},{\"attributes\":{},\"id\":\"1022\",\"type\":\"WheelZoomTool\"},{\"attributes\":{\"formatter\":{\"id\":\"1090\",\"type\":\"BasicTickFormatter\"},\"ticker\":{\"id\":\"1012\",\"type\":\"BasicTicker\"}},\"id\":\"1011\",\"type\":\"LinearAxis\"},{\"attributes\":{\"ticker\":{\"id\":\"1067\",\"type\":\"BasicTicker\"}},\"id\":\"1070\",\"type\":\"Grid\"},{\"attributes\":{\"children\":[[{\"id\":\"1002\",\"subtype\":\"Figure\",\"type\":\"Plot\"},0,0],[{\"id\":\"1031\",\"subtype\":\"Figure\",\"type\":\"Plot\"},0,1],[{\"id\":\"1058\",\"subtype\":\"Figure\",\"type\":\"Plot\"},0,2]]},\"id\":\"1113\",\"type\":\"GridBox\"},{\"attributes\":{\"active_drag\":\"auto\",\"active_inspect\":\"auto\",\"active_multi\":null,\"active_scroll\":\"auto\",\"active_tap\":\"auto\",\"tools\":[{\"id\":\"1048\",\"type\":\"PanTool\"},{\"id\":\"1049\",\"type\":\"WheelZoomTool\"}]},\"id\":\"1050\",\"type\":\"Toolbar\"},{\"attributes\":{},\"id\":\"1090\",\"type\":\"BasicTickFormatter\"},{\"attributes\":{\"formatter\":{\"id\":\"1088\",\"type\":\"BasicTickFormatter\"},\"ticker\":{\"id\":\"1017\",\"type\":\"BasicTicker\"}},\"id\":\"1016\",\"type\":\"LinearAxis\"},{\"attributes\":{\"active_drag\":\"auto\",\"active_inspect\":\"auto\",\"active_multi\":null,\"active_scroll\":\"auto\",\"active_tap\":\"auto\",\"tools\":[{\"id\":\"1021\",\"type\":\"PanTool\"},{\"id\":\"1022\",\"type\":\"WheelZoomTool\"}]},\"id\":\"1023\",\"type\":\"Toolbar\"},{\"attributes\":{\"dimension\":1,\"ticker\":{\"id\":\"1072\",\"type\":\"BasicTicker\"}},\"id\":\"1075\",\"type\":\"Grid\"},{\"attributes\":{},\"id\":\"1093\",\"type\":\"Selection\"},{\"attributes\":{},\"id\":\"1048\",\"type\":\"PanTool\"},{\"attributes\":{\"formatter\":{\"id\":\"1106\",\"type\":\"BasicTickFormatter\"},\"ticker\":{\"id\":\"1072\",\"type\":\"BasicTicker\"}},\"id\":\"1071\",\"type\":\"LinearAxis\"},{\"attributes\":{},\"id\":\"1101\",\"type\":\"UnionRenderers\"},{\"attributes\":{\"below\":[{\"id\":\"1066\",\"type\":\"LinearAxis\"}],\"center\":[{\"id\":\"1070\",\"type\":\"Grid\"},{\"id\":\"1075\",\"type\":\"Grid\"}],\"left\":[{\"id\":\"1071\",\"type\":\"LinearAxis\"}],\"plot_height\":250,\"plot_width\":250,\"renderers\":[{\"id\":\"1084\",\"type\":\"GlyphRenderer\"}],\"title\":{\"id\":\"1104\",\"type\":\"Title\"},\"toolbar\":{\"id\":\"1078\",\"type\":\"Toolbar\"},\"toolbar_location\":null,\"x_range\":{\"id\":\"1003\",\"type\":\"DataRange1d\"},\"x_scale\":{\"id\":\"1062\",\"type\":\"LinearScale\"},\"y_range\":{\"id\":\"1060\",\"type\":\"DataRange1d\"},\"y_scale\":{\"id\":\"1064\",\"type\":\"LinearScale\"}},\"id\":\"1058\",\"subtype\":\"Figure\",\"type\":\"Plot\"},{\"attributes\":{\"ticker\":{\"id\":\"1012\",\"type\":\"BasicTicker\"}},\"id\":\"1015\",\"type\":\"Grid\"}],\"root_ids\":[\"1116\"]},\"title\":\"Bokeh Application\",\"version\":\"1.4.0\"}};\n",
       "  var render_items = [{\"docid\":\"340cabd4-7f79-49f7-aedc-194f1a2cf3b2\",\"roots\":{\"1116\":\"04f4fbab-6587-4065-86b7-bc12b1864f90\"}}];\n",
       "  root.Bokeh.embed.embed_items_notebook(docs_json, render_items);\n",
       "\n",
       "  }\n",
       "  if (root.Bokeh !== undefined) {\n",
       "    embed_document(root);\n",
       "  } else {\n",
       "    var attempts = 0;\n",
       "    var timer = setInterval(function(root) {\n",
       "      if (root.Bokeh !== undefined) {\n",
       "        clearInterval(timer);\n",
       "        embed_document(root);\n",
       "      } else {\n",
       "        attempts++;\n",
       "        if (attempts > 100) {\n",
       "          clearInterval(timer);\n",
       "          console.log(\"Bokeh: ERROR: Unable to run BokehJS code because BokehJS library is missing\");\n",
       "        }\n",
       "      }\n",
       "    }, 10, root)\n",
       "  }\n",
       "})(window);"
      ],
      "application/vnd.bokehjs_exec.v0+json": ""
     },
     "metadata": {
      "application/vnd.bokehjs_exec.v0+json": {
       "id": "1116"
      }
     },
     "output_type": "display_data"
    }
   ],
   "source": [
    "from bokeh.layouts import gridplot\n",
    "\n",
    "x = list(range(11))\n",
    "y0, y1, y2 = x, [10-i for i in x], [abs(i-5) for i in x]\n",
    "\n",
    "plot_options = dict(width=250, plot_height=250, tools='pan,wheel_zoom')\n",
    "\n",
    "# create a new plot\n",
    "s1 = figure(**plot_options)\n",
    "s1.circle(x, y0, size=10, color=\"navy\")\n",
    "\n",
    "# create a new plot and share both ranges\n",
    "s2 = figure(x_range=s1.x_range, y_range=s1.y_range, **plot_options)\n",
    "s2.triangle(x, y1, size=10, color=\"firebrick\")\n",
    "\n",
    "# create a new plot and share only one range\n",
    "s3 = figure(x_range=s1.x_range, **plot_options)\n",
    "s3.square(x, y2, size=10, color=\"olive\")\n",
    "\n",
    "p = gridplot([[s1, s2, s3]])\n",
    "\n",
    "# show the results\n",
    "show(p)"
   ]
  },
  {
   "cell_type": "code",
   "execution_count": 3,
   "metadata": {},
   "outputs": [],
   "source": [
    "# EXERCISE: create two plots in a gridplot, and link their ranges\n"
   ]
  },
  {
   "cell_type": "markdown",
   "metadata": {},
   "source": [
    "## Linked brushing\n",
    "\n",
    "Linking selections is accomplished in a similar way, by sharing data sources between plots. Note that normally with ``bokeh.plotting`` and ``bokeh.charts`` creating a default data source for simple plots is handled automatically. However to share a data source, we must create them by hand and pass them explicitly. This is illustrated in the example below:"
   ]
  },
  {
   "cell_type": "code",
   "execution_count": 4,
   "metadata": {},
   "outputs": [
    {
     "data": {
      "text/html": [
       "\n",
       "\n",
       "\n",
       "\n",
       "\n",
       "\n",
       "  <div class=\"bk-root\" id=\"2f416ef3-5378-4544-9b4a-e7b2cf74a7eb\" data-root-id=\"1373\"></div>\n"
      ]
     },
     "metadata": {},
     "output_type": "display_data"
    },
    {
     "data": {
      "application/javascript": [
       "(function(root) {\n",
       "  function embed_document(root) {\n",
       "    \n",
       "  var docs_json = {\"6c0168db-2847-4968-bcd7-532bc93e0073\":{\"roots\":{\"references\":[{\"attributes\":{\"children\":[{\"id\":\"1372\",\"type\":\"ToolbarBox\"},{\"id\":\"1370\",\"type\":\"GridBox\"}]},\"id\":\"1373\",\"type\":\"Column\"},{\"attributes\":{\"callback\":null,\"data\":{\"x\":[-20,-19,-18,-17,-16,-15,-14,-13,-12,-11,-10,-9,-8,-7,-6,-5,-4,-3,-2,-1,0,1,2,3,4,5,6,7,8,9,10,11,12,13,14,15,16,17,18,19,20],\"y0\":[20,19,18,17,16,15,14,13,12,11,10,9,8,7,6,5,4,3,2,1,0,1,2,3,4,5,6,7,8,9,10,11,12,13,14,15,16,17,18,19,20],\"y1\":[400,361,324,289,256,225,196,169,144,121,100,81,64,49,36,25,16,9,4,1,0,1,4,9,16,25,36,49,64,81,100,121,144,169,196,225,256,289,324,361,400]},\"selected\":{\"id\":\"1355\",\"type\":\"Selection\"},\"selection_policy\":{\"id\":\"1354\",\"type\":\"UnionRenderers\"}},\"id\":\"1285\",\"type\":\"ColumnDataSource\"},{\"attributes\":{},\"id\":\"1361\",\"type\":\"BasicTickFormatter\"},{\"attributes\":{\"tools\":[{\"id\":\"1305\",\"type\":\"BoxSelectTool\"},{\"id\":\"1306\",\"type\":\"LassoSelectTool\"},{\"id\":\"1307\",\"type\":\"HelpTool\"},{\"id\":\"1336\",\"type\":\"BoxSelectTool\"},{\"id\":\"1337\",\"type\":\"LassoSelectTool\"},{\"id\":\"1338\",\"type\":\"HelpTool\"}]},\"id\":\"1371\",\"type\":\"ProxyToolbar\"},{\"attributes\":{\"dimension\":1,\"ticker\":{\"id\":\"1301\",\"type\":\"BasicTicker\"}},\"id\":\"1304\",\"type\":\"Grid\"},{\"attributes\":{\"text\":\"\"},\"id\":\"1348\",\"type\":\"Title\"},{\"attributes\":{},\"id\":\"1301\",\"type\":\"BasicTicker\"},{\"attributes\":{},\"id\":\"1332\",\"type\":\"BasicTicker\"},{\"attributes\":{\"children\":[[{\"id\":\"1286\",\"subtype\":\"Figure\",\"type\":\"Plot\"},0,0],[{\"id\":\"1317\",\"subtype\":\"Figure\",\"type\":\"Plot\"},0,1]]},\"id\":\"1370\",\"type\":\"GridBox\"},{\"attributes\":{},\"id\":\"1350\",\"type\":\"BasicTickFormatter\"},{\"attributes\":{},\"id\":\"1354\",\"type\":\"UnionRenderers\"},{\"attributes\":{\"active_drag\":\"auto\",\"active_inspect\":\"auto\",\"active_multi\":null,\"active_scroll\":\"auto\",\"active_tap\":\"auto\",\"tools\":[{\"id\":\"1305\",\"type\":\"BoxSelectTool\"},{\"id\":\"1306\",\"type\":\"LassoSelectTool\"},{\"id\":\"1307\",\"type\":\"HelpTool\"}]},\"id\":\"1308\",\"type\":\"Toolbar\"},{\"attributes\":{\"ticker\":{\"id\":\"1327\",\"type\":\"BasicTicker\"}},\"id\":\"1330\",\"type\":\"Grid\"},{\"attributes\":{\"callback\":null,\"overlay\":{\"id\":\"1356\",\"type\":\"BoxAnnotation\"}},\"id\":\"1305\",\"type\":\"BoxSelectTool\"},{\"attributes\":{\"formatter\":{\"id\":\"1363\",\"type\":\"BasicTickFormatter\"},\"ticker\":{\"id\":\"1327\",\"type\":\"BasicTicker\"}},\"id\":\"1326\",\"type\":\"LinearAxis\"},{\"attributes\":{\"below\":[{\"id\":\"1326\",\"type\":\"LinearAxis\"}],\"center\":[{\"id\":\"1330\",\"type\":\"Grid\"},{\"id\":\"1335\",\"type\":\"Grid\"}],\"left\":[{\"id\":\"1331\",\"type\":\"LinearAxis\"}],\"plot_height\":300,\"plot_width\":300,\"renderers\":[{\"id\":\"1346\",\"type\":\"GlyphRenderer\"}],\"title\":{\"id\":\"1359\",\"type\":\"Title\"},\"toolbar\":{\"id\":\"1339\",\"type\":\"Toolbar\"},\"toolbar_location\":null,\"x_range\":{\"id\":\"1318\",\"type\":\"DataRange1d\"},\"x_scale\":{\"id\":\"1322\",\"type\":\"LinearScale\"},\"y_range\":{\"id\":\"1320\",\"type\":\"DataRange1d\"},\"y_scale\":{\"id\":\"1324\",\"type\":\"LinearScale\"}},\"id\":\"1317\",\"subtype\":\"Figure\",\"type\":\"Plot\"},{\"attributes\":{\"formatter\":{\"id\":\"1361\",\"type\":\"BasicTickFormatter\"},\"ticker\":{\"id\":\"1332\",\"type\":\"BasicTicker\"}},\"id\":\"1331\",\"type\":\"LinearAxis\"},{\"attributes\":{},\"id\":\"1352\",\"type\":\"BasicTickFormatter\"},{\"attributes\":{\"callback\":null,\"overlay\":{\"id\":\"1357\",\"type\":\"PolyAnnotation\"}},\"id\":\"1306\",\"type\":\"LassoSelectTool\"},{\"attributes\":{\"callback\":null,\"overlay\":{\"id\":\"1368\",\"type\":\"PolyAnnotation\"}},\"id\":\"1337\",\"type\":\"LassoSelectTool\"},{\"attributes\":{},\"id\":\"1338\",\"type\":\"HelpTool\"},{\"attributes\":{\"fill_color\":{\"value\":\"#1f77b4\"},\"line_color\":{\"value\":\"#1f77b4\"},\"x\":{\"field\":\"x\"},\"y\":{\"field\":\"y1\"}},\"id\":\"1344\",\"type\":\"Circle\"},{\"attributes\":{\"active_drag\":\"auto\",\"active_inspect\":\"auto\",\"active_multi\":null,\"active_scroll\":\"auto\",\"active_tap\":\"auto\",\"tools\":[{\"id\":\"1336\",\"type\":\"BoxSelectTool\"},{\"id\":\"1337\",\"type\":\"LassoSelectTool\"},{\"id\":\"1338\",\"type\":\"HelpTool\"}]},\"id\":\"1339\",\"type\":\"Toolbar\"},{\"attributes\":{},\"id\":\"1296\",\"type\":\"BasicTicker\"},{\"attributes\":{},\"id\":\"1355\",\"type\":\"Selection\"},{\"attributes\":{},\"id\":\"1307\",\"type\":\"HelpTool\"},{\"attributes\":{\"bottom_units\":\"screen\",\"fill_alpha\":{\"value\":0.5},\"fill_color\":{\"value\":\"lightgrey\"},\"left_units\":\"screen\",\"level\":\"overlay\",\"line_alpha\":{\"value\":1.0},\"line_color\":{\"value\":\"black\"},\"line_dash\":[4,4],\"line_width\":{\"value\":2},\"render_mode\":\"css\",\"right_units\":\"screen\",\"top_units\":\"screen\"},\"id\":\"1356\",\"type\":\"BoxAnnotation\"},{\"attributes\":{},\"id\":\"1293\",\"type\":\"LinearScale\"},{\"attributes\":{\"dimension\":1,\"ticker\":{\"id\":\"1332\",\"type\":\"BasicTicker\"}},\"id\":\"1335\",\"type\":\"Grid\"},{\"attributes\":{\"fill_alpha\":{\"value\":0.5},\"fill_color\":{\"value\":\"lightgrey\"},\"level\":\"overlay\",\"line_alpha\":{\"value\":1.0},\"line_color\":{\"value\":\"black\"},\"line_dash\":[4,4],\"line_width\":{\"value\":2},\"xs_units\":\"screen\",\"ys_units\":\"screen\"},\"id\":\"1357\",\"type\":\"PolyAnnotation\"},{\"attributes\":{\"formatter\":{\"id\":\"1352\",\"type\":\"BasicTickFormatter\"},\"ticker\":{\"id\":\"1296\",\"type\":\"BasicTicker\"}},\"id\":\"1295\",\"type\":\"LinearAxis\"},{\"attributes\":{},\"id\":\"1291\",\"type\":\"LinearScale\"},{\"attributes\":{\"bottom_units\":\"screen\",\"fill_alpha\":{\"value\":0.5},\"fill_color\":{\"value\":\"lightgrey\"},\"left_units\":\"screen\",\"level\":\"overlay\",\"line_alpha\":{\"value\":1.0},\"line_color\":{\"value\":\"black\"},\"line_dash\":[4,4],\"line_width\":{\"value\":2},\"render_mode\":\"css\",\"right_units\":\"screen\",\"top_units\":\"screen\"},\"id\":\"1367\",\"type\":\"BoxAnnotation\"},{\"attributes\":{\"data_source\":{\"id\":\"1285\",\"type\":\"ColumnDataSource\"},\"glyph\":{\"id\":\"1313\",\"type\":\"Circle\"},\"hover_glyph\":null,\"muted_glyph\":null,\"nonselection_glyph\":{\"id\":\"1314\",\"type\":\"Circle\"},\"selection_glyph\":null,\"view\":{\"id\":\"1316\",\"type\":\"CDSView\"}},\"id\":\"1315\",\"type\":\"GlyphRenderer\"},{\"attributes\":{\"callback\":null,\"overlay\":{\"id\":\"1367\",\"type\":\"BoxAnnotation\"}},\"id\":\"1336\",\"type\":\"BoxSelectTool\"},{\"attributes\":{\"text\":\"\"},\"id\":\"1359\",\"type\":\"Title\"},{\"attributes\":{\"fill_alpha\":{\"value\":0.1},\"fill_color\":{\"value\":\"#1f77b4\"},\"line_alpha\":{\"value\":0.1},\"line_color\":{\"value\":\"#1f77b4\"},\"x\":{\"field\":\"x\"},\"y\":{\"field\":\"y0\"}},\"id\":\"1314\",\"type\":\"Circle\"},{\"attributes\":{},\"id\":\"1324\",\"type\":\"LinearScale\"},{\"attributes\":{},\"id\":\"1327\",\"type\":\"BasicTicker\"},{\"attributes\":{\"source\":{\"id\":\"1285\",\"type\":\"ColumnDataSource\"}},\"id\":\"1316\",\"type\":\"CDSView\"},{\"attributes\":{\"callback\":null},\"id\":\"1289\",\"type\":\"DataRange1d\"},{\"attributes\":{},\"id\":\"1322\",\"type\":\"LinearScale\"},{\"attributes\":{\"ticker\":{\"id\":\"1296\",\"type\":\"BasicTicker\"}},\"id\":\"1299\",\"type\":\"Grid\"},{\"attributes\":{},\"id\":\"1363\",\"type\":\"BasicTickFormatter\"},{\"attributes\":{\"fill_alpha\":{\"value\":0.5},\"fill_color\":{\"value\":\"lightgrey\"},\"level\":\"overlay\",\"line_alpha\":{\"value\":1.0},\"line_color\":{\"value\":\"black\"},\"line_dash\":[4,4],\"line_width\":{\"value\":2},\"xs_units\":\"screen\",\"ys_units\":\"screen\"},\"id\":\"1368\",\"type\":\"PolyAnnotation\"},{\"attributes\":{\"fill_color\":{\"value\":\"#1f77b4\"},\"line_color\":{\"value\":\"#1f77b4\"},\"x\":{\"field\":\"x\"},\"y\":{\"field\":\"y0\"}},\"id\":\"1313\",\"type\":\"Circle\"},{\"attributes\":{\"below\":[{\"id\":\"1295\",\"type\":\"LinearAxis\"}],\"center\":[{\"id\":\"1299\",\"type\":\"Grid\"},{\"id\":\"1304\",\"type\":\"Grid\"}],\"left\":[{\"id\":\"1300\",\"type\":\"LinearAxis\"}],\"plot_height\":300,\"plot_width\":300,\"renderers\":[{\"id\":\"1315\",\"type\":\"GlyphRenderer\"}],\"title\":{\"id\":\"1348\",\"type\":\"Title\"},\"toolbar\":{\"id\":\"1308\",\"type\":\"Toolbar\"},\"toolbar_location\":null,\"x_range\":{\"id\":\"1287\",\"type\":\"DataRange1d\"},\"x_scale\":{\"id\":\"1291\",\"type\":\"LinearScale\"},\"y_range\":{\"id\":\"1289\",\"type\":\"DataRange1d\"},\"y_scale\":{\"id\":\"1293\",\"type\":\"LinearScale\"}},\"id\":\"1286\",\"subtype\":\"Figure\",\"type\":\"Plot\"},{\"attributes\":{\"callback\":null},\"id\":\"1318\",\"type\":\"DataRange1d\"},{\"attributes\":{\"fill_alpha\":{\"value\":0.1},\"fill_color\":{\"value\":\"#1f77b4\"},\"line_alpha\":{\"value\":0.1},\"line_color\":{\"value\":\"#1f77b4\"},\"x\":{\"field\":\"x\"},\"y\":{\"field\":\"y1\"}},\"id\":\"1345\",\"type\":\"Circle\"},{\"attributes\":{\"toolbar\":{\"id\":\"1371\",\"type\":\"ProxyToolbar\"},\"toolbar_location\":\"above\"},\"id\":\"1372\",\"type\":\"ToolbarBox\"},{\"attributes\":{\"callback\":null},\"id\":\"1287\",\"type\":\"DataRange1d\"},{\"attributes\":{\"formatter\":{\"id\":\"1350\",\"type\":\"BasicTickFormatter\"},\"ticker\":{\"id\":\"1301\",\"type\":\"BasicTicker\"}},\"id\":\"1300\",\"type\":\"LinearAxis\"},{\"attributes\":{\"source\":{\"id\":\"1285\",\"type\":\"ColumnDataSource\"}},\"id\":\"1347\",\"type\":\"CDSView\"},{\"attributes\":{\"data_source\":{\"id\":\"1285\",\"type\":\"ColumnDataSource\"},\"glyph\":{\"id\":\"1344\",\"type\":\"Circle\"},\"hover_glyph\":null,\"muted_glyph\":null,\"nonselection_glyph\":{\"id\":\"1345\",\"type\":\"Circle\"},\"selection_glyph\":null,\"view\":{\"id\":\"1347\",\"type\":\"CDSView\"}},\"id\":\"1346\",\"type\":\"GlyphRenderer\"},{\"attributes\":{\"callback\":null},\"id\":\"1320\",\"type\":\"DataRange1d\"}],\"root_ids\":[\"1373\"]},\"title\":\"Bokeh Application\",\"version\":\"1.4.0\"}};\n",
       "  var render_items = [{\"docid\":\"6c0168db-2847-4968-bcd7-532bc93e0073\",\"roots\":{\"1373\":\"2f416ef3-5378-4544-9b4a-e7b2cf74a7eb\"}}];\n",
       "  root.Bokeh.embed.embed_items_notebook(docs_json, render_items);\n",
       "\n",
       "  }\n",
       "  if (root.Bokeh !== undefined) {\n",
       "    embed_document(root);\n",
       "  } else {\n",
       "    var attempts = 0;\n",
       "    var timer = setInterval(function(root) {\n",
       "      if (root.Bokeh !== undefined) {\n",
       "        clearInterval(timer);\n",
       "        embed_document(root);\n",
       "      } else {\n",
       "        attempts++;\n",
       "        if (attempts > 100) {\n",
       "          clearInterval(timer);\n",
       "          console.log(\"Bokeh: ERROR: Unable to run BokehJS code because BokehJS library is missing\");\n",
       "        }\n",
       "      }\n",
       "    }, 10, root)\n",
       "  }\n",
       "})(window);"
      ],
      "application/vnd.bokehjs_exec.v0+json": ""
     },
     "metadata": {
      "application/vnd.bokehjs_exec.v0+json": {
       "id": "1373"
      }
     },
     "output_type": "display_data"
    }
   ],
   "source": [
    "from bokeh.models import ColumnDataSource\n",
    "\n",
    "x = list(range(-20, 21))\n",
    "y0, y1 = [abs(xx) for xx in x], [xx**2 for xx in x]\n",
    "\n",
    "# create a column data source for the plots to share\n",
    "source = ColumnDataSource(data=dict(x=x, y0=y0, y1=y1))\n",
    "\n",
    "TOOLS = \"box_select,lasso_select,help\"\n",
    "\n",
    "# create a new plot and add a renderer\n",
    "left = figure(tools=TOOLS, width=300, height=300)\n",
    "left.circle('x', 'y0', source=source)\n",
    "\n",
    "# create another new plot and add a renderer\n",
    "right = figure(tools=TOOLS, width=300, height=300)\n",
    "right.circle('x', 'y1', source=source)\n",
    "\n",
    "p = gridplot([[left, right]])\n",
    "\n",
    "show(p)"
   ]
  },
  {
   "cell_type": "code",
   "execution_count": 5,
   "metadata": {},
   "outputs": [],
   "source": [
    "# EXERCISE: create two plots in a gridplot, and link their data sources\n",
    "\n"
   ]
  },
  {
   "cell_type": "markdown",
   "metadata": {},
   "source": [
    "# Hover Tools\n",
    "\n",
    "Bokeh has a Hover Tool that allows additional information to be displayed in a popup whenever the user hovers over a specific glyph. Basic hover tool configuration amounts to providing a list of ``(name, format)`` tuples. The full details can be found in the User's Guide [here](https://bokeh.pydata.org/en/latest/docs/user_guide/tools.html#hovertool).\n",
    "\n",
    "The example below shows some basic usage of the Hover tool with a circle glyph, using hover information defined in utils.py:"
   ]
  },
  {
   "cell_type": "code",
   "execution_count": 6,
   "metadata": {},
   "outputs": [
    {
     "data": {
      "text/html": [
       "\n",
       "\n",
       "\n",
       "\n",
       "\n",
       "\n",
       "  <div class=\"bk-root\" id=\"ccfecfee-e5f8-46a7-82ed-4aa5192733f0\" data-root-id=\"1528\"></div>\n"
      ]
     },
     "metadata": {},
     "output_type": "display_data"
    },
    {
     "data": {
      "application/javascript": [
       "(function(root) {\n",
       "  function embed_document(root) {\n",
       "    \n",
       "  var docs_json = {\"5159077d-5ce1-49f0-a212-4c52a8fa84ee\":{\"roots\":{\"references\":[{\"attributes\":{\"below\":[{\"id\":\"1539\",\"type\":\"LinearAxis\"}],\"center\":[{\"id\":\"1543\",\"type\":\"Grid\"},{\"id\":\"1548\",\"type\":\"Grid\"}],\"left\":[{\"id\":\"1544\",\"type\":\"LinearAxis\"}],\"plot_height\":300,\"plot_width\":300,\"renderers\":[{\"id\":\"1554\",\"type\":\"GlyphRenderer\"}],\"title\":{\"id\":\"1529\",\"type\":\"Title\"},\"toolbar\":{\"id\":\"1549\",\"type\":\"Toolbar\"},\"x_range\":{\"id\":\"1531\",\"type\":\"DataRange1d\"},\"x_scale\":{\"id\":\"1535\",\"type\":\"LinearScale\"},\"y_range\":{\"id\":\"1533\",\"type\":\"DataRange1d\"},\"y_scale\":{\"id\":\"1537\",\"type\":\"LinearScale\"}},\"id\":\"1528\",\"subtype\":\"Figure\",\"type\":\"Plot\"},{\"attributes\":{\"callback\":null},\"id\":\"1531\",\"type\":\"DataRange1d\"},{\"attributes\":{\"source\":{\"id\":\"1526\",\"type\":\"ColumnDataSource\"}},\"id\":\"1555\",\"type\":\"CDSView\"},{\"attributes\":{},\"id\":\"1603\",\"type\":\"UnionRenderers\"},{\"attributes\":{},\"id\":\"1601\",\"type\":\"BasicTickFormatter\"},{\"attributes\":{},\"id\":\"1545\",\"type\":\"BasicTicker\"},{\"attributes\":{},\"id\":\"1537\",\"type\":\"LinearScale\"},{\"attributes\":{\"callback\":null},\"id\":\"1533\",\"type\":\"DataRange1d\"},{\"attributes\":{},\"id\":\"1540\",\"type\":\"BasicTicker\"},{\"attributes\":{\"fill_color\":{\"value\":\"#1f77b4\"},\"line_color\":{\"value\":\"#1f77b4\"},\"size\":{\"units\":\"screen\",\"value\":20},\"x\":{\"field\":\"x\"},\"y\":{\"field\":\"y\"}},\"id\":\"1552\",\"type\":\"Circle\"},{\"attributes\":{\"formatter\":{\"id\":\"1601\",\"type\":\"BasicTickFormatter\"},\"ticker\":{\"id\":\"1540\",\"type\":\"BasicTicker\"}},\"id\":\"1539\",\"type\":\"LinearAxis\"},{\"attributes\":{\"callback\":null,\"tooltips\":[[\"index\",\"$index\"],[\"(x,y)\",\"($x, $y)\"],[\"desc\",\"@desc\"]]},\"id\":\"1527\",\"type\":\"HoverTool\"},{\"attributes\":{},\"id\":\"1604\",\"type\":\"Selection\"},{\"attributes\":{\"callback\":null,\"data\":{\"desc\":[\"A\",\"b\",\"C\",\"d\",\"E\"],\"x\":[1,2,3,4,5],\"y\":[2,5,8,2,7]},\"selected\":{\"id\":\"1604\",\"type\":\"Selection\"},\"selection_policy\":{\"id\":\"1603\",\"type\":\"UnionRenderers\"}},\"id\":\"1526\",\"type\":\"ColumnDataSource\"},{\"attributes\":{\"ticker\":{\"id\":\"1540\",\"type\":\"BasicTicker\"}},\"id\":\"1543\",\"type\":\"Grid\"},{\"attributes\":{\"active_drag\":\"auto\",\"active_inspect\":\"auto\",\"active_multi\":null,\"active_scroll\":\"auto\",\"active_tap\":\"auto\",\"tools\":[{\"id\":\"1527\",\"type\":\"HoverTool\"}]},\"id\":\"1549\",\"type\":\"Toolbar\"},{\"attributes\":{\"dimension\":1,\"ticker\":{\"id\":\"1545\",\"type\":\"BasicTicker\"}},\"id\":\"1548\",\"type\":\"Grid\"},{\"attributes\":{\"formatter\":{\"id\":\"1599\",\"type\":\"BasicTickFormatter\"},\"ticker\":{\"id\":\"1545\",\"type\":\"BasicTicker\"}},\"id\":\"1544\",\"type\":\"LinearAxis\"},{\"attributes\":{\"text\":\"Mouse over the dots\"},\"id\":\"1529\",\"type\":\"Title\"},{\"attributes\":{\"fill_alpha\":{\"value\":0.1},\"fill_color\":{\"value\":\"#1f77b4\"},\"line_alpha\":{\"value\":0.1},\"line_color\":{\"value\":\"#1f77b4\"},\"size\":{\"units\":\"screen\",\"value\":20},\"x\":{\"field\":\"x\"},\"y\":{\"field\":\"y\"}},\"id\":\"1553\",\"type\":\"Circle\"},{\"attributes\":{},\"id\":\"1599\",\"type\":\"BasicTickFormatter\"},{\"attributes\":{},\"id\":\"1535\",\"type\":\"LinearScale\"},{\"attributes\":{\"data_source\":{\"id\":\"1526\",\"type\":\"ColumnDataSource\"},\"glyph\":{\"id\":\"1552\",\"type\":\"Circle\"},\"hover_glyph\":null,\"muted_glyph\":null,\"nonselection_glyph\":{\"id\":\"1553\",\"type\":\"Circle\"},\"selection_glyph\":null,\"view\":{\"id\":\"1555\",\"type\":\"CDSView\"}},\"id\":\"1554\",\"type\":\"GlyphRenderer\"}],\"root_ids\":[\"1528\"]},\"title\":\"Bokeh Application\",\"version\":\"1.4.0\"}};\n",
       "  var render_items = [{\"docid\":\"5159077d-5ce1-49f0-a212-4c52a8fa84ee\",\"roots\":{\"1528\":\"ccfecfee-e5f8-46a7-82ed-4aa5192733f0\"}}];\n",
       "  root.Bokeh.embed.embed_items_notebook(docs_json, render_items);\n",
       "\n",
       "  }\n",
       "  if (root.Bokeh !== undefined) {\n",
       "    embed_document(root);\n",
       "  } else {\n",
       "    var attempts = 0;\n",
       "    var timer = setInterval(function(root) {\n",
       "      if (root.Bokeh !== undefined) {\n",
       "        clearInterval(timer);\n",
       "        embed_document(root);\n",
       "      } else {\n",
       "        attempts++;\n",
       "        if (attempts > 100) {\n",
       "          clearInterval(timer);\n",
       "          console.log(\"Bokeh: ERROR: Unable to run BokehJS code because BokehJS library is missing\");\n",
       "        }\n",
       "      }\n",
       "    }, 10, root)\n",
       "  }\n",
       "})(window);"
      ],
      "application/vnd.bokehjs_exec.v0+json": ""
     },
     "metadata": {
      "application/vnd.bokehjs_exec.v0+json": {
       "id": "1528"
      }
     },
     "output_type": "display_data"
    }
   ],
   "source": [
    "from bokeh.models import HoverTool\n",
    "\n",
    "source = ColumnDataSource(\n",
    "        data=dict(\n",
    "            x=[1, 2, 3, 4, 5],\n",
    "            y=[2, 5, 8, 2, 7],\n",
    "            desc=['A', 'b', 'C', 'd', 'E'],\n",
    "        )\n",
    "    )\n",
    "\n",
    "hover = HoverTool(\n",
    "        tooltips=[\n",
    "            (\"index\", \"$index\"),\n",
    "            (\"(x,y)\", \"($x, $y)\"),\n",
    "            (\"desc\", \"@desc\"),\n",
    "        ]\n",
    "    )\n",
    "\n",
    "p = figure(plot_width=300, plot_height=300, tools=[hover], title=\"Mouse over the dots\")\n",
    "\n",
    "p.circle('x', 'y', size=20, source=source)\n",
    "\n",
    "show(p)"
   ]
  },
  {
   "cell_type": "markdown",
   "metadata": {},
   "source": [
    "# Widgets"
   ]
  },
  {
   "cell_type": "markdown",
   "metadata": {},
   "source": [
    "Bokeh supports direct integration with a small basic widget set. These can be used in conjunction with a Bokeh Server, or with ``CustomJS`` models to add more interactive capability to your documents. You can see a complete list, with example code in the [Adding Widgets](https://bokeh.pydata.org/en/latest/docs/user_guide/interaction.html#adding-widgets) section of the User's Guide. \n",
    "\n",
    "\n",
    "\n",
    "*NOTE: In this Tutorial chapter, we will focus on using widgets with JavaScript callbacks. The Tutorial chapter on Bokeh server applications covers using Bokeh widgets with real Python callbacks*\n",
    "\n",
    "\n",
    "\n",
    "\n",
    "To use the widgets, include them in a layout like you would a plot object:"
   ]
  },
  {
   "cell_type": "code",
   "execution_count": 7,
   "metadata": {},
   "outputs": [
    {
     "data": {
      "text/html": [
       "\n",
       "\n",
       "\n",
       "\n",
       "\n",
       "\n",
       "  <div class=\"bk-root\" id=\"10ccf1e2-798b-4a35-bb6c-b50e788b24b0\" data-root-id=\"1647\"></div>\n"
      ]
     },
     "metadata": {},
     "output_type": "display_data"
    },
    {
     "data": {
      "application/javascript": [
       "(function(root) {\n",
       "  function embed_document(root) {\n",
       "    \n",
       "  var docs_json = {\"943f8835-0506-453b-a6cb-f22e2a65f37f\":{\"roots\":{\"references\":[{\"attributes\":{\"callback\":null,\"end\":10,\"start\":0,\"step\":0.1,\"title\":\"foo\",\"value\":1},\"id\":\"1647\",\"type\":\"Slider\"}],\"root_ids\":[\"1647\"]},\"title\":\"Bokeh Application\",\"version\":\"1.4.0\"}};\n",
       "  var render_items = [{\"docid\":\"943f8835-0506-453b-a6cb-f22e2a65f37f\",\"roots\":{\"1647\":\"10ccf1e2-798b-4a35-bb6c-b50e788b24b0\"}}];\n",
       "  root.Bokeh.embed.embed_items_notebook(docs_json, render_items);\n",
       "\n",
       "  }\n",
       "  if (root.Bokeh !== undefined) {\n",
       "    embed_document(root);\n",
       "  } else {\n",
       "    var attempts = 0;\n",
       "    var timer = setInterval(function(root) {\n",
       "      if (root.Bokeh !== undefined) {\n",
       "        clearInterval(timer);\n",
       "        embed_document(root);\n",
       "      } else {\n",
       "        attempts++;\n",
       "        if (attempts > 100) {\n",
       "          clearInterval(timer);\n",
       "          console.log(\"Bokeh: ERROR: Unable to run BokehJS code because BokehJS library is missing\");\n",
       "        }\n",
       "      }\n",
       "    }, 10, root)\n",
       "  }\n",
       "})(window);"
      ],
      "application/vnd.bokehjs_exec.v0+json": ""
     },
     "metadata": {
      "application/vnd.bokehjs_exec.v0+json": {
       "id": "1647"
      }
     },
     "output_type": "display_data"
    }
   ],
   "source": [
    "from bokeh.models.widgets import Slider\n",
    "\n",
    "\n",
    "slider = Slider(start=0, end=10, value=1, step=.1, title=\"foo\")\n",
    "\n",
    "show(slider)"
   ]
  },
  {
   "cell_type": "code",
   "execution_count": 8,
   "metadata": {},
   "outputs": [],
   "source": [
    "# EXERCISE: create and show a Select widget \n"
   ]
  },
  {
   "cell_type": "markdown",
   "metadata": {},
   "source": [
    "# CustomJS Callbacks\n",
    "\n",
    "In order for a widget to be useful, it needs to be able to perform some action. Using the Bokeh server, it is possible to have widgets trigger real Python code. That possibility will be explored in the Bokeh server chapter of the tutorial. Here, we look at how widgets can be configured with `CustomJS` callbacks that execute snippets of JavaScript code. "
   ]
  },
  {
   "cell_type": "code",
   "execution_count": 9,
   "metadata": {},
   "outputs": [
    {
     "data": {
      "text/html": [
       "\n",
       "\n",
       "\n",
       "\n",
       "\n",
       "\n",
       "  <div class=\"bk-root\" id=\"178af6ab-e9fe-482d-a87e-545dc5415937\" data-root-id=\"1699\"></div>\n"
      ]
     },
     "metadata": {},
     "output_type": "display_data"
    },
    {
     "data": {
      "application/javascript": [
       "(function(root) {\n",
       "  function embed_document(root) {\n",
       "    \n",
       "  var docs_json = {\"21f13258-e888-4d54-8e7b-072c3126aa12\":{\"roots\":{\"references\":[{\"attributes\":{\"below\":[{\"id\":\"1708\",\"type\":\"LinearAxis\"}],\"center\":[{\"id\":\"1712\",\"type\":\"Grid\"},{\"id\":\"1717\",\"type\":\"Grid\"}],\"left\":[{\"id\":\"1713\",\"type\":\"LinearAxis\"}],\"plot_height\":300,\"renderers\":[{\"id\":\"1723\",\"type\":\"GlyphRenderer\"}],\"title\":{\"id\":\"1774\",\"type\":\"Title\"},\"toolbar\":{\"id\":\"1718\",\"type\":\"Toolbar\"},\"x_range\":{\"id\":\"1700\",\"type\":\"DataRange1d\"},\"x_scale\":{\"id\":\"1704\",\"type\":\"LinearScale\"},\"y_range\":{\"id\":\"1702\",\"type\":\"DataRange1d\"},\"y_scale\":{\"id\":\"1706\",\"type\":\"LinearScale\"}},\"id\":\"1699\",\"subtype\":\"Figure\",\"type\":\"Plot\"},{\"attributes\":{\"formatter\":{\"id\":\"1776\",\"type\":\"BasicTickFormatter\"},\"ticker\":{\"id\":\"1714\",\"type\":\"BasicTicker\"}},\"id\":\"1713\",\"type\":\"LinearAxis\"},{\"attributes\":{},\"id\":\"1780\",\"type\":\"UnionRenderers\"},{\"attributes\":{},\"id\":\"1706\",\"type\":\"LinearScale\"},{\"attributes\":{\"callback\":null},\"id\":\"1702\",\"type\":\"DataRange1d\"},{\"attributes\":{},\"id\":\"1776\",\"type\":\"BasicTickFormatter\"},{\"attributes\":{\"callback\":null},\"id\":\"1700\",\"type\":\"DataRange1d\"},{\"attributes\":{},\"id\":\"1778\",\"type\":\"BasicTickFormatter\"},{\"attributes\":{},\"id\":\"1781\",\"type\":\"Selection\"},{\"attributes\":{\"formatter\":{\"id\":\"1778\",\"type\":\"BasicTickFormatter\"},\"ticker\":{\"id\":\"1709\",\"type\":\"BasicTicker\"}},\"id\":\"1708\",\"type\":\"LinearAxis\"},{\"attributes\":{},\"id\":\"1704\",\"type\":\"LinearScale\"},{\"attributes\":{\"ticker\":{\"id\":\"1709\",\"type\":\"BasicTicker\"}},\"id\":\"1712\",\"type\":\"Grid\"},{\"attributes\":{\"fill_color\":{\"value\":\"#1f77b4\"},\"line_color\":{\"value\":\"#1f77b4\"},\"size\":{\"units\":\"screen\",\"value\":20},\"x\":{\"field\":\"x\"},\"y\":{\"field\":\"y\"}},\"id\":\"1721\",\"type\":\"Circle\"},{\"attributes\":{\"source\":{\"id\":\"1720\",\"type\":\"ColumnDataSource\"}},\"id\":\"1724\",\"type\":\"CDSView\"},{\"attributes\":{},\"id\":\"1709\",\"type\":\"BasicTicker\"},{\"attributes\":{\"callback\":null,\"data\":{\"x\":[1,2,3,4,5],\"y\":[2,5,8,2,7]},\"selected\":{\"id\":\"1781\",\"type\":\"Selection\"},\"selection_policy\":{\"id\":\"1780\",\"type\":\"UnionRenderers\"}},\"id\":\"1720\",\"type\":\"ColumnDataSource\"},{\"attributes\":{\"text\":\"\"},\"id\":\"1774\",\"type\":\"Title\"},{\"attributes\":{\"fill_alpha\":{\"value\":0.1},\"fill_color\":{\"value\":\"#1f77b4\"},\"line_alpha\":{\"value\":0.1},\"line_color\":{\"value\":\"#1f77b4\"},\"size\":{\"units\":\"screen\",\"value\":20},\"x\":{\"field\":\"x\"},\"y\":{\"field\":\"y\"}},\"id\":\"1722\",\"type\":\"Circle\"},{\"attributes\":{\"active_drag\":\"auto\",\"active_inspect\":\"auto\",\"active_multi\":null,\"active_scroll\":\"auto\",\"active_tap\":\"auto\",\"tools\":[{\"id\":\"1698\",\"type\":\"TapTool\"}]},\"id\":\"1718\",\"type\":\"Toolbar\"},{\"attributes\":{},\"id\":\"1714\",\"type\":\"BasicTicker\"},{\"attributes\":{\"callback\":{\"id\":\"1697\",\"type\":\"CustomJS\"}},\"id\":\"1698\",\"type\":\"TapTool\"},{\"attributes\":{\"data_source\":{\"id\":\"1720\",\"type\":\"ColumnDataSource\"},\"glyph\":{\"id\":\"1721\",\"type\":\"Circle\"},\"hover_glyph\":null,\"muted_glyph\":null,\"nonselection_glyph\":{\"id\":\"1722\",\"type\":\"Circle\"},\"selection_glyph\":null,\"view\":{\"id\":\"1724\",\"type\":\"CDSView\"}},\"id\":\"1723\",\"type\":\"GlyphRenderer\"},{\"attributes\":{\"code\":\"alert('you tapped a circle!')\"},\"id\":\"1697\",\"type\":\"CustomJS\"},{\"attributes\":{\"dimension\":1,\"ticker\":{\"id\":\"1714\",\"type\":\"BasicTicker\"}},\"id\":\"1717\",\"type\":\"Grid\"}],\"root_ids\":[\"1699\"]},\"title\":\"Bokeh Application\",\"version\":\"1.4.0\"}};\n",
       "  var render_items = [{\"docid\":\"21f13258-e888-4d54-8e7b-072c3126aa12\",\"roots\":{\"1699\":\"178af6ab-e9fe-482d-a87e-545dc5415937\"}}];\n",
       "  root.Bokeh.embed.embed_items_notebook(docs_json, render_items);\n",
       "\n",
       "  }\n",
       "  if (root.Bokeh !== undefined) {\n",
       "    embed_document(root);\n",
       "  } else {\n",
       "    var attempts = 0;\n",
       "    var timer = setInterval(function(root) {\n",
       "      if (root.Bokeh !== undefined) {\n",
       "        clearInterval(timer);\n",
       "        embed_document(root);\n",
       "      } else {\n",
       "        attempts++;\n",
       "        if (attempts > 100) {\n",
       "          clearInterval(timer);\n",
       "          console.log(\"Bokeh: ERROR: Unable to run BokehJS code because BokehJS library is missing\");\n",
       "        }\n",
       "      }\n",
       "    }, 10, root)\n",
       "  }\n",
       "})(window);"
      ],
      "application/vnd.bokehjs_exec.v0+json": ""
     },
     "metadata": {
      "application/vnd.bokehjs_exec.v0+json": {
       "id": "1699"
      }
     },
     "output_type": "display_data"
    }
   ],
   "source": [
    "from bokeh.models import TapTool, CustomJS, ColumnDataSource\n",
    "\n",
    "callback = CustomJS(code=\"alert('you tapped a circle!')\")\n",
    "tap = TapTool(callback=callback)\n",
    "\n",
    "p = figure(plot_width=600, plot_height=300, tools=[tap])\n",
    "\n",
    "p.circle(x=[1, 2, 3, 4, 5], y=[2, 5, 8, 2, 7], size=20)\n",
    "\n",
    "show(p)"
   ]
  },
  {
   "cell_type": "markdown",
   "metadata": {},
   "source": [
    "## CustomJS for Property changes\n",
    "\n",
    "Bokeh objects that have values associated can have small JavaScript actions attached to them using the `js_on_change` method. These actions (also referred to as \"callbacks\") are executed whenever the widget's value is changed. In order to make it easier to refer to specific Bokeh models (e.g., a data source, or a glyph) from JavaScript, the ``CustomJS`` object also accepts a dictionary of \"args\" that map names to Python Bokeh models. The corresponding JavaScript models are made available automatically to the ``CustomJS`` code:\n",
    "\n",
    "```python\n",
    "CustomJS(args=dict(source=source, slider=slider), code=\"\"\"\n",
    "    // easily refer to BokehJS source and slider objects in this JS code\n",
    "    var data = source.data;\n",
    "    var f = slider.value;\n",
    "\"\"\")\n",
    "```"
   ]
  },
  {
   "cell_type": "markdown",
   "metadata": {},
   "source": [
    "### Slider widget example\n",
    "\n",
    "The example below shows an action attached to a slider that updates a data source whenever the slider is moved.  "
   ]
  },
  {
   "cell_type": "code",
   "execution_count": 10,
   "metadata": {},
   "outputs": [
    {
     "data": {
      "text/html": [
       "\n",
       "\n",
       "\n",
       "\n",
       "\n",
       "\n",
       "  <div class=\"bk-root\" id=\"de280a39-f2cc-4e4a-ac40-ec34bb85eb6e\" data-root-id=\"1870\"></div>\n"
      ]
     },
     "metadata": {},
     "output_type": "display_data"
    },
    {
     "data": {
      "application/javascript": [
       "(function(root) {\n",
       "  function embed_document(root) {\n",
       "    \n",
       "  var docs_json = {\"d18edabf-6be1-4b00-b3b6-e06347b6e01e\":{\"roots\":{\"references\":[{\"attributes\":{\"children\":[{\"id\":\"1868\",\"type\":\"Slider\"},{\"id\":\"1831\",\"subtype\":\"Figure\",\"type\":\"Plot\"}]},\"id\":\"1870\",\"type\":\"Column\"},{\"attributes\":{},\"id\":\"1838\",\"type\":\"LinearScale\"},{\"attributes\":{},\"id\":\"1855\",\"type\":\"HelpTool\"},{\"attributes\":{\"active_drag\":\"auto\",\"active_inspect\":\"auto\",\"active_multi\":null,\"active_scroll\":\"auto\",\"active_tap\":\"auto\",\"tools\":[{\"id\":\"1850\",\"type\":\"PanTool\"},{\"id\":\"1851\",\"type\":\"WheelZoomTool\"},{\"id\":\"1852\",\"type\":\"BoxZoomTool\"},{\"id\":\"1853\",\"type\":\"SaveTool\"},{\"id\":\"1854\",\"type\":\"ResetTool\"},{\"id\":\"1855\",\"type\":\"HelpTool\"}]},\"id\":\"1856\",\"type\":\"Toolbar\"},{\"attributes\":{\"line_alpha\":0.6,\"line_color\":\"#1f77b4\",\"line_width\":3,\"x\":{\"field\":\"x\"},\"y\":{\"field\":\"y\"}},\"id\":\"1864\",\"type\":\"Line\"},{\"attributes\":{\"line_alpha\":0.1,\"line_color\":\"#1f77b4\",\"line_width\":3,\"x\":{\"field\":\"x\"},\"y\":{\"field\":\"y\"}},\"id\":\"1865\",\"type\":\"Line\"},{\"attributes\":{},\"id\":\"1841\",\"type\":\"BasicTicker\"},{\"attributes\":{\"args\":{\"slider\":{\"id\":\"1868\",\"type\":\"Slider\"},\"source\":{\"id\":\"1830\",\"type\":\"ColumnDataSource\"}},\"code\":\"\\n    var data = source.data;\\n    var f = slider.value;\\n    var x = data['x']\\n    var y = data['y']\\n    for (var i = 0; i < x.length; i++) {\\n        y[i] = Math.pow(x[i], f)\\n    }\\n    \\n    // necessary becasue we mutated source.data in-place\\n    source.change.emit();\\n\"},\"id\":\"1869\",\"type\":\"CustomJS\"},{\"attributes\":{\"ticker\":{\"id\":\"1841\",\"type\":\"BasicTicker\"}},\"id\":\"1844\",\"type\":\"Grid\"},{\"attributes\":{\"below\":[{\"id\":\"1840\",\"type\":\"LinearAxis\"}],\"center\":[{\"id\":\"1844\",\"type\":\"Grid\"},{\"id\":\"1849\",\"type\":\"Grid\"}],\"left\":[{\"id\":\"1845\",\"type\":\"LinearAxis\"}],\"plot_height\":400,\"plot_width\":400,\"renderers\":[{\"id\":\"1866\",\"type\":\"GlyphRenderer\"}],\"title\":{\"id\":\"1928\",\"type\":\"Title\"},\"toolbar\":{\"id\":\"1856\",\"type\":\"Toolbar\"},\"x_range\":{\"id\":\"1832\",\"type\":\"DataRange1d\"},\"x_scale\":{\"id\":\"1836\",\"type\":\"LinearScale\"},\"y_range\":{\"id\":\"1834\",\"type\":\"DataRange1d\"},\"y_scale\":{\"id\":\"1838\",\"type\":\"LinearScale\"}},\"id\":\"1831\",\"subtype\":\"Figure\",\"type\":\"Plot\"},{\"attributes\":{\"callback\":null},\"id\":\"1832\",\"type\":\"DataRange1d\"},{\"attributes\":{\"callback\":null},\"id\":\"1834\",\"type\":\"DataRange1d\"},{\"attributes\":{},\"id\":\"1935\",\"type\":\"Selection\"},{\"attributes\":{\"callback\":null,\"end\":6,\"js_property_callbacks\":{\"change:value\":[{\"id\":\"1869\",\"type\":\"CustomJS\"}]},\"start\":0.1,\"step\":0.1,\"title\":\"power\",\"value\":1},\"id\":\"1868\",\"type\":\"Slider\"},{\"attributes\":{},\"id\":\"1932\",\"type\":\"BasicTickFormatter\"},{\"attributes\":{\"text\":\"\"},\"id\":\"1928\",\"type\":\"Title\"},{\"attributes\":{},\"id\":\"1851\",\"type\":\"WheelZoomTool\"},{\"attributes\":{},\"id\":\"1836\",\"type\":\"LinearScale\"},{\"attributes\":{},\"id\":\"1930\",\"type\":\"BasicTickFormatter\"},{\"attributes\":{},\"id\":\"1846\",\"type\":\"BasicTicker\"},{\"attributes\":{},\"id\":\"1850\",\"type\":\"PanTool\"},{\"attributes\":{\"bottom_units\":\"screen\",\"fill_alpha\":{\"value\":0.5},\"fill_color\":{\"value\":\"lightgrey\"},\"left_units\":\"screen\",\"level\":\"overlay\",\"line_alpha\":{\"value\":1.0},\"line_color\":{\"value\":\"black\"},\"line_dash\":[4,4],\"line_width\":{\"value\":2},\"render_mode\":\"css\",\"right_units\":\"screen\",\"top_units\":\"screen\"},\"id\":\"1936\",\"type\":\"BoxAnnotation\"},{\"attributes\":{\"dimension\":1,\"ticker\":{\"id\":\"1846\",\"type\":\"BasicTicker\"}},\"id\":\"1849\",\"type\":\"Grid\"},{\"attributes\":{\"formatter\":{\"id\":\"1930\",\"type\":\"BasicTickFormatter\"},\"ticker\":{\"id\":\"1846\",\"type\":\"BasicTicker\"}},\"id\":\"1845\",\"type\":\"LinearAxis\"},{\"attributes\":{\"formatter\":{\"id\":\"1932\",\"type\":\"BasicTickFormatter\"},\"ticker\":{\"id\":\"1841\",\"type\":\"BasicTicker\"}},\"id\":\"1840\",\"type\":\"LinearAxis\"},{\"attributes\":{},\"id\":\"1854\",\"type\":\"ResetTool\"},{\"attributes\":{\"callback\":null,\"data\":{\"x\":[0.0,0.005,0.01,0.015,0.02,0.025,0.03,0.035,0.04,0.045,0.05,0.055,0.06,0.065,0.07,0.075,0.08,0.085,0.09,0.095,0.1,0.105,0.11,0.115,0.12,0.125,0.13,0.135,0.14,0.145,0.15,0.155,0.16,0.165,0.17,0.17500000000000002,0.18,0.185,0.19,0.195,0.2,0.20500000000000002,0.21,0.215,0.22,0.225,0.23,0.23500000000000001,0.24,0.245,0.25,0.255,0.26,0.265,0.27,0.275,0.28,0.28500000000000003,0.29,0.295,0.3,0.305,0.31,0.315,0.32,0.325,0.33,0.335,0.34,0.34500000000000003,0.35000000000000003,0.355,0.36,0.365,0.37,0.375,0.38,0.385,0.39,0.395,0.4,0.405,0.41000000000000003,0.41500000000000004,0.42,0.425,0.43,0.435,0.44,0.445,0.45,0.455,0.46,0.465,0.47000000000000003,0.47500000000000003,0.48,0.485,0.49,0.495,0.5,0.505,0.51,0.515,0.52,0.525,0.53,0.535,0.54,0.545,0.55,0.555,0.56,0.5650000000000001,0.5700000000000001,0.5750000000000001,0.58,0.585,0.59,0.595,0.6,0.605,0.61,0.615,0.62,0.625,0.63,0.635,0.64,0.645,0.65,0.655,0.66,0.665,0.67,0.675,0.68,0.685,0.6900000000000001,0.6950000000000001,0.7000000000000001,0.705,0.71,0.715,0.72,0.725,0.73,0.735,0.74,0.745,0.75,0.755,0.76,0.765,0.77,0.775,0.78,0.785,0.79,0.795,0.8,0.805,0.81,0.8150000000000001,0.8200000000000001,0.8250000000000001,0.8300000000000001,0.835,0.84,0.845,0.85,0.855,0.86,0.865,0.87,0.875,0.88,0.885,0.89,0.895,0.9,0.905,0.91,0.915,0.92,0.925,0.93,0.935,0.9400000000000001,0.9450000000000001,0.9500000000000001,0.9550000000000001,0.96,0.965,0.97,0.975,0.98,0.985,0.99,0.995,1.0],\"y\":[0.0,0.005,0.01,0.015,0.02,0.025,0.03,0.035,0.04,0.045,0.05,0.055,0.06,0.065,0.07,0.075,0.08,0.085,0.09,0.095,0.1,0.105,0.11,0.115,0.12,0.125,0.13,0.135,0.14,0.145,0.15,0.155,0.16,0.165,0.17,0.17500000000000002,0.18,0.185,0.19,0.195,0.2,0.20500000000000002,0.21,0.215,0.22,0.225,0.23,0.23500000000000001,0.24,0.245,0.25,0.255,0.26,0.265,0.27,0.275,0.28,0.28500000000000003,0.29,0.295,0.3,0.305,0.31,0.315,0.32,0.325,0.33,0.335,0.34,0.34500000000000003,0.35000000000000003,0.355,0.36,0.365,0.37,0.375,0.38,0.385,0.39,0.395,0.4,0.405,0.41000000000000003,0.41500000000000004,0.42,0.425,0.43,0.435,0.44,0.445,0.45,0.455,0.46,0.465,0.47000000000000003,0.47500000000000003,0.48,0.485,0.49,0.495,0.5,0.505,0.51,0.515,0.52,0.525,0.53,0.535,0.54,0.545,0.55,0.555,0.56,0.5650000000000001,0.5700000000000001,0.5750000000000001,0.58,0.585,0.59,0.595,0.6,0.605,0.61,0.615,0.62,0.625,0.63,0.635,0.64,0.645,0.65,0.655,0.66,0.665,0.67,0.675,0.68,0.685,0.6900000000000001,0.6950000000000001,0.7000000000000001,0.705,0.71,0.715,0.72,0.725,0.73,0.735,0.74,0.745,0.75,0.755,0.76,0.765,0.77,0.775,0.78,0.785,0.79,0.795,0.8,0.805,0.81,0.8150000000000001,0.8200000000000001,0.8250000000000001,0.8300000000000001,0.835,0.84,0.845,0.85,0.855,0.86,0.865,0.87,0.875,0.88,0.885,0.89,0.895,0.9,0.905,0.91,0.915,0.92,0.925,0.93,0.935,0.9400000000000001,0.9450000000000001,0.9500000000000001,0.9550000000000001,0.96,0.965,0.97,0.975,0.98,0.985,0.99,0.995,1.0]},\"selected\":{\"id\":\"1935\",\"type\":\"Selection\"},\"selection_policy\":{\"id\":\"1934\",\"type\":\"UnionRenderers\"}},\"id\":\"1830\",\"type\":\"ColumnDataSource\"},{\"attributes\":{\"source\":{\"id\":\"1830\",\"type\":\"ColumnDataSource\"}},\"id\":\"1867\",\"type\":\"CDSView\"},{\"attributes\":{\"overlay\":{\"id\":\"1936\",\"type\":\"BoxAnnotation\"}},\"id\":\"1852\",\"type\":\"BoxZoomTool\"},{\"attributes\":{},\"id\":\"1853\",\"type\":\"SaveTool\"},{\"attributes\":{\"data_source\":{\"id\":\"1830\",\"type\":\"ColumnDataSource\"},\"glyph\":{\"id\":\"1864\",\"type\":\"Line\"},\"hover_glyph\":null,\"muted_glyph\":null,\"nonselection_glyph\":{\"id\":\"1865\",\"type\":\"Line\"},\"selection_glyph\":null,\"view\":{\"id\":\"1867\",\"type\":\"CDSView\"}},\"id\":\"1866\",\"type\":\"GlyphRenderer\"},{\"attributes\":{},\"id\":\"1934\",\"type\":\"UnionRenderers\"}],\"root_ids\":[\"1870\"]},\"title\":\"Bokeh Application\",\"version\":\"1.4.0\"}};\n",
       "  var render_items = [{\"docid\":\"d18edabf-6be1-4b00-b3b6-e06347b6e01e\",\"roots\":{\"1870\":\"de280a39-f2cc-4e4a-ac40-ec34bb85eb6e\"}}];\n",
       "  root.Bokeh.embed.embed_items_notebook(docs_json, render_items);\n",
       "\n",
       "  }\n",
       "  if (root.Bokeh !== undefined) {\n",
       "    embed_document(root);\n",
       "  } else {\n",
       "    var attempts = 0;\n",
       "    var timer = setInterval(function(root) {\n",
       "      if (root.Bokeh !== undefined) {\n",
       "        clearInterval(timer);\n",
       "        embed_document(root);\n",
       "      } else {\n",
       "        attempts++;\n",
       "        if (attempts > 100) {\n",
       "          clearInterval(timer);\n",
       "          console.log(\"Bokeh: ERROR: Unable to run BokehJS code because BokehJS library is missing\");\n",
       "        }\n",
       "      }\n",
       "    }, 10, root)\n",
       "  }\n",
       "})(window);"
      ],
      "application/vnd.bokehjs_exec.v0+json": ""
     },
     "metadata": {
      "application/vnd.bokehjs_exec.v0+json": {
       "id": "1870"
      }
     },
     "output_type": "display_data"
    }
   ],
   "source": [
    "from bokeh.layouts import column\n",
    "from bokeh.models import CustomJS, ColumnDataSource, Slider\n",
    "\n",
    "x = [x*0.005 for x in range(0, 201)]\n",
    "\n",
    "source = ColumnDataSource(data=dict(x=x, y=x))\n",
    "\n",
    "plot = figure(plot_width=400, plot_height=400)\n",
    "plot.line('x', 'y', source=source, line_width=3, line_alpha=0.6)\n",
    "\n",
    "slider = Slider(start=0.1, end=6, value=1, step=.1, title=\"power\")\n",
    "\n",
    "update_curve = CustomJS(args=dict(source=source, slider=slider), code=\"\"\"\n",
    "    var data = source.data;\n",
    "    var f = slider.value;\n",
    "    var x = data['x']\n",
    "    var y = data['y']\n",
    "    for (var i = 0; i < x.length; i++) {\n",
    "        y[i] = Math.pow(x[i], f)\n",
    "    }\n",
    "    \n",
    "    // necessary becasue we mutated source.data in-place\n",
    "    source.change.emit();\n",
    "\"\"\")\n",
    "slider.js_on_change('value', update_curve)\n",
    "\n",
    "\n",
    "show(column(slider, plot))"
   ]
  },
  {
   "cell_type": "code",
   "execution_count": 11,
   "metadata": {},
   "outputs": [],
   "source": [
    "# Exercise: Create a plot that updates based on a Select widget\n",
    "\n"
   ]
  },
  {
   "cell_type": "markdown",
   "metadata": {},
   "source": [
    "### Data selection example\n",
    "\n",
    "It's also possible to make JavaScript actions that execute whenever a user selection (e.g., box, point, lasso) changes. This is done by attaching the same kind of CustomJS object to whatever data source the selection is made on.\n",
    "\n",
    "The example below is a bit more sophisticated, and demonstrates updating one glyph's data source in response to another glyph's selection: "
   ]
  },
  {
   "cell_type": "code",
   "execution_count": 12,
   "metadata": {},
   "outputs": [
    {
     "data": {
      "text/html": [
       "\n",
       "\n",
       "\n",
       "\n",
       "\n",
       "\n",
       "  <div class=\"bk-root\" id=\"e94a423a-544f-4f37-9860-8fcbeab872a2\" data-root-id=\"1992\"></div>\n"
      ]
     },
     "metadata": {},
     "output_type": "display_data"
    },
    {
     "data": {
      "application/javascript": [
       "(function(root) {\n",
       "  function embed_document(root) {\n",
       "    \n",
       "  var docs_json = {\"282f5054-a954-4e1c-9401-e0b840eac50e\":{\"roots\":{\"references\":[{\"attributes\":{\"below\":[{\"id\":\"2003\",\"type\":\"LinearAxis\"}],\"center\":[{\"id\":\"2007\",\"type\":\"Grid\"},{\"id\":\"2012\",\"type\":\"Grid\"}],\"left\":[{\"id\":\"2008\",\"type\":\"LinearAxis\"}],\"plot_height\":400,\"plot_width\":400,\"renderers\":[{\"id\":\"2020\",\"type\":\"GlyphRenderer\"},{\"id\":\"2026\",\"type\":\"GlyphRenderer\"}],\"title\":{\"id\":\"1993\",\"type\":\"Title\"},\"toolbar\":{\"id\":\"2014\",\"type\":\"Toolbar\"},\"x_range\":{\"id\":\"1995\",\"type\":\"DataRange1d\"},\"x_scale\":{\"id\":\"1999\",\"type\":\"LinearScale\"},\"y_range\":{\"id\":\"1997\",\"type\":\"DataRange1d\"},\"y_scale\":{\"id\":\"2001\",\"type\":\"LinearScale\"}},\"id\":\"1992\",\"subtype\":\"Figure\",\"type\":\"Plot\"},{\"attributes\":{\"source\":{\"id\":\"1991\",\"type\":\"ColumnDataSource\"}},\"id\":\"2021\",\"type\":\"CDSView\"},{\"attributes\":{\"fill_alpha\":{\"value\":0.4},\"fill_color\":{\"value\":\"firebrick\"},\"line_alpha\":{\"value\":0.4},\"line_color\":{\"value\":\"firebrick\"},\"size\":{\"units\":\"screen\",\"value\":8},\"x\":{\"field\":\"x\"},\"y\":{\"field\":\"y\"}},\"id\":\"2019\",\"type\":\"Circle\"},{\"attributes\":{},\"id\":\"1999\",\"type\":\"LinearScale\"},{\"attributes\":{\"line_alpha\":0.1,\"line_color\":\"#1f77b4\",\"line_width\":5,\"x\":{\"field\":\"xm\"},\"y\":{\"field\":\"ym\"}},\"id\":\"2025\",\"type\":\"Line\"},{\"attributes\":{},\"id\":\"2001\",\"type\":\"LinearScale\"},{\"attributes\":{\"args\":{\"s1\":{\"id\":\"1991\",\"type\":\"ColumnDataSource\"},\"s2\":{\"id\":\"2022\",\"type\":\"ColumnDataSource\"}},\"code\":\"\\n    var inds = s1.selected.indices;\\n    if (inds.length == 0)\\n        return;\\n\\n    var ym = 0\\n    for (var i = 0; i < inds.length; i++) {\\n        ym += s1.data.y[inds[i]]\\n    }\\n    \\n    ym /= inds.length\\n    s2.data.ym = [ym, ym]\\n\\n    // necessary becasue we mutated source.data in-place\\n    s2.change.emit();  \\n\"},\"id\":\"2028\",\"type\":\"CustomJS\"},{\"attributes\":{\"formatter\":{\"id\":\"2099\",\"type\":\"BasicTickFormatter\"},\"ticker\":{\"id\":\"2004\",\"type\":\"BasicTicker\"}},\"id\":\"2003\",\"type\":\"LinearAxis\"},{\"attributes\":{},\"id\":\"2009\",\"type\":\"BasicTicker\"},{\"attributes\":{},\"id\":\"2004\",\"type\":\"BasicTicker\"},{\"attributes\":{\"js_property_callbacks\":{\"change:indices\":[{\"id\":\"2028\",\"type\":\"CustomJS\"}]}},\"id\":\"2029\",\"type\":\"Selection\"},{\"attributes\":{\"ticker\":{\"id\":\"2004\",\"type\":\"BasicTicker\"}},\"id\":\"2007\",\"type\":\"Grid\"},{\"attributes\":{\"dimension\":1,\"ticker\":{\"id\":\"2009\",\"type\":\"BasicTicker\"}},\"id\":\"2012\",\"type\":\"Grid\"},{\"attributes\":{\"formatter\":{\"id\":\"2097\",\"type\":\"BasicTickFormatter\"},\"ticker\":{\"id\":\"2009\",\"type\":\"BasicTicker\"}},\"id\":\"2008\",\"type\":\"LinearAxis\"},{\"attributes\":{\"source\":{\"id\":\"2022\",\"type\":\"ColumnDataSource\"}},\"id\":\"2027\",\"type\":\"CDSView\"},{\"attributes\":{},\"id\":\"2099\",\"type\":\"BasicTickFormatter\"},{\"attributes\":{\"callback\":null,\"data\":{\"color\":[\"navy\",\"navy\",\"navy\",\"navy\",\"navy\",\"navy\",\"navy\",\"navy\",\"navy\",\"navy\",\"navy\",\"navy\",\"navy\",\"navy\",\"navy\",\"navy\",\"navy\",\"navy\",\"navy\",\"navy\",\"navy\",\"navy\",\"navy\",\"navy\",\"navy\",\"navy\",\"navy\",\"navy\",\"navy\",\"navy\",\"navy\",\"navy\",\"navy\",\"navy\",\"navy\",\"navy\",\"navy\",\"navy\",\"navy\",\"navy\",\"navy\",\"navy\",\"navy\",\"navy\",\"navy\",\"navy\",\"navy\",\"navy\",\"navy\",\"navy\",\"navy\",\"navy\",\"navy\",\"navy\",\"navy\",\"navy\",\"navy\",\"navy\",\"navy\",\"navy\",\"navy\",\"navy\",\"navy\",\"navy\",\"navy\",\"navy\",\"navy\",\"navy\",\"navy\",\"navy\",\"navy\",\"navy\",\"navy\",\"navy\",\"navy\",\"navy\",\"navy\",\"navy\",\"navy\",\"navy\",\"navy\",\"navy\",\"navy\",\"navy\",\"navy\",\"navy\",\"navy\",\"navy\",\"navy\",\"navy\",\"navy\",\"navy\",\"navy\",\"navy\",\"navy\",\"navy\",\"navy\",\"navy\",\"navy\",\"navy\",\"navy\",\"navy\",\"navy\",\"navy\",\"navy\",\"navy\",\"navy\",\"navy\",\"navy\",\"navy\",\"navy\",\"navy\",\"navy\",\"navy\",\"navy\",\"navy\",\"navy\",\"navy\",\"navy\",\"navy\",\"navy\",\"navy\",\"navy\",\"navy\",\"navy\",\"navy\",\"navy\",\"navy\",\"navy\",\"navy\",\"navy\",\"navy\",\"navy\",\"navy\",\"navy\",\"navy\",\"navy\",\"navy\",\"navy\",\"navy\",\"navy\",\"navy\",\"navy\",\"navy\",\"navy\",\"navy\",\"navy\",\"navy\",\"navy\",\"navy\",\"navy\",\"navy\",\"navy\",\"navy\",\"navy\",\"navy\",\"navy\",\"navy\",\"navy\",\"navy\",\"navy\",\"navy\",\"navy\",\"navy\",\"navy\",\"navy\",\"navy\",\"navy\",\"navy\",\"navy\",\"navy\",\"navy\",\"navy\",\"navy\",\"navy\",\"navy\",\"navy\",\"navy\",\"navy\",\"navy\",\"navy\",\"navy\",\"navy\",\"navy\",\"navy\",\"navy\",\"navy\",\"navy\",\"navy\",\"navy\",\"navy\",\"navy\",\"navy\",\"navy\",\"navy\",\"navy\",\"navy\",\"navy\",\"navy\",\"navy\",\"navy\",\"navy\",\"navy\",\"navy\",\"navy\",\"navy\",\"navy\",\"navy\",\"navy\",\"navy\",\"navy\",\"navy\",\"navy\",\"navy\",\"navy\",\"navy\",\"navy\",\"navy\",\"navy\",\"navy\",\"navy\",\"navy\",\"navy\",\"navy\",\"navy\",\"navy\",\"navy\",\"navy\",\"navy\",\"navy\",\"navy\",\"navy\",\"navy\",\"navy\",\"navy\",\"navy\",\"navy\",\"navy\",\"navy\",\"navy\",\"navy\",\"navy\",\"navy\",\"navy\",\"navy\",\"navy\",\"navy\",\"navy\",\"navy\",\"navy\",\"navy\",\"navy\",\"navy\",\"navy\",\"navy\",\"navy\",\"navy\",\"navy\",\"navy\",\"navy\",\"navy\",\"navy\",\"navy\",\"navy\",\"navy\",\"navy\",\"navy\",\"navy\",\"navy\",\"navy\",\"navy\",\"navy\",\"navy\",\"navy\",\"navy\",\"navy\",\"navy\",\"navy\",\"navy\",\"navy\",\"navy\",\"navy\",\"navy\",\"navy\",\"navy\",\"navy\",\"navy\",\"navy\",\"navy\",\"navy\",\"navy\",\"navy\",\"navy\",\"navy\",\"navy\",\"navy\",\"navy\",\"navy\",\"navy\",\"navy\",\"navy\",\"navy\",\"navy\",\"navy\",\"navy\",\"navy\",\"navy\",\"navy\",\"navy\",\"navy\",\"navy\",\"navy\",\"navy\",\"navy\",\"navy\",\"navy\",\"navy\",\"navy\",\"navy\",\"navy\",\"navy\",\"navy\",\"navy\",\"navy\",\"navy\",\"navy\",\"navy\",\"navy\",\"navy\",\"navy\",\"navy\",\"navy\",\"navy\",\"navy\",\"navy\",\"navy\",\"navy\",\"navy\",\"navy\",\"navy\",\"navy\",\"navy\",\"navy\",\"navy\",\"navy\",\"navy\",\"navy\",\"navy\",\"navy\",\"navy\",\"navy\",\"navy\",\"navy\",\"navy\",\"navy\",\"navy\",\"navy\",\"navy\",\"navy\",\"navy\",\"navy\",\"navy\",\"navy\",\"navy\",\"navy\",\"navy\",\"navy\",\"navy\",\"navy\",\"navy\",\"navy\",\"navy\",\"navy\",\"navy\",\"navy\",\"navy\",\"navy\",\"navy\",\"navy\",\"navy\",\"navy\",\"navy\",\"navy\",\"navy\",\"navy\",\"navy\",\"navy\",\"navy\",\"navy\",\"navy\",\"navy\",\"navy\",\"navy\",\"navy\",\"navy\",\"navy\",\"navy\",\"navy\",\"navy\",\"navy\",\"navy\",\"navy\",\"navy\",\"navy\",\"navy\",\"navy\",\"navy\",\"navy\",\"navy\",\"navy\",\"navy\",\"navy\",\"navy\",\"navy\",\"navy\",\"navy\",\"navy\",\"navy\",\"navy\",\"navy\",\"navy\",\"navy\",\"navy\",\"navy\",\"navy\",\"navy\",\"navy\",\"navy\",\"navy\",\"navy\",\"navy\",\"navy\",\"navy\",\"navy\",\"navy\",\"navy\",\"navy\",\"navy\",\"navy\",\"navy\",\"navy\",\"navy\",\"navy\",\"navy\",\"navy\",\"navy\",\"navy\",\"navy\",\"navy\",\"navy\",\"navy\",\"navy\",\"navy\",\"navy\",\"navy\",\"navy\",\"navy\",\"navy\",\"navy\",\"navy\",\"navy\",\"navy\",\"navy\",\"navy\",\"navy\",\"navy\",\"navy\",\"navy\",\"navy\",\"navy\",\"navy\",\"navy\",\"navy\",\"navy\",\"navy\",\"navy\",\"navy\",\"navy\",\"navy\",\"navy\",\"navy\",\"navy\",\"navy\",\"navy\",\"navy\",\"navy\",\"navy\",\"navy\",\"navy\",\"navy\",\"navy\",\"navy\",\"navy\",\"navy\",\"navy\",\"navy\",\"navy\",\"navy\",\"navy\",\"navy\"],\"x\":[0.036610175022403935,0.1891622298586655,0.6006943612485911,0.9852383713450938,0.829856780701942,0.5657282632316423,0.7145375613380145,0.043520201944726056,0.4031539374455193,0.9535926957396424,0.7732274897187044,0.227518664294185,0.21809649935652609,0.6946262771363596,0.7570567223690426,0.6747948991447853,0.7156691271679171,0.6354604119938507,0.5195330741079349,0.6529186182194517,0.08552037313823935,0.29376935389697945,0.7080488886632609,0.08726823458684463,0.3571151549695051,0.5727838705369395,0.5976797762454933,0.12442577268037569,0.6673815632010957,0.19694891105972723,0.2580940087699185,0.5108322215859863,0.2616407850798278,0.023066644531886338,0.877700711635887,0.15529531016646847,0.8830463648527576,0.1454671637343946,0.6124073348143134,0.41191433377891107,0.7383549752800267,0.01738231812066504,0.7390670698524158,0.9143174220475362,0.07133056546868777,0.39348817845580786,0.08456415484280688,0.6081404768294325,0.0689618396581666,0.2697897339696026,0.6965697988222226,0.9591599311470745,0.8253956716901873,0.48793904912394737,0.1542139921278386,0.2652851652299584,0.6040410904203329,0.4765004462254844,0.8983189026847483,0.0605888953777487,0.2834649235022437,0.6105393467499411,0.5427209188045578,0.1555021965906821,0.1372449480770095,0.894137328579852,0.46998597358612393,0.38790669426776925,0.2005202557992879,0.272945517915568,0.54048980521364,0.7957910069818299,0.2522110533696824,0.5101669118686302,0.1747093876036241,0.2668630326318482,0.1874068541135,0.5312232339842925,0.35232657183023974,0.4572398734289106,0.16411340198720714,0.6208913666812262,0.7418200804959292,0.13548245106418044,0.6641127333922152,0.48149837297128806,0.4280034504980227,0.9652760170564627,0.11675852475918402,0.41912550529495896,0.6193861293278993,0.012817424472437944,0.7146507130017687,0.46978826562134046,0.23405569028191597,0.11842100957782786,0.6872232354226326,0.9054849792091694,0.17730743189844445,0.5245186694164671,0.894732659517316,0.3282192863043958,0.12992633991516167,0.5728964118278718,0.7447583015020135,0.6358722427892316,0.023742864257291996,0.5985651256962089,0.8229945845697875,0.9115368281321063,0.5438934183126108,0.5676106511086663,0.4953914856283236,0.5397008892154254,0.2794472971302917,0.9927947280338698,0.6906739489332757,0.2063705131163195,0.23734523687198006,0.22778166960141044,0.027189975374703135,0.5891713751372528,0.7654504746607959,0.04672153169705251,0.09907703435377646,0.8945727303834761,0.30326437860427424,0.6017563728917533,0.9046261978865706,0.9814805875990845,0.9237118514218544,0.04829358380285087,0.6245789489636796,0.3776190785014413,0.5828021337636428,0.5905369890124821,0.7084817459838247,0.7829057140572931,0.6981821587144469,0.5399257617862944,0.6340824010162228,0.9104417208609022,0.9348542497096641,0.376901911192529,0.6305057982503103,0.1616007717659319,0.853739505017585,0.46514053955837253,0.40561539816013925,0.7487614785076755,0.9548631141727488,0.41157530780909357,0.21510654018000774,0.5700154179535419,0.18567956944178576,0.8492770206709641,0.822687718217593,0.9668902384031857,0.1320252897185047,0.10138267304668769,0.4321560409575155,0.04634080970499632,0.11221086932043611,0.500487419128489,0.8817387533408243,0.21921102110916257,0.4137363307381897,0.09357660526345035,0.8618598733941931,0.6654328802364483,0.3308592259059995,0.29554589146157695,0.8282363151359,0.39644077257383037,0.45535400724029285,0.09665260179737845,0.6451224581291584,0.07990274039211442,0.3534951956066068,0.9625050730917614,0.8457147322788113,0.24923812973098514,0.002286135255507138,0.8935095929476259,0.5000488252155894,0.09186909321409742,0.21004104107860455,0.9894828696909183,0.9305866717373857,0.6124597736169585,0.6975223017949282,0.628122111281674,0.07270241309755132,0.6406563669796531,0.39124144201661715,0.8386237144373122,0.5644455722152023,0.5805231371511098,0.5167621148830711,0.1452291459478171,0.9026762360793443,0.9395110292587966,0.8385746353072295,0.4747603838527916,0.30054139046770667,0.48155120739886637,0.9221175594209027,0.8994130669142671,0.029985177321541157,0.18604071292232383,0.288510463987955,0.402555908434194,0.6551599968006917,0.9054693374468075,0.5966457275158564,0.25762746220568533,0.6650804018167114,0.6377151402920712,0.12327339464742482,0.9728774668678456,0.8865882809760748,0.7857408788224004,0.1375504679284857,0.546371600991485,0.05819848067202382,0.2401852065320137,0.7939022769447075,0.5738466359033738,0.8606505022975699,0.5259184343892022,0.2745550227135889,0.744236307058536,0.3032795737545809,0.8040950785919744,0.8794511114442195,0.3257164940127404,0.9081589138878863,0.7393164309181679,0.32981994267169656,0.7378503743798904,0.6392136432756892,0.3284304981481315,0.3717942642035009,0.9343154391929382,0.23759844981622846,0.7520601473754612,0.33388628432075307,0.20274537144271154,0.8375171771832414,0.38341807637498204,0.21831853536880708,0.5377666487869937,0.22984433901415802,0.051231730926280084,0.5942129761748377,0.2468292872419121,0.22529788789441552,0.5246692163750545,0.49562047463526115,0.5253594180995795,0.9188326806450572,0.9070637306422136,0.3391622980518323,0.49196573925620224,0.14487878284276,0.19347392238954497,0.12738999554536834,0.621386680458763,0.5853220615930411,0.7767647784008833,0.8226942345156666,0.9744120743442783,0.2131614173904517,0.9238969812333657,0.7563049433461165,0.5591039315537136,0.14600342313472947,0.8897086653922328,0.077044965931514,0.3612727702666627,0.6056409495371176,0.10009537659301326,0.16840001497364365,0.42836955719898473,0.6611950969490492,0.8246987497055486,0.7706705273182212,0.28392660992055185,0.3252700823028336,0.7556089159601725,0.010164372243494535,0.43168909814892165,0.9964124124417433,0.9554284304966224,0.09119640397197826,0.973249574335315,0.9281978289471359,0.42392714004926824,0.9188984434991493,0.48843726100932683,0.9585819367852544,0.1514172270354971,0.9765591491332344,0.35072227214568885,0.12454739670955328,0.9161299537499011,0.05191658740231064,0.7717607319158766,0.9836517927110333,0.8438810453221703,0.29703463722177237,0.9766856101362151,0.4202100392465772,0.21108522736846136,0.11904076660048679,0.9740296689562794,0.08535031589766529,0.42817679974625467,0.4539741339272656,0.44036276293250376,0.9571060252172845,0.5399185627679168,0.12925756400630273,0.8300863837080428,0.10471239713469782,0.7505485269795763,0.5156679008184394,0.529802370714508,0.21037086921570325,0.9813674604431271,0.5909098507822645,0.05125365297029871,0.26772622873263774,0.25969082212362515,0.40004942144065836,0.25812741280384977,0.1897277900857275,0.9673512553483955,0.4022572615336223,0.5264401342416336,0.17786493563951666,0.843756504946836,0.7574767710588628,0.2275417820146829,0.5143428777531805,0.5051550336229302,0.8011569452703433,0.284252968359914,0.7211174072719012,0.9037823540415751,0.4913469340932731,0.6132251591598988,0.04909716272186071,0.07339401369310616,0.9934299314018701,0.42905506738402976,0.8460436484323482,0.796344676067693,0.2784352181889125,0.5310207307491893,0.8765274308377508,0.06712541466787358,0.7592043367220355,0.2623047025469243,0.7164836813058851,0.6349625339391264,0.7241516914888915,0.6960947110219389,0.6486095610529498,0.6985176168092726,0.5435629650715662,0.076807157077185,0.8410403703175662,0.5862374383796739,0.5185168884703555,0.15200847382137517,0.4746182702317048,0.675805021345288,0.8500938634369442,0.6286622309265093,0.6168624465933773,0.5594786767249363,0.9097462829301989,0.8503979311911943,0.9194859098747569,0.7624895606331188,0.21284707347724674,0.5853312559255432,0.8170431277124975,0.9498935265650805,0.7926375511201854,0.5392624662109828,0.48296918081578644,0.07567425719714205,0.17156581622302136,0.6602956087679048,0.37006811219632596,0.49622276082622496,0.02218852602461374,0.7729045565640541,0.4324883296512946,0.5388391894969683,0.8325330307596557,0.7447464575098226,0.8411664337763262,0.6525254012063458,0.14155496725502603,0.24429501315251068,0.4614572888548143,0.668650946700303,0.5647001671667371,0.7484316292357494,0.5591472146260508,0.4801232300708479,0.7089419457050643,0.4360946146692396,0.6351899839948107,0.1970289699100365,0.16397651353206644,0.3751016674769888,0.5602234878081186,0.5775700602999395,0.5079611228740061,0.920343486964768,0.3789118545916793,0.4970440150350167,0.9637516302511395,0.31483068420727356,0.5422175958082199,0.22219525271857088,0.013531238674653223,0.5287621507984739,0.2794756432926645,0.5709644320411379,0.8878637125895158,0.9457447106562311,0.810753608453094,0.06373257274559752,0.7770689207911251,0.16228888640953765,0.7249259979589296,0.7779804416564952,0.9360736092151469,0.6291802050686934,0.6104057083239176,0.2845201546581587,0.38108646842464167,0.8580723024822642,0.0016274802132969501,0.6299467428782402,0.12483626074304299,0.13000258702761147,0.6510650019257411,0.9046817082597752,0.7922900642141645,0.5515135668769935,0.5015754745135316,0.486172305505687,0.055380075892953906,0.4439697389411271,0.9300482465146992,0.0673236197441639,0.20790894646603053,0.013038315170905368,0.9931632669198804,0.7477236328139178,0.74413469318792,0.7400520278939908,0.6102394306127472,0.8789260895009984,0.97573752371656,0.5969960761245138,0.44131521453231914,0.6069564159910165,0.23187881548736966,0.8805745333177458,0.4116631968387917,0.9498128677377585,0.8464730852301626,0.8262051996677348,0.7212604256811984,0.6913632468421962,0.47530060442148836,0.35540180229944973,0.12265311838151949,0.467626641511273,0.4727787047795752,0.2139345566292432,0.9307314089473511,0.12295902753184973,0.5611002668239319,0.14403732685653958,0.7613557180980091,0.17342781341556102,0.09265978611522507,0.3388303273148978,0.3026906543397212,0.9917231370693641,0.9864674451603004,0.22424375317692413],\"y\":[0.8414491577960387,0.7886662348655821,0.3218630649712969,0.4071909347454885,0.39285849611073254,0.5151443013162097,0.700256149138084,0.0029697330657139087,0.42320295975085165,0.13163722740188755,0.22291887062100157,0.7751953168112187,0.1367505730576628,0.8049358078744621,0.0888787594649354,0.7512039255876511,0.6884172318300198,0.2352559231206126,0.9715245096384553,0.33449295093173415,0.7372147524703069,0.28804442219291604,0.6046201126205768,0.11949228934030753,0.5563193609210754,0.3921135542349835,0.39368515732441145,0.20906987465369076,0.7487750444060448,0.3070852287666206,0.3283756243515755,0.04204834192142981,0.4360231188771443,0.2793097049739349,0.24060739854816926,0.27704079209399146,0.7734610753062602,0.28262505384276015,0.7215514655733217,0.4293356223902901,0.9975772802514447,0.6657392743700394,0.1494317792537414,0.6792175088250252,0.2270074093851009,0.11438463862987902,0.6731290890530925,0.32934827353566953,0.20332706635993536,0.6123239762866386,0.9696397558617746,0.23752141877588184,0.894325895635681,0.7836689640506246,0.574876711381169,0.6814037839857908,0.6673797983740913,0.7115310878888335,0.3290159010932928,0.004246476726321502,0.05873576329245045,0.9095854897836327,0.4506474231922941,0.5311220176142981,0.48470099053625393,0.3200720538291424,0.6507698389161202,0.017157672280028624,0.500334242610636,0.05324291257305913,0.12960186402104046,0.7024164880564564,0.07570731008985188,0.6341915794792856,0.2556208083210946,0.8394469957408648,0.6879085854829772,0.479695748778317,0.3368175894177068,0.8190703995386612,0.8338811527344518,0.9359135344632822,0.7747646436423208,0.5701895019957525,0.5913337629151478,0.8538575716009084,0.07392422943971877,0.38982048690424975,0.41560849898330654,0.20109016220628084,0.6186610334634638,0.7002065053779216,0.2670071592161193,0.2801563569391019,0.44448019539409156,0.7803776013139926,0.9879674677432928,0.6475590820279362,0.30853803233699073,0.3789136424131476,0.4212794769450535,0.5964455693336832,0.4959037400936115,0.07611571193122457,0.5564322513299443,0.24042801614955855,0.9251722918225498,0.493017548882262,0.31509813129745645,0.26341483011026745,0.5515204113226643,0.016143953198097694,0.5118199152228331,0.4735658498978348,0.47331172928429455,0.4515046195111637,0.16371744050557313,0.9600631540626743,0.9932563338221314,0.018648261919528952,0.30572699716957985,0.7330722641062641,0.5565654498582934,0.895620559392415,0.6757535419234835,0.16488241044804808,0.44007236426788254,0.7278122589550219,0.6745790713922447,0.8998386030537301,0.15744935430244633,0.11317858793265534,0.44328635547623374,0.44716874242109084,0.0719297424274451,0.38306109149545664,0.20027243113450288,0.6159155364479547,0.21078908449093947,0.8529331079591855,0.21740552407465052,0.21425261535741058,0.9000953880037712,0.5134419148769086,0.4681658574731601,0.7607091051702091,0.5491490469436402,0.5493875398246124,0.7020267190445817,0.4035396903164077,0.5447800639615998,0.8933877439300547,0.5930929367585481,0.019837554702057947,0.6365508905748415,0.5042758986437946,0.8925023492307337,0.9875720712127072,0.8989556102915597,0.0446381074765817,0.08819209655937044,0.278896844987651,0.6299683221111634,0.678153148887601,0.7654248378350405,0.23489910549943072,0.4950749498946132,0.5373936965550616,0.3212622584650463,0.812144373661508,0.38164938799691117,0.8334862066655535,0.03745970681173283,0.3278883828552992,0.5999422361733993,0.5163086650795802,0.4303226481896154,0.35224770659660354,0.7585338192162885,0.1184847333880672,0.2505552317405334,0.3497906744765056,0.14824214848949968,0.7554987057251947,0.36473176031096677,0.4651152826473506,0.3057197757051159,0.6667395637492277,0.6708485761606048,0.5060681683572934,0.6896348859727953,0.32600589813565795,0.3391200440186103,0.18586826735985928,0.6008442345807259,0.8946577694052734,0.6250539503644656,0.7062806397571186,0.1208922055474212,0.5251327012676965,0.18475500790006083,0.9595999623687761,0.5095552183972956,0.4522062996382683,0.42170985422153306,0.047460947566300926,0.7868500619788186,0.42522797867257023,0.5688887487463808,0.8083879207287799,0.6399029297716955,0.9235638228611841,0.6760403629421873,0.47528564041454335,0.6088181849622675,0.6949192853423104,0.011576810002279947,0.98761017875331,0.2984550601147433,0.9189924322583536,0.687618675576036,0.5671260371465962,0.8648928234792227,0.8047764513683275,0.856060117816783,0.09239772072538632,0.5925318345908167,0.27623100089411423,0.8847718721711294,0.760962790681454,0.8493910042900957,0.7704054079986433,0.5710625923411188,0.143118023496699,0.8887674696802357,0.9713974080930186,0.7707926189939258,0.6767232055750337,0.16382482278310817,0.7902400277797158,0.5813293164657473,0.12033459640058208,0.5061723832583243,0.10065233636915027,0.9983616382688374,0.07328564169895324,0.7460306181417493,0.9861348422997787,0.45243679391813707,0.644781062173833,0.9668199113200644,0.598110448368416,0.6002102680646257,0.694731663335396,0.7721672376415528,0.4792149860419146,0.4977661791657423,0.1551743135881294,0.4824925473272673,0.7136590927441027,0.03650151332651852,0.01116803193233995,0.2923438182057211,0.2777171718427379,0.7935453048945412,0.09585965755872583,0.3491114843895272,0.6742480364774324,0.4330975908128398,0.5988842556868768,0.6194670643185746,0.8348779422871819,0.7487847668316752,0.42356842044559173,0.9478901996502842,0.7959182685505167,0.4642032205771658,0.5593069213824146,0.21940196129947243,0.7378267814325704,0.6104369482751352,0.4427629784607572,0.4691742720866572,0.6525883106354405,0.055564285378659206,0.35019439569283384,0.08569633387008746,0.5316249723209268,0.5769733955106384,0.1523895928345368,0.2771272775242606,0.5815932736915742,0.39960902361387274,0.8836224693877996,0.2948282347533602,0.2780970040798759,0.434881147197156,0.7024141836535589,0.11773964308138807,0.8362823355680946,0.4323461967055523,0.5818803905804236,0.9505700209498855,0.055729726453634276,0.34038636744960826,0.3453117851119092,0.39154706729185584,0.37412779592592016,0.4600486884693792,0.6481114072480788,0.7711421396685699,0.8768670124102103,0.46107189702702867,0.055412759879120976,0.09681671117501078,0.3910175634235974,0.17073346260568434,0.575375404427088,0.9876669804654618,0.8115632694625309,0.23388676463852698,0.629946358914962,0.6007041361218518,0.1674497139253066,0.45243330960471306,0.2706903231723068,0.09585678908500839,0.060546384045293444,0.23197515550739423,0.9602943246694009,0.41698407120076697,0.8756953710106393,0.43848393658901297,0.7968197469749722,0.24333627580184947,0.6816834367090606,0.6355803101370252,0.7987954242740928,0.1353283035283488,0.7271785503035444,0.5968017484880982,0.4038028535484044,0.1382961121819707,0.16152789886124264,0.34799695274375086,0.06645295000616913,0.8283556665083391,0.6740248040284431,0.5669813306268491,0.8312271874899009,0.1766495260667762,0.2510871418002163,0.025598494351752876,0.404816558832899,0.3005029191442683,0.2599318768535481,0.5518571212484964,0.5618670015229831,0.16587885206319408,0.6286478319520881,0.478840707385667,0.5226339000582385,0.8935634533322678,0.3874999718072193,0.9450937927971164,0.11532577428250601,0.26789394109909836,0.25776497359696715,0.1797113578611692,0.6141754094571881,0.44538592004374533,0.4397859481404527,0.728973386070818,0.8711112558300483,0.07860698193697835,0.6712320864324289,0.6257269699351766,0.37440280585644803,0.9586503750934229,0.13284444602434042,0.8128136028823286,0.07000272884699066,0.031218924398802472,0.35836554204570703,0.26596311812827056,0.9934222876470495,0.5393107384053085,0.18158217207022853,0.698548646530912,0.8566235599012307,0.4015285392905118,0.3284248648729302,0.6665259260903259,0.6369106133604236,0.6322615017281649,0.7938214454246992,0.30701706627100867,0.41379222212627254,0.2437431190212319,0.43932664747572325,0.05904020592883208,0.023505846503877992,0.024946758984606743,0.6855852657326049,0.7773427828046027,0.5356757372347343,0.6356175782195375,0.19122158478835494,0.2978536363135559,0.39823190035061484,0.8440863513475796,0.24023365492434845,0.09966921910997828,0.5523760881774668,0.5472935621511925,0.8788005303540453,0.6289024842079313,0.19443061050871724,0.8864490561301958,0.4974723795962597,0.24908840687205192,0.7271618214879474,0.24625728708121208,0.04118082626185038,0.3782755954785544,0.6618284898648705,0.4494106949664948,0.7490308725547902,0.21824542239455214,0.26891754544743307,0.1296052834467324,0.7315054106348303,0.7752187293514741,0.3117443691233087,0.691361671635665,0.5917551211789994,0.5460798509413622,0.8720805930933434,0.4744724026019643,0.750195357713209,0.9882093531894889,0.8964029381558378,0.9929134554116218,0.7129351693195256,0.16678538350896976,0.8489378486557861,0.846826599405685,0.8281865429669721,0.7357419601642339,0.7679019395832176,0.7954610278885756,0.8166268582631248,0.4377800140708461,0.8221438612190638,0.35456004574650835,0.7086640145043193,0.6248311132069241,0.22562628454037614,0.12682073823628137,0.33710182009386414,0.012104032530435571,0.5444529746058513,0.3329855905860748,0.10839691259377526,0.18953118875455632,0.7575681434338399,0.39019199939863636,0.10660776986730758,0.3178683875125863,0.5194082756819263,0.03828421054079867,0.4549073299573476,0.8982450694438308,0.8522676700055591,0.9734884189863092,0.10665633813467834,0.04399143579096443,0.7152331258476893,0.8521559841371583,0.9486721643100214,0.03114015959699401,0.4663547350994053,0.9297609428265677,0.8286275013045741,0.618677422704757,0.7766394787665613,0.1385711588474542,0.7712677074849537,0.6447699147749038,0.3502811456323437,0.058494501155388456,0.07640069029499108,0.4533174433919759,0.038485749501516064,0.8528044583708039,0.9620290055087777,0.15704686736036166,0.9177302803805617,0.16629404124284386,0.667201279227093]},\"selected\":{\"id\":\"2029\",\"type\":\"Selection\"},\"selection_policy\":{\"id\":\"2101\",\"type\":\"UnionRenderers\"}},\"id\":\"1991\",\"type\":\"ColumnDataSource\"},{\"attributes\":{\"line_alpha\":0.6,\"line_color\":\"orange\",\"line_width\":5,\"x\":{\"field\":\"xm\"},\"y\":{\"field\":\"ym\"}},\"id\":\"2024\",\"type\":\"Line\"},{\"attributes\":{\"callback\":null},\"id\":\"1995\",\"type\":\"DataRange1d\"},{\"attributes\":{\"active_drag\":\"auto\",\"active_inspect\":\"auto\",\"active_multi\":null,\"active_scroll\":\"auto\",\"active_tap\":\"auto\",\"tools\":[{\"id\":\"2013\",\"type\":\"LassoSelectTool\"}]},\"id\":\"2014\",\"type\":\"Toolbar\"},{\"attributes\":{},\"id\":\"2097\",\"type\":\"BasicTickFormatter\"},{\"attributes\":{\"data_source\":{\"id\":\"2022\",\"type\":\"ColumnDataSource\"},\"glyph\":{\"id\":\"2024\",\"type\":\"Line\"},\"hover_glyph\":null,\"muted_glyph\":null,\"nonselection_glyph\":{\"id\":\"2025\",\"type\":\"Line\"},\"selection_glyph\":null,\"view\":{\"id\":\"2027\",\"type\":\"CDSView\"}},\"id\":\"2026\",\"type\":\"GlyphRenderer\"},{\"attributes\":{\"callback\":null},\"id\":\"1997\",\"type\":\"DataRange1d\"},{\"attributes\":{\"callback\":null,\"overlay\":{\"id\":\"2105\",\"type\":\"PolyAnnotation\"}},\"id\":\"2013\",\"type\":\"LassoSelectTool\"},{\"attributes\":{\"callback\":null,\"data\":{\"xm\":[0,1],\"ym\":[0.5,0.5]},\"selected\":{\"id\":\"2104\",\"type\":\"Selection\"},\"selection_policy\":{\"id\":\"2103\",\"type\":\"UnionRenderers\"}},\"id\":\"2022\",\"type\":\"ColumnDataSource\"},{\"attributes\":{},\"id\":\"2104\",\"type\":\"Selection\"},{\"attributes\":{\"fill_alpha\":{\"value\":0.4},\"fill_color\":{\"field\":\"color\"},\"line_alpha\":{\"value\":0.4},\"line_color\":{\"field\":\"color\"},\"size\":{\"units\":\"screen\",\"value\":8},\"x\":{\"field\":\"x\"},\"y\":{\"field\":\"y\"}},\"id\":\"2017\",\"type\":\"Circle\"},{\"attributes\":{\"fill_alpha\":{\"value\":0.1},\"fill_color\":{\"value\":\"#1f77b4\"},\"line_alpha\":{\"value\":0.1},\"line_color\":{\"value\":\"#1f77b4\"},\"size\":{\"units\":\"screen\",\"value\":8},\"x\":{\"field\":\"x\"},\"y\":{\"field\":\"y\"}},\"id\":\"2018\",\"type\":\"Circle\"},{\"attributes\":{},\"id\":\"2101\",\"type\":\"UnionRenderers\"},{\"attributes\":{\"text\":\"Select Here\"},\"id\":\"1993\",\"type\":\"Title\"},{\"attributes\":{},\"id\":\"2103\",\"type\":\"UnionRenderers\"},{\"attributes\":{\"data_source\":{\"id\":\"1991\",\"type\":\"ColumnDataSource\"},\"glyph\":{\"id\":\"2017\",\"type\":\"Circle\"},\"hover_glyph\":null,\"muted_glyph\":null,\"nonselection_glyph\":{\"id\":\"2018\",\"type\":\"Circle\"},\"selection_glyph\":{\"id\":\"2019\",\"type\":\"Circle\"},\"view\":{\"id\":\"2021\",\"type\":\"CDSView\"}},\"id\":\"2020\",\"type\":\"GlyphRenderer\"},{\"attributes\":{\"fill_alpha\":{\"value\":0.5},\"fill_color\":{\"value\":\"lightgrey\"},\"level\":\"overlay\",\"line_alpha\":{\"value\":1.0},\"line_color\":{\"value\":\"black\"},\"line_dash\":[4,4],\"line_width\":{\"value\":2},\"xs_units\":\"screen\",\"ys_units\":\"screen\"},\"id\":\"2105\",\"type\":\"PolyAnnotation\"}],\"root_ids\":[\"1992\"]},\"title\":\"Bokeh Application\",\"version\":\"1.4.0\"}};\n",
       "  var render_items = [{\"docid\":\"282f5054-a954-4e1c-9401-e0b840eac50e\",\"roots\":{\"1992\":\"e94a423a-544f-4f37-9860-8fcbeab872a2\"}}];\n",
       "  root.Bokeh.embed.embed_items_notebook(docs_json, render_items);\n",
       "\n",
       "  }\n",
       "  if (root.Bokeh !== undefined) {\n",
       "    embed_document(root);\n",
       "  } else {\n",
       "    var attempts = 0;\n",
       "    var timer = setInterval(function(root) {\n",
       "      if (root.Bokeh !== undefined) {\n",
       "        clearInterval(timer);\n",
       "        embed_document(root);\n",
       "      } else {\n",
       "        attempts++;\n",
       "        if (attempts > 100) {\n",
       "          clearInterval(timer);\n",
       "          console.log(\"Bokeh: ERROR: Unable to run BokehJS code because BokehJS library is missing\");\n",
       "        }\n",
       "      }\n",
       "    }, 10, root)\n",
       "  }\n",
       "})(window);"
      ],
      "application/vnd.bokehjs_exec.v0+json": ""
     },
     "metadata": {
      "application/vnd.bokehjs_exec.v0+json": {
       "id": "1992"
      }
     },
     "output_type": "display_data"
    }
   ],
   "source": [
    "from random import random\n",
    "\n",
    "x = [random() for x in range(500)]\n",
    "y = [random() for y in range(500)]\n",
    "color = [\"navy\"] * len(x)\n",
    "\n",
    "s1 = ColumnDataSource(data=dict(x=x, y=y, color=color))\n",
    "p = figure(plot_width=400, plot_height=400, tools=\"lasso_select\", title=\"Select Here\")\n",
    "p.circle('x', 'y', color='color', size=8, alpha=0.4, source=s1, \n",
    "         selection_color=\"firebrick\", selection_alpha=0.4)\n",
    "\n",
    "s2 = ColumnDataSource(data=dict(xm=[0,1],ym=[0.5, 0.5]))\n",
    "p.line(x='xm', y='ym', color=\"orange\", line_width=5, alpha=0.6, source=s2)\n",
    "\n",
    "callback = CustomJS(args=dict(s1=s1, s2=s2), code=\"\"\"\n",
    "    var inds = s1.selected.indices;\n",
    "    if (inds.length == 0)\n",
    "        return;\n",
    "\n",
    "    var ym = 0\n",
    "    for (var i = 0; i < inds.length; i++) {\n",
    "        ym += s1.data.y[inds[i]]\n",
    "    }\n",
    "    \n",
    "    ym /= inds.length\n",
    "    s2.data.ym = [ym, ym]\n",
    "\n",
    "    // necessary becasue we mutated source.data in-place\n",
    "    s2.change.emit();  \n",
    "\"\"\")\n",
    "\n",
    "s1.selected.js_on_change('indices', callback)\n",
    "\n",
    "show(p)"
   ]
  },
  {
   "cell_type": "code",
   "execution_count": 13,
   "metadata": {},
   "outputs": [],
   "source": [
    "# Exercise: Experiment with selection callbacks\n",
    "\n"
   ]
  },
  {
   "cell_type": "markdown",
   "metadata": {},
   "source": [
    "## CustomJS for UI Events\n",
    "\n",
    "Bokeh also has a general events system\n",
    "\n",
    "All of the available UI events, and their properties, are listed in the Reference Guide section for [bokeh.events](https://bokeh.pydata.org/en/latest/docs/reference/events.html)"
   ]
  },
  {
   "cell_type": "code",
   "execution_count": 14,
   "metadata": {},
   "outputs": [
    {
     "data": {
      "text/html": [
       "\n",
       "\n",
       "\n",
       "\n",
       "\n",
       "\n",
       "  <div class=\"bk-root\" id=\"eb01f6b9-bdc6-490d-a8ea-9ea0964a5e35\" data-root-id=\"2196\"></div>\n"
      ]
     },
     "metadata": {},
     "output_type": "display_data"
    },
    {
     "data": {
      "application/javascript": [
       "(function(root) {\n",
       "  function embed_document(root) {\n",
       "    \n",
       "  var docs_json = {\"7bb47567-acc8-4bf8-b2d0-6cc675efc319\":{\"roots\":{\"references\":[{\"attributes\":{\"children\":[{\"id\":\"2194\",\"type\":\"Button\"},{\"id\":\"2195\",\"type\":\"Row\"}]},\"id\":\"2196\",\"type\":\"Column\"},{\"attributes\":{\"children\":[{\"id\":\"2166\",\"subtype\":\"Figure\",\"type\":\"Plot\"},{\"id\":\"2193\",\"type\":\"Div\"}]},\"id\":\"2195\",\"type\":\"Row\"},{\"attributes\":{\"data_source\":{\"id\":\"2188\",\"type\":\"ColumnDataSource\"},\"glyph\":{\"id\":\"2189\",\"type\":\"Circle\"},\"hover_glyph\":null,\"muted_glyph\":null,\"nonselection_glyph\":{\"id\":\"2190\",\"type\":\"Circle\"},\"selection_glyph\":null,\"view\":{\"id\":\"2192\",\"type\":\"CDSView\"}},\"id\":\"2191\",\"type\":\"GlyphRenderer\"},{\"attributes\":{\"below\":[{\"id\":\"2175\",\"type\":\"LinearAxis\"}],\"center\":[{\"id\":\"2179\",\"type\":\"Grid\"},{\"id\":\"2184\",\"type\":\"Grid\"}],\"js_event_callbacks\":{\"selectiongeometry\":[{\"id\":\"2198\",\"type\":\"CustomJS\"}]},\"left\":[{\"id\":\"2180\",\"type\":\"LinearAxis\"}],\"renderers\":[{\"id\":\"2191\",\"type\":\"GlyphRenderer\"}],\"title\":{\"id\":\"2275\",\"type\":\"Title\"},\"toolbar\":{\"id\":\"2186\",\"type\":\"Toolbar\"},\"x_range\":{\"id\":\"2167\",\"type\":\"DataRange1d\"},\"x_scale\":{\"id\":\"2171\",\"type\":\"LinearScale\"},\"y_range\":{\"id\":\"2169\",\"type\":\"DataRange1d\"},\"y_scale\":{\"id\":\"2173\",\"type\":\"LinearScale\"}},\"id\":\"2166\",\"subtype\":\"Figure\",\"type\":\"Plot\"},{\"attributes\":{},\"id\":\"2277\",\"type\":\"BasicTickFormatter\"},{\"attributes\":{\"width\":400},\"id\":\"2193\",\"type\":\"Div\"},{\"attributes\":{\"formatter\":{\"id\":\"2279\",\"type\":\"BasicTickFormatter\"},\"ticker\":{\"id\":\"2176\",\"type\":\"BasicTicker\"}},\"id\":\"2175\",\"type\":\"LinearAxis\"},{\"attributes\":{\"fill_alpha\":{\"value\":0.6},\"fill_color\":{\"value\":\"#1f77b4\"},\"line_color\":{\"value\":null},\"radius\":{\"units\":\"data\",\"value\":1},\"x\":{\"field\":\"x\"},\"y\":{\"field\":\"y\"}},\"id\":\"2189\",\"type\":\"Circle\"},{\"attributes\":{},\"id\":\"2173\",\"type\":\"LinearScale\"},{\"attributes\":{\"args\":{\"div\":{\"id\":\"2193\",\"type\":\"Div\"}},\"code\":\"\\ndiv.text = \\\"Button!\\\";\\n\"},\"id\":\"2197\",\"type\":\"CustomJS\"},{\"attributes\":{},\"id\":\"2181\",\"type\":\"BasicTicker\"},{\"attributes\":{},\"id\":\"2176\",\"type\":\"BasicTicker\"},{\"attributes\":{\"ticker\":{\"id\":\"2176\",\"type\":\"BasicTicker\"}},\"id\":\"2179\",\"type\":\"Grid\"},{\"attributes\":{\"active_drag\":\"auto\",\"active_inspect\":\"auto\",\"active_multi\":null,\"active_scroll\":\"auto\",\"active_tap\":\"auto\",\"tools\":[{\"id\":\"2185\",\"type\":\"BoxSelectTool\"}]},\"id\":\"2186\",\"type\":\"Toolbar\"},{\"attributes\":{\"source\":{\"id\":\"2188\",\"type\":\"ColumnDataSource\"}},\"id\":\"2192\",\"type\":\"CDSView\"},{\"attributes\":{\"dimension\":1,\"ticker\":{\"id\":\"2181\",\"type\":\"BasicTicker\"}},\"id\":\"2184\",\"type\":\"Grid\"},{\"attributes\":{\"formatter\":{\"id\":\"2277\",\"type\":\"BasicTickFormatter\"},\"ticker\":{\"id\":\"2181\",\"type\":\"BasicTicker\"}},\"id\":\"2180\",\"type\":\"LinearAxis\"},{\"attributes\":{\"callback\":null},\"id\":\"2169\",\"type\":\"DataRange1d\"},{\"attributes\":{\"callback\":null,\"data\":{\"x\":{\"__ndarray__\":\"3Dvr7teJKEDenL9vDRlJQOJBa7y3nQ1AVg4nIvtVTEB1U2QU5V5QQLsqfNDjyVBA8rz/zzHAQkBK8f3RrhbxP7QszcTiMlZA6dJ+mYrmJEDgceqb5ktYQNfm0yPQXkVAZle7kgUgQUBLzkrLBipTQC8M/U5YIVFAhqAUjUwUPkCm/j40yM1SQBuRIreIMydANhffoaMHH0AoptSxadlOQPkmhIT6ZT5AKl/3rqZHQUBmjpoEFgFYQObGvYFRIVhAKGbVSygjQUDGeexDIeNUQM3jlRLmsVVA84fFmcVuSECnlHMu3kczQC/q4TDbek5AEERYg4E2RkDlRzTk7uNPQMuTtBN2LkBAWy7mV6AVUkBhQtqFpvVIQKEe19OrcjdAw21VTwVbCkDupKREJFVSQCUuUIqu7T5AQz+LrBBZUECT2L1GFx1FQBcL+LuSEFNAb1Xdmwn8SUCKsgzy8lQNQNyMc/0gRFVABoLUSUgqNkBvxVLZfEBUQKLBvaJ5DkxA26rDwUKqUEBG3CRIcuFSQJWyvuy3mkxAJt4WzvdvQEDog7C1De5YQEBiHtadlUlAcaA+/lf/LkCNdXM2QeFSQEr/43gH8jxAFHBhcbvlVkDfzGbwm9E9QL6spM0jGEBAnFQkz9cESUDu9of/JQApQHsgVWHXfSJA6G39uDrgU0AIcfwtl4NDQLLFpNHAKVZAn8v17/+CSUDEl1u5UkpRQEFX1j9M3TlAmGNvH90n1j80p+pobvEnQBTjK+F5DUhADqll37RALEBKkd5Gi/I0QF96zm4IkiJAICATPcu5RECS3GjoZlZVQOo61JIvgFZAAhVRvrr8IkBN/j3sgY9VQCaUSQHdLldAcse3/fu8QUAB/ub+R5w5QE7u2QbtF1ZATNUis/rYSkC7B3s2Yt06QPiq3DRtAjNAH8wzmvvBVkDDGqVvGVFSQA1aS9N3JFhAkr9zbohzREAcc3UVQA4TQLD1GPYWPMY/Jmgd5fkOKUAM08ENQe85QOU0LmI42kZAFx2e4uN8V0DnvnfmOpcQQEYbodPDOFZAlLF8n4lJFEByW7vRZsJCQNbp0D1TalVA64SGUs+DVUAiGm5wYiZJQJih9IIbh1NAC5EY7NbnNUDjqWcSiBxMQD+1i7hxfVNA7QGYtqW6V0AmVeivoiRQQPdSws8tFlZAHYn5joxoQ0CP6CYmtqFQQIRzau6WpUpAoe0JRMlGWEClxb7pdClPQGoC8nUB9UtALBUS3E+BRUBLKIspIh1VQL2F5Axd/1FAXuDjSI2XVECYIDXXF/rZP4VBfiHuZ1VAQ/dkHnt7OkBmQyS4OWVUQBy66ku2iVJAOujgpp4vU0CBtlc2+ENRQFDLRMbfalFAQANEXeY5JUDC4eLI0sNFQGTQ+jA1FzRA2S8XWK51SUAVXV0gdU86QDA5GAk4vFBAyxyZ5u/oU0CiPs3PynIxQCVSHTx9JktAmoiLq8aAQEDHdPCctKs8QM1NjmWKWEdAriExgNZ9VEBgljYYkolAQKUlP4uRlRFAq7h38i/HVEAorKPsNZY8QAxWc3rLGS9AyTd7iBFRAUAFABD5FA5YQE14V5h2cFZAGUpUf25LV0C29mrG2mlCQBoiDThlSR1A8Cj6tErJNkAY74fVIL0XQEZVJoOTiFFAGKK/v/VREkDxRD54uLZIQAoILN2SghdA4BFjRtWFWEDagvoMN6hKQI9bPtqGik5AmNSGsBbJL0BxJo2cfQU2QNAm5IuVR9Y//9g/HaZCV0AzM2m7ruo+QNps7fv2sjNALEJ/vSOyNEAtFemqKWI6QA9KDeYLkFhAhbYNjs4PTUBCRfS+UJosQDgcLIl0oVhA0tTZyjD6TkAICsEYtug9QHGkK2de3g9AuMkrFajEMEDuiN7w6nUhQJ7DJhC/yClAa0EuTQlUWEChTxwdgUZRQFF4p/inYEZAzFqtVjHsUkC8t3LpL7viP5296yXctjFANNKdDvFqMkCR5A4VVS1CQDNGnJUw20JAAFhUDbXcQ0BfWJcpv3NFQM6iBKhlxyRADReTDGuGO0Dxbi/RoboxQLaCq4pFTT9ACdy4laA5TECOI4Ve00Q3QDRSuuTatVJAFJJdQmILLEA/HHhw0JtSQOwJgDgR3yRAvsWrk9xuUEAhuuLec7xTQKyRY2mgQidAYpUFz4LcUkD93TvfkYhMQGtIrj3WXVZAW93m+uvhO0DHBPQ39LlVQGaEVdI+LUJAHupVoeTWUkCOh/Ml7EAmQFMvqQy6GlNAxEVsGAQCNUCC7V/L6UMjQDAaNG68WDlAHUOBdmJ0QEBF3hXowQFJQJ/Bx+9s9FhADHManBtvVUAxX8AnMg5YQJOv3C+tYlhAYQMLgBwtVkC0VjfHfwVOQJIXgloD11BAKGvq5b5eTUDb6bAVq0FVQPgVH+7CrFZAnGqvjb87QUAKqZr26ndNQAH8/9WGqkdA5gpFO89MEECWUDbz94VYQK9+AkyIPkdAHTpGvt9SRkC8ngYGsd1VQPksjC6FrExAJgapSclJDkBS+7w2SYFHQIb2C79ggVVAWlVwzlTrNECoeWbKIJNEQP1kFrIM7S1A70lQC8xoVUBuPyepi2pVQCSt+KQe9U9A8oWcV7KsSUDIZkvd1WlGQHeTm7iloFFA99XXy1lwU0ALnNJ8RaYIQDPk0kkwv1RAIK3ljQywU0ANkb5PtjRPQFoLrGR/3zlAdVzoEV2SMkDckJinY1cpQOk/7NT3Y1JAdikBEkB9OkAga++9rbwjQOY4iZJnOFRA+uXJ3XZrTUAQpGIWTowvQBvUpdGWYCFApXM6rQPlREAk54AagDxTQB+wjFQIQ0hAYMj2LpmGMEC6NuwEK1VRQDhOksvo8zVAWxWeeKguVUBkzQuQ7JVSQL0/yt+2dz9AAln1K/RFVUAqH83PrW5QQA8H2gPgf0hACTkTQ6/lVkAdkJ3G4MRTQIcmARqXRQRA3y4KvI1EVUDtPu5GpGRPQA9V00wDBlRAOt/hVzx/S0CNhsA+3UZHQFcrCJIuzwJAITb3/8j6UEDLxP7Kjy9WQLT1nWkPCkZAh5GA86VEQEC1lTuUr9RWQKK8cn0f5kFA3N/IsSHLI0Av/+o5xFFLQNm9qq2q9EFAXNqLxt/aMUD7K8L3Loc3QMLmgxQO51FAMXNbqYfmOEAbXveUIGFYQL6IA+WXrEFAebXyB7BgMkA3x+E9DENUQBz7NlbvxFhAxCpCCo84J0CBF30DUbpUQKGaZiX9hS9AMMBGtl2K8T/mMOhgIGREQMxnE73b9ytAHhpYi4B7TkCKhTIr76dUQBclELZdqhhAC/mZr/kvNEDbc1WHURU8QPRKTsjEMzpA3aWl3W/kRUAAFn0dFdw8QFiJb7O9tf4/ejXXectrTkDBlrKKzutQQJD75AEMf0JAeq6JfplFTUDuEP6fpedLQBEuKY6YOVVA0ZulDeRWSEBN9xDrRyY2QDoqsK4OFFJAVm4YWSoLP0AYET1MLHlXQDnqWn4XC1ZAzxm1q0TyQUB9Y6UtBRtUQEaaXl/G1kNA1L9mIEGIVkBoz+YRsHdXQCaKgLIueiBAIhAxLB7tOECaaPMIZagkQDyTN/ORW0xAEd58M34fTUCrghXL3y5QQMH9HAjfNTRAFW/i8sVPQkABvqJLkdVJQJ5azoSc7BlAbiYpFUNXPEAE5FlI+Qw8QCGpUT2tFilAbFdbvsdAD0Bbo6ShKt5RQBsDMCm4wDpAuIiFfGLzT0An4HEXs1dQQFeMElOpESlAcO6Yr0v7Q0DgVvQoUnNVQMz22BWJrFNAGBykh3AVPkBcwrE20gE3QMj4SP+wp0NARSRPFZKfNkAt9oZp24pSQIET1yLMOVZAExbPLCVpNECsyWotCBxXQLkug9gZVSVAslxUbMkySEDU68SvtQglQEzmCCSxJ0BAtx4dpOMENEA3ShKJ765BQO3CBfOx00RAqMSLS047R0DH5V7UTCswQCwc90pfmlFAOr0k/xEHGkCZcNjuYYRVQAYda7vuCVJApndqvWZOVUDxCzAR/SlYQGQtbCpELlhA3FqPW8gQUkA9qHOU9UNEQCSK/0attvA/nvqxUXjvVUDsAvjGTqlYQDoGLuj3WFRAb5OxfN1aTEANZnJke/IgQKftWHcDlVFAHvZV23KDLEA+G7HzIr9IQCwsWjeM4E1AW29us6aOV0AyIw22dBJRQOKZCMgv4FNAPCBGRvF7PEAsjma5vmRQQBqicfNfrlZAvcekPei/MUBXQZE3u8hNQJ+EBQHTr1VA92nIn8fNSUC0gEJMGh1YQAacl/2S5VNAd63p0hQgTUAdy9P/j7wyQLSaTbNAKVNA0nkcDap6KEBAabBRgioiQJ/Qqm3v70dAoNOCMezJWECofgo9koLoP5IkLiFtfgNASU2jTZbOV0DiL9rRyHtTQHeyCb8tikpAkwHCnJ3fUkDC/ya0KLo+QHEnQkK0YldAtIYovsD9UEBjHng+ClFQQJpfwMe1BVFAIgB+6WrbJkAQ5292V8xUQOfMCVdVa1FA45geAA6vSkAoeQt/Cx1HQB0XQhMf/T5AP35RSVhjUkBFKwFMoXlSQNyiN/CyCFFAuYxOZHQdRkAoFTHo0EhWQHntADKV7U5AQLLYDiAJOkBwbUT+VeVEQHfSA5AraExAMCP2PShTOkC6UD7Th+VEQK2lBuEvJkBA7AciXjXzFUDOIUtkr24zQNZtOoVEO0tArzQ0V7nUVUD0HovTAXszQCPXhu2RH1RANsixMtzSOkBGCtOJKE9QQOVkfGnU9S9AF7Hcw79hQkBwN+g3wiZVQGrHrVgrDT9AcgW1i2CTTkCLC7uOB9k9QIjMM1x4HVRALijpO9PjVEBgwFO/E5JNQLla8oQeiiJAioI9F/GvWECuh+NbsgZXQKcj0EQ2ikFA0Vf7aJkFRkAVTXaLbF4/QM+9GyLHS0RAdg80hJRxO0A/V3ZDIotLQMisr8fDUTJAncyFqT2zUkDzSDHTliA5QKvzIpR0rVRA3skU98FDLECQejnguQxGQALS2N5mC01AVXrLrRzHJUDJSWxy7VBIQIBy/FFksDdAC2lYoGQ+UEBkhBy/BidXQM6iARhkE/I/pTXmsTlzDECOy2H5PfU5QEPXQcUFxE5AXjXwiWjnUEAZAPCkzshHQCncsO2vFhNACMhzQ5StWEBaPh+MXFdBQCYjv50APEVAFhabF8L8TUCe8eTmZNtIQEqV+SJgXlFAvn0h7rSQMUAoyzZDPBJXQBCwzGZvlFhAbrv8IH+XVEAKly6wqANUQAV2HHQiZ1hAUDuts2cVEUDE0cVs4g9OQIhGgOfbs+s/BePKLByLLkDkZsBO5Ws8QCOvXg4s4k5AIF9Z2YVEV0BsdhxGNpZXQNieX4RQ20JAUPQbIGa3WEBYmeYeXPw3QPsH82RBM1VAdb07o2L7EkAej+l6eshYQGTpuuhqNUZAphxwKIPnWEDYW24xa88RQJPE5lECKkpACsVDDQTMUUDqDXmfFm9UQHfm5xPsJEJA0s3hEtL0DECs6I4OQZEgQFFlAoZdL1dAtxXU695aWEDiCx7qkB9YQFUPqKjgsERACAd4mc8xD0Bm++P/jVAuQKI2Ly0ZTkVARRWnPd28QED4vP1Y/Y9PQBQ2Df+NqFVAtnkER2zPUEAcnlieBf8aQOusBuz+SklAcR2DauO8TUCMvnGewmtXQBISlrQQrE9AjTqwAOlXSUAHJQnnXWdLQOAJCPTPg7E/t2YfYHTgRUCe3uNDpL5FQGoT9Mvh401AjjZx01MfVED9sbJSsHRSQBx0RIJrnPQ/g0J9ugyYMUDcKJdHCHcrQJ8agzWZh0BANH5L16HvQEDGhV5MiH1VQCliv3jetFdARzoInLSxIEAM6CnPTQBMQI2eFojvkDBAU9Yh+OnuIUAojbMDBcpSQLzAEMgCdU9AMkZqg4r0JECLYRik0o83QGD6DCR/p1BA2Dz+wOb4PUAi9Mu4VVQaQAQ4dULCrUNAErX9HnqWO0Cj4JZo+rxJQM0m06Q3szdA1mVEn2KaQECHk9N3A+JPQL7A9/nS+1dAJXPGCz0UUUCgudy8l9JRQLood6WNVlNAbE5c/JOU9D+sUjIZadZSQOG4KKylETdAnnxreWgJUkDt6gROOBpTQLrhQWO2ugZAiUnjpuIpWEAFZcdbiGRMQANjMSug+1hAkJnc25GfV0CEyVcVKGtUQL1D/5n6o0RACbNqw7XSNEBE1sXndzUiQIEc8KfQm1FAN4heXrHMJUAeG31AhXxKQLnVvgxHSVhAZVRVlavRUUD8WG9tilgpQHfEdUWkZENAfIc/9QVOUkBYWByfEWtVQFs7Zf1hyEZARcMCtDX+M0AmGee3NoRJQBzOO0dNBTdACbbzlaxnQUAgHfpYp8VFQE9IYpE8M0FA4l4iwv/9UkDbV6aq+jRPQIqz3s3MY1dA00oloxHGSkAqe3qk4qFSQBhMnZYGGk1A3zvdGRXUSUA9TexXatQ0QEYX1blALStAk1gKM0WMVUDyB3iy9fAmQDtqaWgUtTZA9r5bmarZSUDRo7BamG9KQL+zOmp1t0RARUeOis1TT0CLe6ct9bVNQLoj8fQECv4/CHSnvw7AUUBLN71vBbMaQMZ8VLJ8AUxAehFDdsCvQUBAjF7trDRPQENIJLXkj1BAbC43DP4MU0BHsmau5f9JQFWmrKjhaklAqMyEUluXNUC1MXCZ+M0lQCtCd+v18i5An+y+0MlLV0BJJuuKYdkxQA34Nn7iZDBA0std9Vu7UkA/+/CbFphVQE2m3NogalBAcRwyHjWIVEAQyicaqlNOQItOjEOhplNALAn4waDDTEC7KjdyjwxJQMLgRhFMYypAQWtowKh9PUDvYxpT8AhIQOxeMH1MRShArs1yJr29QEAOGkI5CCkxQAbKLTkCL0pAQcb6CGJKK0AbXXs7sC0+QNUpu16A9k1AUH8NuczfVUATt/1DEjJPQAAzdPCcozJAnzD5/gnwTEABQA8VaJpTQJiy5e0veFNAh4rpYRxWV0CIWUEavKFKQF6hAbbUAVhAIYKBm0EQRkC/vnimhehQQD547vmJ30NAwQ/7+7BCUkDb+qYK8A9SQCocQaydlxlA7+FPHwCwBEDag7JwgL5NQFiXxFtTDDJApCYlm86hTEDma5KV8mMWQFJsvQwMGzVAdWGiqFVuUUAhHcYEQBRRQAJB0SxURiBARrwGtlF4SkDJ+0rEOFo/QAuyGe/zulBAvBAtImRUTkDMhgJ8tcRBQJNg32BbD0pA1/KXu8FXPEDeA2GubslAQH7IFhNH7jFAnKB7H7N7OkBeGCxYZhVFQEetaq9uVUhA+QSqqL4uUEDCGCe+io1FQNViGWHM2kpAIUobmb0qWEDR7YbU9pdUQAvaolj+RTZAKV9Pv0JLOUBFR8OjqxMyQHmeRNJnukFAjb08zUQvN0Dd0Z7qnAI7QF3nXfGF9yJAUFITkaE5TUBuDrH699tVQHnU2Zj7CzlA1zUeFMqHPUDuM3ePw0k5QLj1dxYR/1hAl9/4VlGPKEAOcnibqa5GQDOdlCmDpFNAPmZqYc54+z+b4TAAlb86QO/Xl2iKyU5Ah8Nd2V7ZSUDJH4NMTTlVQH7dXRCJp1hAkZIzwCBcRkAONbB0T7NAQJIICvq6R1hAqrmfFIDGMEAlAH+IW3o1QLtsIZnC8kFA5NEVKhynV0DINVruHMNFQDSnn7BZGVBAfTs2+dPtKUAx32ETgFVJQLYIn4lE1DVA3Zi/G3e3PEBcq1aeSCJTQKUYlYMX80ZAxp7PAB2HSkACgRWV4p5TQKsR2ROOHFBAjGjIoa7yVECj94tri9lIQCIuYaDg0RlArDv1KYxGB0CmPgIfN3FLQICEuOZkReY/nX2w3VfNSUCRtauqHRVGQO1mxcq8nDNAisR6mkA4VUABLxq+qqwsQCidWrC1U05A9IRyP/WyQEACeEu3y81UQEqAqKYcuklAej6q/++fVEAa9yDxCJglQAofDfKe/VFAlil++0URUkBhCm8iGj9YQD6p7KCXBFhALIXtn+r9VEAmkOIdEzlVQMBKCppaNVdAa9A6WjsVUkBYHz/y89ogQBU0WBqCFlNArQeTgcjWVEAwp4hUTT8+QOz7Q138U09Af4ULUHrZU0AnUsIuzUozQGxnfSZs6SFA+3NBBC4xUECCAyzKj8ZOQLB1hW5hPD5A9ysjbY49SkDmwWj+sEVRQLkEAidLJTJAgSgqYcgESEA7tmInf3dOQBmrSDF2yCRA2WMCErwHVUC+tYq1Sk9HQHV+eLZ87lFAq5K0+qQsVkDDEpTPFbtTQOB7I0geij1A6k2R/x5GR0CtXrOoXJxWQLPwZ21GEVFAgkEE0qZyQEAZkPCX0+BBQLqv4FBj0zFA+kztZfnAREDD03dNGB0wQJMQEGoOQDBApx54djm1UkBwyaN87INWQPGB9ctNq1BAr5u9KRtGVUAQzXAVq03cPzQDZzm9RDZAMa1j8JN9VUDwuMzCWgI2QKiGdrpjwBRASiWqWeXBJECfk8gGRbhQQObq3D+Ko0dAn7/Qgj23UUCPkUqPuLA0QKYdPr6fdEdAWCEzlRclUECMuMD92YhTQBELmPQZDlJAGtZEwnqLUEA5stoT9aVBQEUf/CAZK01A5/HLru9gR0Cw0zM2tRssQEhnM3gVJipA/aaNvhbPTkD+l9MPNmUqQOh+OWA62zlA35ECgAAxKECACYaCxS9JQIuasZxMz0BARu0YbKcuNUDS9Gp4xZ9TQEjEV84IVU5AZxu+ADw2GkB8PMVKOY8oQLBbQs5AvjhAE7pyfdVDWEAmbFda2HFHQOIp3YbRzU9AtpNDycj1QEDZ+mdsCHo2QHSZd1RuD1VAzvk+Nqi7QkAsfc0evPdWQHiLwEgweVZATf3MeYM0VUC3qpFu049XQBWAkDPfPAxADNazrxJqQEDX57I81MczQIQENCf1rENACsAP/qLzSkAifCfWdjslQEDsUkra50RAQrzwJl8wMEDakzBoHeNOQKNVB/CYZzBAVRvNwPLAIEBuIfd/mi43QIF0o42nu1hA5m6o5KgIVECNHxflToVSQAGyxudQEE9AkEyCe26cMUBWJ9OXxVRRQModKUskIVhAH0vXwsaVDEC4nAj35NUkQPdnocFDt0hA4isFVIlN9z+K+r6VoTVUQDZEmAdHFU9AeuezgH5YSEC5Q1VMmJJVQOpQCy5kj0FADgKtCcFcREBDE9GP2dtXQBunrltuJFVAGU7FgJA+KUAdZtisFphIQCCEif/gK1JAp0SZlhcVTEDT7fixO8NSQHqfgNnTp1BAKDG1nYNtTkA2TY705xhAQNax3PD+bVNAUL+7T/KfUkCZvczVpBlKQMeUeQwC0SJAymimOG9jUUBGBwi+PNRSQLKYe0F0PRZAFL2al3wTQkB/rhUeb0VTQOcCVCGpmEtAbMtC+jikWECc1sYFuPQaQC8A2FlanVNA4L+UvWdCSECaVuTGc+dSQIVB6m9gd0NAu/ahkHG9SEA9tLWFPm1EQCzUo4Ze/UtAyL666BhEU0B2roP+Gw5RQCJDyk/Js1ZAiYDU13xAQUCNYXLZD7RVQDGav32UgVdAqszJOhgES0DwqmrQ11ZKQJYLRhI7jktAywp9vpP+K0AqLshfkxA5QKNKPIOcSlZA9Fgj9561QkAz928+/ehKQHJ6wAEb5FZAHYkVhMK+V0BOQZ6IT8UtQF9l+c3SXFNA3GTR6ktKN0AnzNnCQpNIQF9gObfidkZArsF3fm0oIUA5dyyGNWpMQOO+DANsiCxAXxbG0jAAIECsG57LKUNGQFeHqcvPwVZAzTT5JfFDVkA6wnLlNyRPQP2+e5q0DDNAUQUSVPzAWEBFhy+bYpZAQKQlHEj9NRlAmp6TW+FANEBpB/3Jf2ghQHdiykhbcDBA4dJtuOLbQEA4gzBLGflCQGdVIsF05ktAxTQrCrHBV0DW721fNzYfQGPdadg8qUxAgtxbntMlRUDfRZ+VOSI+QPJbGP/ZHFNAwu32iBO5O0CDmu3c8G9QQIkJljls5RlANJeTYnY7JkAB/6kaO7ZYQBHV+f7CEDxAQEhES8hYUUDZIpaz961IQEMV7RBePwZAak8FIKXJVUAQQXfhK1ARQLma5p3fU1BAsMj8QnirVkDmic9yty4gQJE1bse7sVhAkoAjE0mKREAAgdyfLh42QLKeXKsnqDFAyBXon4gbJkCAa1uqGIVXQIWmUM1wC1NAaXfKx4kEUUAhyxFo1HtWQGvPCueJckdAVQQbGa0zUkAiVIQDlJVQQOHMhvmgRlRADgGmiZr+DUAGE8I6X7E+QFE4Y2r7BFhAmPoQYsTcWEB1+PozSCRYQLyxo1hoZVFA6pEZ0bVHLUCqp487b6Y1QORPI1qrz0lAtZE4OvYxUUCqX/QcdqpYQIBPkehgzKA/ZBu0wx+tA0CT0+1npeFDQL7+Ajhr/SpAYWr0XWHJJkDC7JaRWLRKQGtDGNJw9SVAyA7sfwNqJkB7MONVL3tBQDVohGaFV0RAZm9KmKd5UkASJhmp09xSQLuqA1sT81BAKnLWs4iUAUBfqllaBF9WQOmhyFr9ghxAZDDnFecWC0AcYRhd8eQ7QD93m1NIDTpAtd4TL8IqRUAl/qA6gZNRQPzk+sKHCSdA9NqRBvQcL0D5P3An7tdLQEzdQyg8akdAzEc+hs+aUUC/nBbVmO8vQMp/VLqsJVFALBbAAp8AT0CLOjAO0WdPQB4PhUd5VlFA9SB3MCEzQ0APQBhA1+snQI87IwkSjU1AuqLG/TvQQUBtjZGu17lCQOBbUPy5O70/BLZzGdQRREDgOxv15/pRQIZMmVz7jSxAtElzapvzU0DRe1RaJjA8QIplwF7TMlZACh4qyRMsUkBIORddGb0oQL2xaAfqmk5AbxktQznoPEBAUDJW405MQEfhEkkFbClABCptBDBkUUDFD7E7gNhMQNonrQQerVNATQep6YoXRECoK9IfSkAXQKJNTH708k5AXtT/t/atHUDy1eOj320zQLKvpn8TqjRAcgwqAEVzV0Bmojk5xjpAQD/XzJYmo0pARXmsi2sKVkBT+e4k0BBQQMfM7MOri1VA08eu+hPGQ0CIjqq9AJZAQMlSoBH5R0JAGgp6QKjgQUDS6iChgnpVQHXPy19UN1ZAQU2elkGaTUDhoLHs9IRXQOace72nEVJAQOfypDS6H0AeGWLK4qkEQDUIJ4ROljRAsn9b1pWlUkDxPPxsTl5LQLR7ArC9BTNAk4/09c0cQkB9MYKpXB1QQI5OO8mj7jRAgFpWYnSpSECIaVC8jXZLQCH/0y9oqVZA9tYfgCQjV0CGaGkDStU3QG1hkzV7ektA7fB6/JVhQ0DBFrWwIr1FQJiloSLvs1ZA5WxMUanNS0BYmtEUoBhMQNxeqSG3JEtAoqoKgPRuNUBYMwowj6glQPzVGTrk3EtA5kKNdQdpVUCVuAiO2bRSQNVNSNhyBVRAV3z4gfLrNkCxVDYBZP1FQCTyLImH1kNAxQMz3NBmREA0X2+iWnBCQOafla4WkElAzPNK0DXrNkBEyMjrL4ItQC9BAYlXPlVAZCxtdbJpUUCD+TEOIOZSQGqNTpgMpldAZ6zJGQJvJECnekJWKG9WQKoITlQZnz1AYBOsqyP0V0Ceh4FFR6FYQL28L+0MLlJAQ6D2kwyzO0BFgt/xbu5PQHRx7Z6aFVNAS/4BCNMyUED+wAaGZ11QQBrsNkFslw5AuhGhqAiQU0CeNxlKZtZHQNpWwAbx5CZACc/7fDVZSEDVD+UrkvdIQHK2M0g2iTdA5d5hZ1yDUkDe8NLJPoBOQAZx6G/sPE1AKPWOj7CcB0AtfGfDdCxVQBkdA+/4vzRA7TY8UbHXNEDExxhKDABUQF03kFr6SlJAp1dtpEceUkA+t9T1YHxMQAhrSAOumDRAQU20bo8sT0CSmVTotalQQK7x+O1go1FAwSz22AdMPUAPS+5pq1lQQPXKXuKEJ1hA2cv+FW2KTUBXH/+xxS0xQHouMuffxSdAZ2pr0rbrU0AJQlo7x4FFQIWHMNA9yj1AYEn+MEoxTEBvYMuq5BRWQII1xHrnGR5A+IdKRos/5T9ueR0OKXFUQPvoENzo10ZA4hMfJbwTS0CA4/nqT41VQINVrYk8QFRANT1q/k/BQkBv3uRbLCtNQJ2pH8wXZVVADlabeHBmU0CwcISVTVpXQLlJD0S730ZArdgnb4f0OkASkFgdV3BQQDG9cIgy8FZA9ctoMND2P0A0J2tW6MMoQABO7A88oDVALfZJkFf/WEAi4g5l6FdLQKPI/ppsxQNA/+3+tBrRCEA3WG7ji0olQFz99RMFO1dAf95JydCqVkCIipUZkBdBQGwyxms0KUBAzXwcVOl3UUCnmGHda/BTQIbIiRg9RExAvKRmK/h+VUCL0T39CINVQOsZtSkanFZAN15tpln1S0DPxvIF4AImQM/0MtFOJk9Al+Jm1FApTkDRDXvNeVZUQIjBx/spVTFAJYwCD7rjREASQznJLZMkQBVeJHxkLUxAxN9iqufpUkDOKzbRA1lRQJeWPbH7oVJAorbH/o9gVEBmsO1A5qVYQH1U8cBDUFVAy5Jh6tFOTUBA5TigIiEVQDvzhmJ0OVNAEq7NlfYcTkC0psBui9EwQOKh7VQm5Q5ACiTAH1gENUDDstQR7P9CQDwmqA3VEFhAJdvij73XVkBkfQOt4mBAQBVQQjskP0ZAcBbM1E4HKUDKmmgdbmFWQAFvv+Vhz0dAZdMhThzpQEANEy6UwPVJQI3nxQO+H1JAuzvQpFVQNkDKYd1U/e5LQGLQp2PLblhAhUWCAJoyUkA6SFu/lEEwQP4vjcnMwSJAJ+omBK1ZO0DPzKP+SOpNQDm/hzM1XElAec3Fka7DQUB+XdbAg+hHQAjyRgnzKE9AzPiiQmi6UUAsH+WXDRpNQHXtmuGxCDRATEXgfSz8I0B6skIDVOtQQF4La8OLzlZAbGmgFVq/TkD+pZuwU31WQEMCn/74qlNAf7QL1BqjQUAvDjYdIotIQG/SZuCiR1VAVEmaoGjvE0DrAUX5J+NXQApdD5NmiFZAU8xdvMwHRkC14mwBhw1DQIffZtGT5VJAY4T7STNmRUB5+kyvlZ45QDGqTuCyPlJAbysdF0ulNUCzf6l6+ptRQBkUFU0uYk5AUh0UT+uQTEDODjnoUjdBQNplwwLTKE5A7j0Xm3IvQ0ABPkRUD9lPQOC7cQQxr1hAYtC45YVeUkBkgJGC1g82QP8Nlrc6xkZAuNU0Twu/TkBmJA6fhSQyQL/VyCQ+GFdAS6lykStOUUCZ2CeEOF5LQCML3Xo2w1JA3Ct9RJufIkCO57c6ZJAtQF/P1TQ0skVAh4aRdzG+PEBTfam0vMVOQEaM9RUAXVRALv38WS5pQUCGqU7Z9JUvQMlWkRmX6UVA+VA+YnCLUkDE3fMcR/NSQOZzlOjpF0hAbmlXlOtiP0DQj0eo0j9XQMy97eAkwkdAYGj6j9cjM0A3tgGCVCgjQNPGlUPwcCdAAwmrzy2cHUDKNXU3vctHQFUZ+YVdG01A76XilCPXP0DSzRjVuWwkQPg2KA0LFlBAzpzneMc8SkBv/SGJH3U2QBazKt/e4i9ARuWIz8qWLEAAW7dZ/rUwQFmjeRuSoVVAAOgIW8PTVUB3PlshOtwyQCmSNbZp905ASArfvfbPSkC6ubyqv9VTQGGqaHQx5khAxbQG6H/lTECC4tPDu8tWQDP2/WTOOCJA3SUVeNTOVED/YHnBTnUzQAXNRebpH0hAUk1pqimEKEBwgRi+dUJJQHplHFE5RU9ATWv+GoFaN0A1X9E8bYdVQP5TyScPQFNAYXVKzJP+S0DYxZw/+XwoQEGoL2rvj1JAAWXQH3ppUkAktw0XzKhYQBwClBAJ/VhA6JyXdKDlUECo456WSoBBQF08p/PWAFhA0734ooG5QkBJtKi6o8xQQBcC7WmdyVFAs3ogCjp0PUBUJkmHHvE3QCkT/p7vPTFAGHDThon/VEDj5Ly/+2BYQJrpB0b241NAC8+rC8xAUUDQPXHler4/QCVC1sZcy0JAgvd2T68nTUDMqgHQwaBUQOFIE11Ex1RA7s4rD7QvVkBgl5pZeUxMQExSzMZSehdARSi+hSq8SkCrkQHercZWQNBzBWcfuFBASqQuXL/kKUBN5vGc48tAQKyMqwXJACxApCtK3TI8TUCFY/V01tNWQHUKR763tkZAH5w4vEK1MkBWtVc8GxtKQDUqJATXrVJAAQcxwWrnU0A0i6XIc8FCQETAyPlE5idAYnyA1lXnU0AZxJgPhI1IQOq/nvwgzUBATs00HRFOMkD4geWDSLtQQBTQ4Cjm+UhA3g5HLc18QkADcxUWgXpWQNPGVOnRolVA94onEaHUVED/72pj7MxEQPZxiA81VVNA1lZNieicVkA6gA+XQ2g1QHovHoDX7EJAU4PZJVlkTUD3vMq/KXAuQIMR2G+vDFRAOwk6hF3tQUBHhwOawkBQQCHQk4JMVFhAYGqGgQ09WEApm3pLN7xDQJQJrmdzETRADtGFu1SVP0C2VhpgM8pUQF8A7LpxLVdAz7Ip/IPDVEAhp/eLOAdSQI9Qe6AT2ztAEhsKHuPxVUALh8k71tNYQNc2fTCatUpAJN8JxnbISkDUN3GwH8hTQOsgQKeYkUBAslsmwCi3JkDgAsNXBTb8Pyx5zhMGd01AUZkYUY/DUUBtmyggezNOQAJzt/eLyUtAMPt1vT3RQkC/dCKYjSkyQFPfyspeEFFAKTEka367SEDOhai+VcpNQGaqgFG4q1hAGPQC9I5JPECph9YAX0VIQHaFUOYEMEtAr0PHRGDcN0AVMXiUqshMQKNsf4S9z1hAFiqYK8oADUBwlcSF7+BXQLwYyPOlX0VAO+vBLJt0SkDsoGWF+MZMQF8Mtk8gl09AWZcZXYO3PUDsu55erLD7P3VORnfwvUZASIrANow6NUDMiPsFkQZSQN8un1z7ik1A+IO9YOwvNUBEcFe1/LJTQGzx7hXC2VNAXHly8H6iUEAEnCuhD9pSQCup4EUt2CJAItaCCo00TECsaURhuhlYQHUZqUWfFUJAK/z6YSuzU0AU5zHahAUwQK4Qa621GzRAM3uyorZbV0Cp5IgDuwROQJozTVCeOSdAwXxQmeODTEAhxbYCyBFPQO2ODMX/kVRA7llWxt3eTUCieJIn5cFPQEBI8ePZwlBAtIzqRw72U0AGHr/HmiBWQHxrsuD7oVNArNx1DHGaVUBQ1mIDw21YQN6+tXcSxVhAUC+AVyb6MEAp34Ix1n5GQAAkOk4uUE5A6IsICUAKUkBfW4uO3UFGQI5EvRajt1hAKO61X/T6V0BeUl0hpdpQQH7hy9UWlU1ABDw/ApdBUUBnoDeIMXNDQMfYiWCYuk9A6W6I5u1lV0BfT85ovz03QCY4iJxivDVAAk45s40YVkA2oKECzkZYQChUbaRaF1hAYcr1jp13AkAGTPfBEuEOQC0sullP/FZAFPOHwI7DVEADSbnKx35WQPAsw4T8nlZAiC3rQZiDUkDwXHy8rVs8QBnamPfEuVZAmwpxcZa0UUCigeA3ZLYZQD6w7GRM+1NAMmxQuFJcQkCBD0pDwVcwQNvsrsUgLVVA0twRFgJTKUCJ/jtPhao3QP78G/90wVJAb6ynis63O0Dzt3QVe3xRQBfTIuF4JUJA+xIThIuETkAm2wqZhAZDQCevXFalt0JAMSQxtiQyUUDSm3UzZR9QQHdGYFp3E0hAZzXHU/4eRUDGSFr9kJdQQA5L+fgmwDVA+WQjeBDFVUB5l5nOPQM4QAfJTJfbw1RAVj43nhHLWEBSc42JOQ4/QMLhTdYGZztAZ8Mnbx4rVUBDfNOdZypAQJujn3IopiZA3TPvOg9JQ0B9xeFXk/1TQMYY5HLzMDtAPwYStWrXU0C8rbRm70oIQBI2kzU7gUNAMLEiywMwRUA/OnTX/RNGQBtj5IZlqCZA31XDczbuUkAVUCucpdFCQJGx5LybVE1A0gNrKuF5U0A9XcIYUydVQEjlWCO1NkdAopXZ+ggIS0BDmCUtkhk6QKoJXPyPgVFA/2NZ7m3QWEDFE+WasaIxQJAMH9Mredw/duack/WzVUBEDqweo5I1QMEOLtZj31ZAPMV/ujusR0C8193430hEQGA3G3TTmlZAQmJCrjyQUkBKcvCJhrA/QGsnQYUWXTNAbfIxkP6bUkBov3nHwWXaP2F8mIrOhDtAVz67ARohVEAD/wB7p/00QIUXJ7aA/FNAJyPp46b/WEBUfK8S1MlCQAOdG4ilRkRAB9OEIVXqS0AZ2C+dCbUOQMgVCeSlxkpAq83pW6VBTkBqBDutWtJFQJOeyndHaElA5kTfbtasFECe8q+lJ8JVQOprvebBdxxAXIxtWohgE0BBHP/MA2ZYQKWSJLehxUVAVdyk17VjJECyT6okBBc0QKFz4MKRbjZA7YauJCTgS0CfTGWlRCA+QDAyOTegYus/abpjLEbkQEBMdXkTen1JQD+i23QsHkBA5NqZTvR77z/klASCa5EqQNGYHFgVqE1AnkBRaXKoKkCveWWHy6wwQD4GPhjHPxhAO/8J0ElMQkB4uQvak5dEQGeuNSyI2lZAwo0JDCreRkCxmeLlvC06QA4TKnZOPxJAKLhmeUPdNUA1ZUhUgpg0QLBzOrD6slNABp25idK2V0AbLELToDVYQMKbRf6BfldArg02EIEnKEBgxQuAye88QAr0B2+xsjhAQ6xbJDV7QkBt7UkDe7JSQPZYshx0PEBAmWStDE0wUEDK4bOuQPFQQEug+JiNR0ZA6+e3Q1fRP0CmlL9IiTlSQHxePV6F2yhAgTfJT/t0QUAr6x1MlJxWQAOhjWtQBUNAK8SjI81XMkB4bTtDZI3TP7ei3H17ZUJACrc2f+JJSkB17J5nuFZVQJ/aiAGMu0lAUxLfbyi7WECPWxTostRQQPmzBQuKx0BAQ1RejunOWEAZ1LYyhUlNQJrrgWbZa01ABQwEfmjDPEAnfcHEIYtRQCqBg0L5rFVA3VsNy3tTVUAGreuddipJQLRou2daYlNAiQl7QILFTkDdjen4gM5JQJyuaFwUxDpA2nyl6vgrUkCS/j59VttYQHoFZlduzSdAWZak+GZnR0BOp71eKiVTQDIC7kzcEkdACfxQu8cySkAdUDMRoNouQPlhIJExK1VAGuOQydbKV0B2IqkKKPFUQC2aWO03eT9AyzMLaNojWECq8flagzQiQPyvpgw831dAzxRXXVafQkANaadjy/VYQIAgCKOe/FVAJT2V5wBpUUCPwwCO1vZUQO/3um65ryhAd9UT5ZGbVEBXBq6RjSpXQNZlXS6f3TRABkozLK6bJEC7dl0dxCUgQMLySLyifztAQPimMUq24T+BA01snABBQGzNZ0ujGRpAdgqDLlVuG0Cu8jPP1ShXQG+ZeBBMm1BAw6fNB1JAQ0AskAti4kAMQGeb+T/qV0BAcNFXb4pAA0C1EE+gsrpQQLTue2gjVVBAntrxTuyNKEC8lgKaV/IWQJTgbSvIDTBAHxICL798IUAB4TglX3VWQDW6bOW1MFNA14UpkzHEUkBlEnVi1hlEQP13Xv9jlzNAvstXEXZfVEDCp3WgkpdUQO+vKyHl4D9AzN5v52pbUkBfS4LdNhkvQGjHW9ZbNFhAFdPhJm0UUkCd4EW5UgNQQGrvgzQblVVALTJzb3GUUEC8varapf8JQNUhoUOnvlFAwzFTjuPoMEAj4dX+FRY0QK+6PbnqOTdAn43Z/0sAWEA18whz8W9TQEU4QUKPEB5A+bRjKQ0+NkDu+gMatCxQQMuzx/bHxFdA05/S51fgVECvh+BqVRNXQP1wwCxMDkVAS5tEk1YfQUA7LDVbQKoNQExjYlAPbD1Ajm/jSvG4TECFTF26WGFVQNbhmXxc4DZAWVnd8hG5NUBeEFJujIs6QHl+J8iBIhVAS2RZ5I3QNkA5fjebblZFQKL5WTaJZFVAsMqYXU4IUEDMH0luoLNQQFzPDx1GvVJAe4UG3arRNEDMkvHHtHZQQMpp+2OoYkdAWVysOIF0V0BAvSJ688ZRQF2vJM5QE1BAyIgzgrTSUkBnMmbPUSw9QIHD/6STFlJAkjStD9D6UkAmtbllrDdJQFro6Zu1bylAyUdKp4QVJ0DC434a8FlIQGd2+E/A7FRAEvOriIQ/NUASVOsKCT0gQGn9oZ784lFAaiapbwLbMkBTDvnAZ5NGQBU8HC3J1UVARTTtiDUxMECQ6PbZ4SkzQNC3mrMl91BAAgq5dtFjV0DvBR5X1whQQGIpot+5w0VA0hhzlK6xS0C2qgPFimAnQFx4tYPghkhA/IT8zGNVTEAhaYcJT/41QCUfWyWL0VNAdIq+jiG5TECknkR+TChBQAYliJ23cjZA0uGyIHRMUUD1kpwPRb1OQIuTyIPwwVFAjM36zKB9OUAWfCqqgy1LQNAwFRn84BhAtJG50VV1V0A9hBb7bYVIQBzpj0EQ5lNACIiFmsnnR0AHpwdFYAxQQKluw9HKRFRAvlyPLMY0VEBceqIjazVRQDlEzorF0FBAxjjM84W0Q0BGae4BopVKQIcdq/lDukNAVGURteE4MkADD+Dw5zNQQEB2woQz00FAlnMwwyl2UkCuaKn5+MJLQFlrvkTOMFVAMM5CiP4fVkBniOER2FlWQMRcoO+xqFJAebX8REkBUkCB+GETDNU3QHd43ukkAkhA6kN6QuXqVUCspKXwXm1YQJmWwaaIUkJALFD3w6tHIkB5o+9YFfBCQM0eOojE10lACESxOj3PUkAJ/cor3ZImQFxX/CLbwkdAjyyZWFhIVUBd60dx21tWQF+eduBfklFAKf3yCKO6UEAWt/GNHbhHQFZUqmoRWFVAM7P9WTNpRUDVI2R64rBVQIlCXYGQzEJAbjyM4wpbTUCu1Ki3g3U1QOB+O+SXjT9ARqyH+jj5TkDD9WKVXvZSQAiJZQh3zFhAH9x/QdrISUCHBN2D9QJLQP5PIVfhaUNACHnN/ZWBV0CQe5wqHG85QF7lkkHeKT1AZCSThMbjTEDF4nQcTYRNQHDBOLCYiy5AcnFeERlNVEDNPmTaX+9MQHdVIHKBg1NAgIX74du5VkBQc9PF8LZYQGYrwJkE8VBAYNKMbuD3MEDWtH8OKgFPQD/HryO4hQ9AVgY2vVu3U0BzCAsVp/RYQPFTA2pjeVBA8kDeYxwLK0BSW0qBjaRDQIG+QfZCs0xADJAdYe9ASUDRLb0rKkFMQAVFcvSCMitAqvYXnXNCWECee3S5WM5KQG833//ec05AMfBq3hbyV0BGrBPR7IFBQKo0fWF3pkdA5rvuOdIQQ0BoeIsYVljYPzO0XvfZB1JAD9TpSY8+UUAz7MmDPslQQPun4hGmo0dAM7ixzxneI0CUEoNuOGlSQH9GQkQ501ZAvmpKMEp6QUAbYBfnd3NLQL477M8c9lhAxpYmnCq/MEDWVsZriPlRQBqEjVTuYVRAR1cbQN/0U0CvriF9xohUQMd4nORxzE1AHcFeAZeXTUD3zhwKjbRRQMSK1ZWr5UdAdZPUaXmWU0BMikOpZL9RQOWBMQaRvThA+5FCk45URUBOsvPYlEBJQICfDzadd1BAxxxXGlfXV0CSXQWrdFBCQHjpCRHu11hAHDOs04+J8j+4nb2LLExAQIPwbymLc1RAJsP881LZUEAhgo+81S1BQLRbzkVXwiJAKXzmofWCSUDb9NbGNcotQAMKpoFEJVVAmtW4juoySUBxfnfV/0lKQAzUK0KesDBAKPsCK6f3VUCl2/Q1Y78YQM2Kr+C5yz9Ai1WlCTIyL0CUEA9G79tUQBDmQvw/tjZAycTTK8DaV0AosPTVCzI4QNCUfprrCVVAMkqQ+m/VTkBbD1Eaz/k5QAROk+QVhgdADOAmwRdIVkAvg0rSHCdQQLHVzV1c1zBAN83ryoKgM0AQp9vouj5HQE3kBal5MjNAU80tJd2yUkC0NwkTJPhXQD96z4RaQ0VASuvjJbUMREA46gsUlM00QOlAR/MOD0BArJ48m/MeUUC6jYMQFrRRQI0Yo2GguldAlMWSU8fyTUB6d6m3ukZVQAiy0KWWvgpA5+PW33T3SEBXv6ldnhMCQFFL5g211FdANH6HZnUsL0DE28u27UA0QMO3vesQkldA50qXvDX8TUAqX/V1ZPlNQOPK6Q7bmThA4KS2OFJXS0Dr09wj0mBTQO/cYJZBTEdAS1RIw4j9QkDr2Y4cJ9FWQPLmZ6/nXFJAbLudpY+8Q0Coeb6RdGhDQBIYZhcnjlhA0l1tS0I1TkCBpLyV6ydXQB2GzREVA1hAvJ1HXaP1TkAbb48dtG5JQPpE/27ZwjVAWgXudAB8QECzcy7s+spWQLxPUUCZnlVA6JZ68EpeJkAqDUbvN/RGQJsNiNbH8DlA4MR/udAYJUCjU8lgUG49QPCgChQLi0RAgPv+boPTSEALBX7ibWVEQCSAgXkhzUVAAJxGmkBHMUCAeVjvdtVTQJnVnJJpay1AErcnKnxPT0D5b+qOxd5DQCTuwmVUsTVAbpzXrBIjRkDvVXXam4c+QL+CI7u3TVRASZT7NJEmTkAzmASLgjxYQJ3bpkXFnElAr1Tz6z6fMEDaJa9MsRBVQDXKypE4ZkRA9x1iqk2+VEARuDQaalo6QNOJcOAwvlFAy1DIBMN7VUB9dmV56exBQGKRjt76wFVA2zyzR36WTECGYbP/tpZIQB/AVFvpnE5A0g7qF/wIA0Aj9knE7iVSQONpYWE/tkhA0XPw5euNUkB0bzrFI7xPQIt7qHawZEdArtVGtxFCU0B/Ttw1US47QAa9kGVuMy5AAk5lqB3dTEA2BBUYeXNHQFdUefs6OFhAq1kVjsAhUUCuyxLQQANRQEa9aec53FBAfxQIxih3UkBA71q5TXI9QM1ybUcnr1hAF5IH5lpbNkAyAxC3OWY0QJvGSlgMT0tAuDYobm4TVECgeiNB9fVQQIaYCb4HdURAk5zmIFX0IECmVksHjUpIQMwo9dfagFFAzqeQnsAtS0CTR+7/PmQxQMa2EyhU2lRAoqf7QLtOVkD5Pc3d3SpWQFzn+bkgu05AKZhfnW8KUkAPEKLnv3pQQIeyvnZobkFA+EA7FKrMU0AVuaVfTn1LQCgd8dXB+DRAYOVEVoT9OEDH67cSV09SQNF/+yM6Xz9ArN8KnMxwWEAvdpi6nRlPQJmu3fAuv1ZA3LDMO18xVkAndooqJ6BGQJQim/J4uVNA6Qn5qBiETkAqfxy+GH06QA==\",\"dtype\":\"float64\",\"shape\":[2000]},\"y\":{\"__ndarray__\":\"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\",\"dtype\":\"float64\",\"shape\":[2000]}},\"selected\":{\"id\":\"2282\",\"type\":\"Selection\"},\"selection_policy\":{\"id\":\"2281\",\"type\":\"UnionRenderers\"}},\"id\":\"2188\",\"type\":\"ColumnDataSource\"},{\"attributes\":{\"text\":\"\"},\"id\":\"2275\",\"type\":\"Title\"},{\"attributes\":{\"callback\":null,\"overlay\":{\"id\":\"2283\",\"type\":\"BoxAnnotation\"}},\"id\":\"2185\",\"type\":\"BoxSelectTool\"},{\"attributes\":{\"callback\":null},\"id\":\"2167\",\"type\":\"DataRange1d\"},{\"attributes\":{\"bottom_units\":\"screen\",\"fill_alpha\":{\"value\":0.5},\"fill_color\":{\"value\":\"lightgrey\"},\"left_units\":\"screen\",\"level\":\"overlay\",\"line_alpha\":{\"value\":1.0},\"line_color\":{\"value\":\"black\"},\"line_dash\":[4,4],\"line_width\":{\"value\":2},\"render_mode\":\"css\",\"right_units\":\"screen\",\"top_units\":\"screen\"},\"id\":\"2283\",\"type\":\"BoxAnnotation\"},{\"attributes\":{\"args\":{\"div\":{\"id\":\"2193\",\"type\":\"Div\"}},\"code\":\"\\ndiv.text = \\\"Selection! <p> <p>\\\" + JSON.stringify(cb_obj.geometry, undefined, 2);\\n\"},\"id\":\"2198\",\"type\":\"CustomJS\"},{\"attributes\":{},\"id\":\"2281\",\"type\":\"UnionRenderers\"},{\"attributes\":{\"callback\":null,\"icon\":null,\"js_event_callbacks\":{\"button_click\":[{\"id\":\"2197\",\"type\":\"CustomJS\"}]},\"width\":300},\"id\":\"2194\",\"type\":\"Button\"},{\"attributes\":{},\"id\":\"2282\",\"type\":\"Selection\"},{\"attributes\":{},\"id\":\"2279\",\"type\":\"BasicTickFormatter\"},{\"attributes\":{},\"id\":\"2171\",\"type\":\"LinearScale\"},{\"attributes\":{\"fill_alpha\":{\"value\":0.1},\"fill_color\":{\"value\":\"#1f77b4\"},\"line_alpha\":{\"value\":0.1},\"line_color\":{\"value\":\"#1f77b4\"},\"radius\":{\"units\":\"data\",\"value\":1},\"x\":{\"field\":\"x\"},\"y\":{\"field\":\"y\"}},\"id\":\"2190\",\"type\":\"Circle\"}],\"root_ids\":[\"2196\"]},\"title\":\"Bokeh Application\",\"version\":\"1.4.0\"}};\n",
       "  var render_items = [{\"docid\":\"7bb47567-acc8-4bf8-b2d0-6cc675efc319\",\"roots\":{\"2196\":\"eb01f6b9-bdc6-490d-a8ea-9ea0964a5e35\"}}];\n",
       "  root.Bokeh.embed.embed_items_notebook(docs_json, render_items);\n",
       "\n",
       "  }\n",
       "  if (root.Bokeh !== undefined) {\n",
       "    embed_document(root);\n",
       "  } else {\n",
       "    var attempts = 0;\n",
       "    var timer = setInterval(function(root) {\n",
       "      if (root.Bokeh !== undefined) {\n",
       "        clearInterval(timer);\n",
       "        embed_document(root);\n",
       "      } else {\n",
       "        attempts++;\n",
       "        if (attempts > 100) {\n",
       "          clearInterval(timer);\n",
       "          console.log(\"Bokeh: ERROR: Unable to run BokehJS code because BokehJS library is missing\");\n",
       "        }\n",
       "      }\n",
       "    }, 10, root)\n",
       "  }\n",
       "})(window);"
      ],
      "application/vnd.bokehjs_exec.v0+json": ""
     },
     "metadata": {
      "application/vnd.bokehjs_exec.v0+json": {
       "id": "2196"
      }
     },
     "output_type": "display_data"
    }
   ],
   "source": [
    "from bokeh.plotting import figure\n",
    "from bokeh import events\n",
    "from bokeh.models import CustomJS, Div, Button\n",
    "from bokeh.layouts import column, row\n",
    "\n",
    "import numpy as np\n",
    "x = np.random.random(size=2000) * 100\n",
    "y = np.random.random(size=2000) * 100\n",
    "\n",
    "p = figure(tools=\"box_select\")\n",
    "p.scatter(x, y, radius=1, fill_alpha=0.6, line_color=None)\n",
    "\n",
    "div = Div(width=400)\n",
    "button = Button(label=\"Button\", width=300)\n",
    "layout = column(button, row(p, div))\n",
    "\n",
    "# Events with no attributes\n",
    "button.js_on_event(events.ButtonClick,  CustomJS(args=dict(div=div), code=\"\"\"\n",
    "div.text = \"Button!\";\n",
    "\"\"\")) \n",
    "\n",
    "p.js_on_event(events.SelectionGeometry, CustomJS(args=dict(div=div), code=\"\"\"\n",
    "div.text = \"Selection! <p> <p>\" + JSON.stringify(cb_obj.geometry, undefined, 2);\n",
    "\"\"\"))\n",
    "\n",
    "show(layout)"
   ]
  },
  {
   "cell_type": "code",
   "execution_count": 15,
   "metadata": {},
   "outputs": [],
   "source": [
    "# Exercise: Create a plot that responds to different events from bokeh.events\n",
    "\n"
   ]
  },
  {
   "cell_type": "markdown",
   "metadata": {},
   "source": [
    "## Additional Information\n",
    "\n",
    "There are many kinds of interactions and events that can be connected to `CustomJS` callbacks. \n",
    "\n",
    "\n",
    "* Widgets - Button, Toggle, Dropdown, TextInput, AutocompleteInput, Select, Multiselect, Slider, (DateRangeSlider), DatePicker,\n",
    "* Tools - TapTool, BoxSelectTool, HoverTool,\n",
    "* Selection - ColumnDataSource, AjaxDataSource, BlazeDataSource, ServerDataSource\n",
    "* Ranges - Range1d, DataRange1d, FactorRange\n",
    "\n",
    "\n",
    "For more complete examples the User Guide section on [JavaScript Interactions](https://bokeh.pydata.org/en/latest/docs/user_guide/interaction.html)"
   ]
  },
  {
   "cell_type": "markdown",
   "metadata": {},
   "source": [
    "# Next Section"
   ]
  },
  {
   "cell_type": "markdown",
   "metadata": {},
   "source": [
    "Click on this link to go to the next notebook: [07 - Bar and Categorical Data Plots](07%20-%20Bar%20and%20Categorical%20Data%20Plots.ipynb).\n",
    "\n",
    "To go back to the overview, click [here](00%20-%20Introduction%20and%20Setup.ipynb)."
   ]
  },
  {
   "cell_type": "code",
   "execution_count": null,
   "metadata": {},
   "outputs": [],
   "source": []
  }
 ],
 "metadata": {
  "anaconda-cloud": {},
  "kernelspec": {
   "display_name": "Python 3",
   "language": "python",
   "name": "python3"
  },
  "language_info": {
   "codemirror_mode": {
    "name": "ipython",
    "version": 3
   },
   "file_extension": ".py",
   "mimetype": "text/x-python",
   "name": "python",
   "nbconvert_exporter": "python",
   "pygments_lexer": "ipython3",
   "version": "3.7.6"
  }
 },
 "nbformat": 4,
 "nbformat_minor": 4
}
