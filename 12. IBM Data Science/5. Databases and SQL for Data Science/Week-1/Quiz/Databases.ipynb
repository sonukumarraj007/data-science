{
 "cells": [
  {
   "cell_type": "markdown",
   "metadata": {},
   "source": [
    "#### 1. Which of the following statements are correct about databases :"
   ]
  },
  {
   "cell_type": "markdown",
   "metadata": {},
   "source": [
    "##### Ans:\n",
    "<ul>\n",
    "    <li>A database is a repository of data</li>\n",
    "    <li>There are different types of databases - Relational, Hierarchical, No SQL, etc.</li>\n",
    "    <li>A database can be populated with data and be queried </li>\n",
    "</ul>"
   ]
  },
  {
   "cell_type": "markdown",
   "metadata": {},
   "source": [
    "#### 2. Which of the following statements about a Database is/are correct?"
   ]
  },
  {
   "cell_type": "markdown",
   "metadata": {},
   "source": [
    "##### Ans: A database is a logically coherent collection of data with some inherent meaning"
   ]
  },
  {
   "cell_type": "markdown",
   "metadata": {},
   "source": [
    "#### 3. Select the statements below that are correct about database services or database instances:"
   ]
  },
  {
   "cell_type": "markdown",
   "metadata": {},
   "source": [
    "##### Ans:\n",
    "<ul>\n",
    "    <li>Database services are logical abstractions for managing workloads in a database</li>\n",
    "    <li>An instance of the Cloud database operates as a service that handles all application requests to work with the data in any of the databases managed by that instance</li>\n",
    "    <li>The database service instance is the target of the connection requests from applications</li>\n",
    "</ul>"
   ]
  },
  {
   "cell_type": "markdown",
   "metadata": {},
   "source": [
    "#### 4. The 5 basic SQL commands are..."
   ]
  },
  {
   "cell_type": "markdown",
   "metadata": {},
   "source": [
    "##### Ans: CREATE, SELECT, INSERT, UPDATE, DELETE"
   ]
  },
  {
   "cell_type": "markdown",
   "metadata": {},
   "source": [
    "#### 5. A database stores data in tabular form only. True or False?"
   ]
  },
  {
   "cell_type": "markdown",
   "metadata": {},
   "source": [
    "##### Ans: False"
   ]
  }
 ],
 "metadata": {
  "kernelspec": {
   "display_name": "Python 3",
   "language": "python",
   "name": "python3"
  },
  "language_info": {
   "codemirror_mode": {
    "name": "ipython",
    "version": 3
   },
   "file_extension": ".py",
   "mimetype": "text/x-python",
   "name": "python",
   "nbconvert_exporter": "python",
   "pygments_lexer": "ipython3",
   "version": "3.6.4"
  }
 },
 "nbformat": 4,
 "nbformat_minor": 2
}
