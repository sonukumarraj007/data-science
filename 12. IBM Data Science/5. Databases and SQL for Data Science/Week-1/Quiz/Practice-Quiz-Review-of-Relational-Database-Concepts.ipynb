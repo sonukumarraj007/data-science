{
 "cells": [
  {
   "cell_type": "markdown",
   "metadata": {},
   "source": [
    "#### 1. So far you learned that Entity-Relationship Diagrams are a tool to design relational databases, and the concepts of a relational model including the terms entity, attribute, degree, and cardinality. Now let us try and apply the concepts we have learned to a real world example of a database. We will be working on a relational database schema called Car dealership.The diagram below show the schema diagram for the Car Dealership relational database schema.\n",
    "<img src=\"https://d3c33hcgiwev3.cloudfront.net/imageAssetProxy.v1/iR_wskzFEeivHgqn57QrAg_5007ab10c776b62af45223728899f724_Module1_Car_Schema.png?expiry=1539734400000&amp;hmac=BWQriFrt-gCs_TOTUFMFLPOvPnnTmq35sASdWxsnOL4\" alt=\"\">\n",
    "#### A database has to be designed to keep track of automobile sales in a car dealership. Please answer the following questions based on the above schema.\n",
    "\n",
    "### How many relations does the Car dealership Schema contain?"
   ]
  },
  {
   "cell_type": "markdown",
   "metadata": {},
   "source": [
    "##### Ans: 3"
   ]
  },
  {
   "cell_type": "markdown",
   "metadata": {},
   "source": [
    "#### 2. Referring to the CAR DEALERSHIP Database schema above, indicate:\n",
    "\n",
    "#### How many attributes does the relation CAR contain?"
   ]
  },
  {
   "cell_type": "markdown",
   "metadata": {},
   "source": [
    "##### Ans: 4"
   ]
  },
  {
   "cell_type": "markdown",
   "metadata": {},
   "source": [
    "#### 3. Referring to the CAR DEALERSHIP Database schema above, indicate:\n",
    "\n",
    "#### What is the degree of the relation Salesperson?"
   ]
  },
  {
   "cell_type": "markdown",
   "metadata": {},
   "source": [
    "##### Ans: 3"
   ]
  }
 ],
 "metadata": {
  "kernelspec": {
   "display_name": "Python 3",
   "language": "python",
   "name": "python3"
  },
  "language_info": {
   "codemirror_mode": {
    "name": "ipython",
    "version": 3
   },
   "file_extension": ".py",
   "mimetype": "text/x-python",
   "name": "python",
   "nbconvert_exporter": "python",
   "pygments_lexer": "ipython3",
   "version": "3.6.4"
  }
 },
 "nbformat": 4,
 "nbformat_minor": 2
}
