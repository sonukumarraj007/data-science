{
 "cells": [
  {
   "cell_type": "markdown",
   "metadata": {},
   "source": [
    "#### 1. Now let us try and apply the concepts you have learned about relational model constraints to a real world example of a database. We will be working on a relational database schema called Car dealership. The diagram below show the schema diagram for the Car Dealership relational database schema.\n",
    "<img src=\"https://d3c33hcgiwev3.cloudfront.net/imageAssetProxy.v1/eEEuaWp3Eei5FgrpHNEYyg_5aea3f10a8e89713521baf576553b72f_CarDealershipDB.jpg?expiry=1539734400000&amp;hmac=uQmLLatUW89nr2hmGEg75_uHKXD6q0R1a0pZjlYgIaU\" alt=\"\">\n",
    "#### Please answer the following questions based on the above schema:\n",
    "##### Identify the primary key of the relation CAR."
   ]
  },
  {
   "cell_type": "markdown",
   "metadata": {},
   "source": [
    "##### Ans: Serial_no"
   ]
  },
  {
   "cell_type": "markdown",
   "metadata": {},
   "source": [
    "#### 2. Referring to diagram for the Car Dealership database schema in the previous question about the, answer:\n",
    "#### Identify the Foreign Key(s) of the relation SALE."
   ]
  },
  {
   "cell_type": "markdown",
   "metadata": {},
   "source": [
    "##### Ans: Salesperson_id and Serial_no"
   ]
  },
  {
   "cell_type": "markdown",
   "metadata": {},
   "source": [
    "#### 3. Referring to the Car Dealership database schema given above, answer:\n",
    "\n",
    "#### Which which attribute(s) is/are used to enforce Referential Integrity Constraint in the relation SALE?"
   ]
  },
  {
   "cell_type": "markdown",
   "metadata": {},
   "source": [
    "##### Ans: Salesperson_id and Serial_no"
   ]
  }
 ],
 "metadata": {
  "kernelspec": {
   "display_name": "Python 3",
   "language": "python",
   "name": "python3"
  },
  "language_info": {
   "codemirror_mode": {
    "name": "ipython",
    "version": 3
   },
   "file_extension": ".py",
   "mimetype": "text/x-python",
   "name": "python",
   "nbconvert_exporter": "python",
   "pygments_lexer": "ipython3",
   "version": "3.6.4"
  }
 },
 "nbformat": 4,
 "nbformat_minor": 2
}
