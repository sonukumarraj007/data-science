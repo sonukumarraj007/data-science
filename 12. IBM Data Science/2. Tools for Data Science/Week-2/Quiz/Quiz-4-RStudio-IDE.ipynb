{
 "cells": [
  {
   "cell_type": "markdown",
   "metadata": {},
   "source": [
    "#### 1. RStudio IDE allows you to…"
   ]
  },
  {
   "cell_type": "markdown",
   "metadata": {},
   "source": [
    "##### Ans: \n",
    "<ul>\n",
    "    <li>Analyze data</li>\n",
    "    <li>See your console</li>\n",
    "    <li>Visualize your plots and graphs</li>\n",
    "    <li>All of the above</li>\n",
    "</ul>"
   ]
  },
  {
   "cell_type": "markdown",
   "metadata": {},
   "source": [
    "#### 2. The reason why 'sc' is one of the default variables in RStudio IDE on Cognitive Class Labs is because:"
   ]
  },
  {
   "cell_type": "markdown",
   "metadata": {},
   "source": [
    "##### Ans: \"sc\" stands for \"SparkContext\" and is created by default to enable users to use Apache Spark from RStudio IDE."
   ]
  },
  {
   "cell_type": "markdown",
   "metadata": {},
   "source": [
    "#### 3. What are ways that you can execute R code in RStudio?"
   ]
  },
  {
   "cell_type": "markdown",
   "metadata": {},
   "source": [
    "##### Ans: C. From the script editor & console"
   ]
  },
  {
   "cell_type": "markdown",
   "metadata": {},
   "source": [
    "#### 4. True or False? You can view a history of code you have previously executed on RStudio IDE."
   ]
  },
  {
   "cell_type": "markdown",
   "metadata": {},
   "source": [
    "##### Ans: True"
   ]
  },
  {
   "cell_type": "markdown",
   "metadata": {},
   "source": [
    "#### 5. Which of the following options are True? Select all that apply:"
   ]
  },
  {
   "cell_type": "markdown",
   "metadata": {},
   "source": [
    "##### Ans: \n",
    "<ul>\n",
    "    <li>RStudio keeps track of the variables you've assigned in the \"Packages\" window.</li>\n",
    "    <li>You can use built-in datasets (\"dataframes\") in RStudio, such as \"mtcars\".</li>\n",
    "</ul>"
   ]
  }
 ],
 "metadata": {
  "kernelspec": {
   "display_name": "Python 3",
   "language": "python",
   "name": "python3"
  },
  "language_info": {
   "codemirror_mode": {
    "name": "ipython",
    "version": 3
   },
   "file_extension": ".py",
   "mimetype": "text/x-python",
   "name": "python",
   "nbconvert_exporter": "python",
   "pygments_lexer": "ipython3",
   "version": "3.6.4"
  }
 },
 "nbformat": 4,
 "nbformat_minor": 2
}
