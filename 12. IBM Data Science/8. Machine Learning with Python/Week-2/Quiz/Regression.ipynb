{
 "cells": [
  {
   "cell_type": "markdown",
   "metadata": {},
   "source": [
    "#### 1. Multiple Linear Regression is proper for:"
   ]
  },
  {
   "cell_type": "markdown",
   "metadata": {},
   "source": [
    "##### Ans: Predicting tomorrow's rainfall amount based on the wind speed and temperature"
   ]
  },
  {
   "cell_type": "markdown",
   "metadata": {},
   "source": [
    "#### 2. What one is the meaning of \"Out of Sample Accuracy\" in the context of evaluation of models? "
   ]
  },
  {
   "cell_type": "markdown",
   "metadata": {},
   "source": [
    "##### Ans: \"Out of Sample Accuracy\" is the percentage of correct predictions that the model makes on data that the model has NOT been trained on."
   ]
  },
  {
   "cell_type": "markdown",
   "metadata": {},
   "source": [
    "#### 3. When we should use Multiple Linear Regression?"
   ]
  },
  {
   "cell_type": "markdown",
   "metadata": {},
   "source": [
    "##### Ans: (Wrong)\n",
    "- When there are multiple dependent variables\n",
    "- When we would like to identify the strength of the effect that the independent variables have on a dependent variable. \n",
    "- When we would like to predict impacts of changes in independent variables on a dependent variable."
   ]
  },
  {
   "cell_type": "markdown",
   "metadata": {},
   "source": [
    "#### 4. Which of the following options are TRUE about Polynomial Regression?"
   ]
  },
  {
   "cell_type": "markdown",
   "metadata": {},
   "source": [
    "##### Ans: \n",
    "- Polynomial regression models can fit using the method of Least Square method.\n",
    "- Polynomial regression fits a curve line to your data.\n",
    "- Polynomial regression can use the same mechanism as Multiple Linear Regression to find the parameters."
   ]
  },
  {
   "cell_type": "markdown",
   "metadata": {},
   "source": [
    "#### 5. Which sentence is NOT TRUE about Non-linear Regression?"
   ]
  },
  {
   "cell_type": "markdown",
   "metadata": {},
   "source": [
    "##### Ans: Non-linear regression must have more than one dependent variable."
   ]
  }
 ],
 "metadata": {
  "kernelspec": {
   "display_name": "Python 3",
   "language": "python",
   "name": "python3"
  },
  "language_info": {
   "codemirror_mode": {
    "name": "ipython",
    "version": 3
   },
   "file_extension": ".py",
   "mimetype": "text/x-python",
   "name": "python",
   "nbconvert_exporter": "python",
   "pygments_lexer": "ipython3",
   "version": "3.6.4"
  }
 },
 "nbformat": 4,
 "nbformat_minor": 2
}
