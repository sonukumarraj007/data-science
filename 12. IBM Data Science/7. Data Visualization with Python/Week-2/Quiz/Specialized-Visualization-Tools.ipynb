{
 "cells": [
  {
   "cell_type": "markdown",
   "metadata": {},
   "source": [
    "#### 1. Pie charts are less confusing than bar charts and should be your first attempt when creating a visual."
   ]
  },
  {
   "cell_type": "markdown",
   "metadata": {},
   "source": [
    "##### Ans: False"
   ]
  },
  {
   "cell_type": "markdown",
   "metadata": {},
   "source": [
    "#### 2. <img src=\"https://d3c33hcgiwev3.cloudfront.net/imageAssetProxy.v1/uYkg-DhJEeizZhIWROSU4A_1ed0d92500c6ce66e00996a01b5aa592_boxplot.png?expiry=1540252800000&amp;hmac=-adGMqy-JnPqqp7nQc3Tt3lXgL9pofmko7Q0V49g3Eg\" alt=\"\">\n",
    "#### What do the letters in the box plot above represent?"
   ]
  },
  {
   "cell_type": "markdown",
   "metadata": {},
   "source": [
    "##### Ans: A = Median, B = Third Quartile, C = First Quartile, D = Inter Quartile Range, E = Minimum, and F = Outliers"
   ]
  },
  {
   "cell_type": "markdown",
   "metadata": {},
   "source": [
    "#### 3. What is the correct combination of function and parameter to create a box plot in Matplotlib?"
   ]
  },
  {
   "cell_type": "markdown",
   "metadata": {},
   "source": [
    "##### Ans: Function = plot, and Parameter = kind with value = \"box\""
   ]
  },
  {
   "cell_type": "markdown",
   "metadata": {},
   "source": [
    "#### 4. Which of the lines of code below will create the following scatter plot, given the pandas dataframe, df_total?\n",
    "<img src=\"https://d3c33hcgiwev3.cloudfront.net/imageAssetProxy.v1/XlfvbDwOEeiUEwpDBScAAA_3f3f034b93daff111b04b102b76f4926_scatter_plot.png?expiry=1540252800000&amp;hmac=sJMr2ZXcCIgLQmQzsgcQxta-EbKVBZ0Em2CGhhA6SZo\" alt=\"\">"
   ]
  },
  {
   "cell_type": "raw",
   "metadata": {},
   "source": [
    "##### Ans: \n",
    "\n",
    "import matplotlib.pyplot as plt\n",
    "\n",
    "df_total.plot(kind='scatter', x='year', y='total')\n",
    "\n",
    "plt.title('Total Immigrant population to Canada from 1980 - 2013')\n",
    "plt.xlabel ('Year')\n",
    "plt.ylabel('Number of Immigrants')"
   ]
  },
  {
   "cell_type": "markdown",
   "metadata": {},
   "source": [
    "#### 5. A bubble plot is a variation of the scatter plot that displays three dimensions of data."
   ]
  },
  {
   "cell_type": "markdown",
   "metadata": {},
   "source": [
    "##### Ans: True."
   ]
  }
 ],
 "metadata": {
  "kernelspec": {
   "display_name": "Python 3",
   "language": "python",
   "name": "python3"
  },
  "language_info": {
   "codemirror_mode": {
    "name": "ipython",
    "version": 3
   },
   "file_extension": ".py",
   "mimetype": "text/x-python",
   "name": "python",
   "nbconvert_exporter": "python",
   "pygments_lexer": "ipython3",
   "version": "3.6.4"
  }
 },
 "nbformat": 4,
 "nbformat_minor": 2
}
