{
 "cells": [
  {
   "cell_type": "markdown",
   "metadata": {},
   "source": [
    "#### 1. select the appropriate table for the following line of code:\n",
    "> df1=pd.DataFrame({'A':[\"a\",\"b\",\"a\",\"c\",\"a\",\"c\",\"b\"]})\n",
    ">> df1['A'].value_counts()"
   ]
  },
  {
   "cell_type": "markdown",
   "metadata": {},
   "source": [
    "##### Ans: \n",
    "<span data-js=\"option-display\"><div data-reactroot=\"\" class=\"rc-CML styled\"><div><table><thead><tr><th scope=\"col\">value</th><th scope=\"col\">counts</th></tr></thead><tbody><tr><td>a</td><td>3</td></tr><tr><td>b</td><td>2</td></tr><tr><td>c</td><td>2</td></tr></tbody></table></div></div></span>"
   ]
  },
  {
   "cell_type": "markdown",
   "metadata": {},
   "source": [
    "#### 2. Consider the following scatter plot, what kind of relationship do the two variables have\n",
    "<img src=\"https://d3c33hcgiwev3.cloudfront.net/imageAssetProxy.v1/BV6fQznTEeiM9Q4Js9CcVg_34ff8f3f543d6bcbb6a6ec6d86ac101c_Screen-Shot-2018-04-06-at-3.29.04-PM.png?expiry=1539216000000&amp;hmac=JnwyuKnrdGGEZQwc7Ex8qPD_4YiP9aw3N9awoAtmmNM\" alt=\"\">"
   ]
  },
  {
   "cell_type": "markdown",
   "metadata": {},
   "source": [
    "##### Ans: positive linear relationship"
   ]
  }
 ],
 "metadata": {
  "kernelspec": {
   "display_name": "Python 3",
   "language": "python",
   "name": "python3"
  },
  "language_info": {
   "codemirror_mode": {
    "name": "ipython",
    "version": 3
   },
   "file_extension": ".py",
   "mimetype": "text/x-python",
   "name": "python",
   "nbconvert_exporter": "python",
   "pygments_lexer": "ipython3",
   "version": "3.6.4"
  }
 },
 "nbformat": 4,
 "nbformat_minor": 2
}
