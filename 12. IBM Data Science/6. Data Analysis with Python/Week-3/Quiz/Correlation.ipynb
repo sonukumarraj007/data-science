{
 "cells": [
  {
   "cell_type": "markdown",
   "metadata": {},
   "source": [
    "#### 1. If umbrella usage is correlated with rain, does that mean that umbrellas cause rain"
   ]
  },
  {
   "cell_type": "markdown",
   "metadata": {},
   "source": [
    "##### Ans: False"
   ]
  },
  {
   "cell_type": "markdown",
   "metadata": {},
   "source": [
    "#### 2. Select the scatter plot with weak correlation"
   ]
  },
  {
   "cell_type": "markdown",
   "metadata": {},
   "source": [
    "##### Ans: <img src=\"https://d3c33hcgiwev3.cloudfront.net/imageAssetProxy.v1/MUNxfTnZEeidXxL-BXBIhA_a80090a75e7259c18c9e66a2ba835170_Screen-Shot-2018-04-06-at-4.28.18-PM.png?expiry=1539302400000&amp;hmac=GPmqPxFyOnCbc5JAmnDCwhmudzDaHda9wfZpsDwI7e8\" alt=\"\">"
   ]
  }
 ],
 "metadata": {
  "kernelspec": {
   "display_name": "Python 3",
   "language": "python",
   "name": "python3"
  },
  "language_info": {
   "codemirror_mode": {
    "name": "ipython",
    "version": 3
   },
   "file_extension": ".py",
   "mimetype": "text/x-python",
   "name": "python",
   "nbconvert_exporter": "python",
   "pygments_lexer": "ipython3",
   "version": "3.6.4"
  }
 },
 "nbformat": 4,
 "nbformat_minor": 2
}
