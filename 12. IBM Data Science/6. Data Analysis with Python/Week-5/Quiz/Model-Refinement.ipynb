{
 "cells": [
  {
   "cell_type": "markdown",
   "metadata": {},
   "source": [
    "#### 1. What is the correct use of the \"train_test_split\" function such that 40% of the data samples will be utilized for testing, the parameter \"random_state\" is set to zero, and the input variables for the features and targets are x_data, y_data respectively."
   ]
  },
  {
   "cell_type": "markdown",
   "metadata": {},
   "source": [
    "##### Ans: train_test_split(x_data, y_data, test_size=0.4, random_state=0)"
   ]
  },
  {
   "cell_type": "markdown",
   "metadata": {},
   "source": [
    "#### 2. What is the output of:\n",
    ">  cross_val_score(lre, x_data, y_data, cv=2)"
   ]
  },
  {
   "cell_type": "markdown",
   "metadata": {},
   "source": [
    "##### Ans: The predicted values of the test data using cross-validation."
   ]
  },
  {
   "cell_type": "markdown",
   "metadata": {},
   "source": [
    "#### 3. What is the output of:\n",
    "> cross_val_predict (lr2e, x_data, y_data, cv=3)"
   ]
  },
  {
   "cell_type": "markdown",
   "metadata": {},
   "source": [
    "##### Ans: The predicted values of the test data using cross-validation."
   ]
  },
  {
   "cell_type": "markdown",
   "metadata": {},
   "source": [
    "#### 4. What dictionary value would we use to perform a grid search to determine if normalization should be used and testing the following values of alpha: 1,10, 100"
   ]
  },
  {
   "cell_type": "markdown",
   "metadata": {},
   "source": [
    "##### Ans: [{'alpha':[1,10,100],'normalize':[True,False]} ]"
   ]
  },
  {
   "cell_type": "markdown",
   "metadata": {},
   "source": [
    "#### 5. You have a linear model the average R^2 value on your training data is 0.5, you perform a 100th order polynomial transform on your data then use these values to train another model. After this step, your average R^2 is 0.99 which comment is correct"
   ]
  },
  {
   "cell_type": "markdown",
   "metadata": {},
   "source": [
    "##### Ans: the results on your training data is not the best indicator of how your model performs, you should use your test data to get a better idea"
   ]
  },
  {
   "cell_type": "markdown",
   "metadata": {},
   "source": [
    "#### 6. The following is an example of:\n",
    "<img src=\"https://d3c33hcgiwev3.cloudfront.net/imageAssetProxy.v1/bQe6jTd-EeiXeAoF3sTtsA_a2e60ade500ba6d3b93fe11037f0593d_Screen-Shot-2018-04-03-at-4.34.36-PM.png?expiry=1545868800000&amp;hmac=lKNgRQDZa0uMBCrjHoPF2j4x9kCs_PkZH0KdtJwaD1c\" alt=\"\">"
   ]
  },
  {
   "cell_type": "markdown",
   "metadata": {},
   "source": [
    "##### Ans: overfitting "
   ]
  },
  {
   "cell_type": "markdown",
   "metadata": {},
   "source": [
    "#### 7. The following is an example of:\n",
    "<img src=\"https://d3c33hcgiwev3.cloudfront.net/imageAssetProxy.v1/SBkr8zeEEeissBKg1xWY5A_00227225a1f9f10045c83602ccef31e7_Screen-Shot-2018-04-03-at-5.17.08-PM.png?expiry=1545868800000&amp;hmac=K_maIXh44hvPGL7U0oI-_6stdjpVUOOiE496fdMeI4E\" alt=\"\">"
   ]
  },
  {
   "cell_type": "markdown",
   "metadata": {},
   "source": [
    "##### Ans: underfitting "
   ]
  }
 ],
 "metadata": {
  "kernelspec": {
   "display_name": "Python 3",
   "language": "python",
   "name": "python3"
  },
  "language_info": {
   "codemirror_mode": {
    "name": "ipython",
    "version": 3
   },
   "file_extension": ".py",
   "mimetype": "text/x-python",
   "name": "python",
   "nbconvert_exporter": "python",
   "pygments_lexer": "ipython3",
   "version": "3.7.6"
  }
 },
 "nbformat": 4,
 "nbformat_minor": 2
}
